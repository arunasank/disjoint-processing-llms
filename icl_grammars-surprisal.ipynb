{
 "cells": [
  {
   "cell_type": "code",
   "execution_count": 1,
   "id": "40ba8617-d200-495e-8e99-94436f49900b",
   "metadata": {},
   "outputs": [
    {
     "name": "stdout",
     "output_type": "stream",
     "text": [
      "Tue Nov 14 21:35:38 2023       \n",
      "+-----------------------------------------------------------------------------+\n",
      "| NVIDIA-SMI 525.105.17   Driver Version: 525.105.17   CUDA Version: 12.0     |\n",
      "|-------------------------------+----------------------+----------------------+\n",
      "| GPU  Name        Persistence-M| Bus-Id        Disp.A | Volatile Uncorr. ECC |\n",
      "| Fan  Temp  Perf  Pwr:Usage/Cap|         Memory-Usage | GPU-Util  Compute M. |\n",
      "|                               |                      |               MIG M. |\n",
      "|===============================+======================+======================|\n",
      "|   0  Tesla V100-PCIE...  On   | 00000000:86:00.0 Off |                  Off |\n",
      "| N/A   52C    P0   148W / 150W |  32050MiB / 32768MiB |     94%      Default |\n",
      "|                               |                      |                  N/A |\n",
      "+-------------------------------+----------------------+----------------------+\n",
      "                                                                               \n",
      "+-----------------------------------------------------------------------------+\n",
      "| Processes:                                                                  |\n",
      "|  GPU   GI   CI        PID   Type   Process name                  GPU Memory |\n",
      "|        ID   ID                                                   Usage      |\n",
      "|=============================================================================|\n",
      "|    0   N/A  N/A    124491      C   ...thon-LLM-2023b/bin/python    32046MiB |\n",
      "+-----------------------------------------------------------------------------+\n"
     ]
    }
   ],
   "source": [
    "!nvidia-smi"
   ]
  },
  {
   "cell_type": "code",
   "execution_count": 2,
   "id": "a1851da1-fb22-47d6-870f-a09542f5f90d",
   "metadata": {},
   "outputs": [],
   "source": [
    "from transformers import (\n",
    "    AutoTokenizer, AutoModelForCausalLM,\n",
    "    BitsAndBytesConfig\n",
    ")"
   ]
  },
  {
   "cell_type": "code",
   "execution_count": 3,
   "id": "1e2a66b9-6d48-4f7c-bd20-fab227300212",
   "metadata": {},
   "outputs": [],
   "source": [
    "from datasets import Dataset, load_dataset\n",
    "import torch\n",
    "import random\n",
    "import pandas as pd"
   ]
  },
  {
   "cell_type": "code",
   "execution_count": 4,
   "id": "493a57f5-cf9c-496b-bf00-d9e461501255",
   "metadata": {},
   "outputs": [],
   "source": [
    "model_name = \"mistralai/Mistral-7B-v0.1\"\n",
    "device=\"cuda:0\""
   ]
  },
  {
   "cell_type": "code",
   "execution_count": 8,
   "id": "9ad53ccd-1955-4006-bf0f-3a42fe2c9218",
   "metadata": {},
   "outputs": [],
   "source": [
    "tokenizer = AutoTokenizer.from_pretrained(f'../tokenizers/{model_name}')"
   ]
  },
  {
   "cell_type": "code",
   "execution_count": 9,
   "id": "1ee93f80-271f-4da3-b407-186f28814edf",
   "metadata": {},
   "outputs": [
    {
     "name": "stderr",
     "output_type": "stream",
     "text": [
      "2023-11-14 21:11:45.202281: I tensorflow/core/util/port.cc:110] oneDNN custom operations are on. You may see slightly different numerical results due to floating-point round-off errors from different computation orders. To turn them off, set the environment variable `TF_ENABLE_ONEDNN_OPTS=0`.\n",
      "2023-11-14 21:11:45.203963: I tensorflow/tsl/cuda/cudart_stub.cc:28] Could not find cuda drivers on your machine, GPU will not be used.\n",
      "2023-11-14 21:11:45.240211: I tensorflow/core/platform/cpu_feature_guard.cc:182] This TensorFlow binary is optimized to use available CPU instructions in performance-critical operations.\n",
      "To enable the following instructions: AVX2 AVX512F AVX512_VNNI FMA, in other operations, rebuild TensorFlow with the appropriate compiler flags.\n",
      "2023-11-14 21:11:46.029779: W tensorflow/compiler/tf2tensorrt/utils/py_utils.cc:38] TF-TRT Warning: Could not find TensorRT\n"
     ]
    },
    {
     "data": {
      "application/vnd.jupyter.widget-view+json": {
       "model_id": "6f19c1bec2a74034a9b41a0bea50f6ce",
       "version_major": 2,
       "version_minor": 0
      },
      "text/plain": [
       "Loading checkpoint shards:   0%|          | 0/6 [00:00<?, ?it/s]"
      ]
     },
     "metadata": {},
     "output_type": "display_data"
    }
   ],
   "source": [
    "model = AutoModelForCausalLM.from_pretrained(f'../models/{model_name}')"
   ]
  },
  {
   "cell_type": "code",
   "execution_count": 10,
   "id": "b8597c88-a035-41c0-b6e6-a59f34780538",
   "metadata": {},
   "outputs": [
    {
     "data": {
      "text/plain": [
       "MistralForCausalLM(\n",
       "  (model): MistralModel(\n",
       "    (embed_tokens): Embedding(32000, 4096)\n",
       "    (layers): ModuleList(\n",
       "      (0-31): 32 x MistralDecoderLayer(\n",
       "        (self_attn): MistralAttention(\n",
       "          (q_proj): Linear(in_features=4096, out_features=4096, bias=False)\n",
       "          (k_proj): Linear(in_features=4096, out_features=1024, bias=False)\n",
       "          (v_proj): Linear(in_features=4096, out_features=1024, bias=False)\n",
       "          (o_proj): Linear(in_features=4096, out_features=4096, bias=False)\n",
       "          (rotary_emb): MistralRotaryEmbedding()\n",
       "        )\n",
       "        (mlp): MistralMLP(\n",
       "          (gate_proj): Linear(in_features=4096, out_features=14336, bias=False)\n",
       "          (up_proj): Linear(in_features=4096, out_features=14336, bias=False)\n",
       "          (down_proj): Linear(in_features=14336, out_features=4096, bias=False)\n",
       "          (act_fn): SiLUActivation()\n",
       "        )\n",
       "        (input_layernorm): MistralRMSNorm()\n",
       "        (post_attention_layernorm): MistralRMSNorm()\n",
       "      )\n",
       "    )\n",
       "    (norm): MistralRMSNorm()\n",
       "  )\n",
       "  (lm_head): Linear(in_features=4096, out_features=32000, bias=False)\n",
       ")"
      ]
     },
     "execution_count": 10,
     "metadata": {},
     "output_type": "execute_result"
    }
   ],
   "source": [
    "model.to(device)"
   ]
  },
  {
   "cell_type": "code",
   "execution_count": 11,
   "id": "8d06edd9-661f-4444-8656-c4f3434b59e4",
   "metadata": {},
   "outputs": [],
   "source": [
    "df = pd.read_csv('ngs.csv')\n",
    "df.drop(labels=['Unnamed: 0'], inplace=True, axis='columns')"
   ]
  },
  {
   "cell_type": "code",
   "execution_count": 12,
   "id": "32947686-43a8-4bd9-ae23-6198d762ae25",
   "metadata": {},
   "outputs": [],
   "source": [
    "def parse_answer(text):\n",
    "    answer = text.split(\"A:\")[-1].strip()\n",
    "    return answer\n",
    "\n",
    "def construct_prompt(train_dataset, num_demonstrations):\n",
    "    assert num_demonstrations > 0\n",
    "    prompt = ''\n",
    "    train_examples = train_dataset.shuffle().select(range(num_demonstrations))\n",
    "    for exemplar_num in range(num_demonstrations):\n",
    "        train_example = train_examples[exemplar_num]\n",
    "        use_bad_sentence = random.choice([True, False])\n",
    "        exemplar = \"Q: Is this sentence grammatical? Yes or No: \"\n",
    "        if use_bad_sentence:\n",
    "            exemplar += train_example[\"ng-\" + col]\n",
    "            exemplar += \"\\nA: No\"\n",
    "        else:\n",
    "            exemplar += train_example[col]\n",
    "            exemplar += \"\\nA: Yes\"\n",
    "        exemplar += \"\\n\\n\"\n",
    "        prompt += exemplar\n",
    "    return prompt\n",
    "\n",
    "def compute_accuracy(preds, golds):\n",
    "    assert len(preds) == len(golds)\n",
    "    total = 0\n",
    "    correct = 0\n",
    "    for pred, gold in zip(preds, golds):\n",
    "        if pred == gold:\n",
    "            correct += 1\n",
    "        total += 1\n",
    "    return correct / total"
   ]
  },
  {
   "cell_type": "code",
   "execution_count": null,
   "id": "0369f83b-fff4-4681-bdec-ae1c647bd94f",
   "metadata": {},
   "outputs": [
    {
     "name": "stdout",
     "output_type": "stream",
     "text": [
      "____________________CLASSIFICATION (TRAIN TEST)____________________\n",
      "\n",
      "____________________NUM DEMONSTRATIONS = 10____________________\n",
      "\n",
      "<s> We will provide you a set of sentences which follow or violate a grammatical structure. \n",
      " The sentences may use subjects and objects from the following nouns - author, banana, biscuit, book, bottle, box, boy, bulb, cap, cat, chalk, chapter, cucumber, cup, dog, fish, fruit, girl, Gomu, Harry, hill, John, Leela, man, Maria, meal, mountain, mouse, newspaper, pear, pizza, poem, poet, rock, roof, Sheela, speaker, staircase, story, teacher, Tom, toy, tree, woman, writer.\n",
      "The sentences may use any of the following verbs - brings, carries, claims, climbs, eats, holds, notices, reads, says, sees, states, takes.\n",
      " Each noun in a sentence may sometimes use a different determiner than those found in English. Here is a reference of determiners that can be used by nouns: \"pear\": \"kar\", \"author\": \"kon\", \"authors\": \"kons\", \"banana\": \"kar\", \"biscuit\": \"kon\", \"book\": \"kon\", \"bottle\": \"kar\", \"box\": \"kar\", \"boy\": \"kon\", \"boys\": \"kons\", \"bulb\": \"kar\", \"cabinet\": \"kar\", \"cap\": \"kon\", \"cat\": \"kon\", \"cats\": \"kons\", \"chapter\": \"kon\", \"chalk\": \"kon\", \"cup\": \"kar\", \"cucumber\": \"kon\", \"dog\": \"kon\", \"dogs\": \"kons\", \"fish\": \"kon\", \"fruit\": \"kar\", \"girl\": \"kar\", \"girls\": \"kars\", \"hill\": \"kar\", \"man\": \"kon\", \"men\": \"kons\", \"meal\": \"kon\", \"mountain\": \"kar\", \"mouse\": \"kon\", \"newspaper\": \"kon\", \"pizza\": \"kar\", \"poet\": \"kon\", \"poets\": \"kons\", \"poem\": \"kar\", \"rock\": \"kon\", \"roof\": \"kon\", \"speaker\": \"kon\", \"speakers\": \"kons\", \"staircase\": \"kar\", \"story\": \"kar\", \"teacher\": \"kon\", \"teachers\": \"kons\", \"toy\": \"kon\", \"tree\": \"kar\", \"woman\": \"kar\", \"women\": \"kars\", \"writer\": \"kon\", \"writers\": \"kons\". Each verb in a sentence may sometimes use the past tense of the verb if it is more appropriate. Here are a set of verbs and their past tenses - \"climbs\" : \"climbed\", \"reads\": \"read\", \"carries\": \"carried\", \"eats\": \"ate\", \"holds\": \"held\", \"takes\" :\"took\", \"brings\": \"brought\", \"reads\": \"read\", \"climb\" : \"climbed\", \"read\": \"read\", \"carry\": \"carried\", \"eat\": \"ate\", \"hold\": \"held\", \"take\" :\"took\", \"bring\": \"brought\", \"read\": \"read\"\n",
      " The sentences may sometimes use the infinitive forms of a verb. Here are a set of verbs and their infinitives - \"climbs\" : \"to climb\", \"reads\": \"to read\", \"carries\": \"to carry\", \"eats\": \"to eat\", \"holds\": \"to hold\", \"takes\" : \"to take\", \"brings\": \"to bring\", \"reads\": \"to read\", \"climb\" : \"to climb\", \"read\": \"to read\", \"carry\": \"to carry\", \"eat\": \"to eat\", \"hold\": \"to hold\", \"take\" : \"to take\", \"bring\": \"to bring\", \"read\": \"to read\". \n",
      " The sentences may sometimes use the plural form of a noun. Here are a set of nouns and their plurals - \"fish\": \"fish\", \"mouse\": \"mice\", \"bottle\": \"bottles\", \"newspaper\": \"newspapers\", \"chalk\": \"chalks\", \"box\": \"boxes\", \"cap\": \"caps\", \"bulb\": \"bulbs\", \"cup\": \"cups\", \"toy\": \"toys\", \"staircase\": \"staircases\", \"rock\": \"rocks\", \"hill\": \"hills\", \"mountain\": \"mountains\", \"roof\": \"roofs\", \"tree\": \"trees\", \"biscuit\": \"biscuits\", \"banana\": \"bananas\", \"pear\": \"pears\", \"meal\": \"meals\", \"fruit\": \"fruits\", \"cucumber\": \"cucumbers\", \"pizza\": \"pizzas\", \"book\": \"books\", \"poem\": \"poems\", \"story\": \"stories\", \"chapter\": \"chapters\". \n",
      " The sentences may sometimes use the passive form of a verb. Here are a set of verbs and their passive forms - \"carries\": \"carried\", \"carry\": \"carried\", \"holds\": \"held\", \"hold\": \"held\", \"takes\": \"taken\", \"take\": \"taken\", \"brings\": \"brought\", \"bring\": \"brought\", \"climbs\": \"climbed\", \"climb\": \"climbed\", \"eats\": \"eaten\", \"eat\": \"eaten\", \"reads\": \"read\", \"read\": \"read\"\n",
      "\n",
      "Q: Is this sentence grammatical? Yes or No: a woman holds a bottle\n",
      "A: Yes\n",
      "\n",
      "Q: Is this sentence grammatical? Yes or No: the man brings a cap\n",
      "A: Yes\n",
      "\n",
      "Q: Is this sentence grammatical? Yes or No: the dogs hold the box\n",
      "A: Yes\n",
      "\n",
      "Q: Is this sentence grammatical? Yes or No: a woman brings the fish\n",
      "A: Yes\n",
      "\n",
      "Q: Is this sentence grammatical? Yes or No: the girls take a cap\n",
      "A: Yes\n",
      "\n",
      "Q: Is this sentence grammatical? Yes or No: the holds cat the bulb\n",
      "A: No\n",
      "\n",
      "Q: Is this sentence grammatical? Yes or No: the girls climb a staircase\n",
      "A: Yes\n",
      "\n",
      "Q: Is this sentence grammatical? Yes or No: the boys bring a box\n",
      "A: Yes\n",
      "\n",
      "Q: Is this sentence grammatical? Yes or No: the girl holds a mouse\n",
      "A: Yes\n",
      "\n",
      "Q: Is this sentence grammatical? Yes or No: the cats carry cap the\n",
      "A: No\n",
      "\n",
      "Q: Is this sentence grammatical? Yes or No: the dog brings cup the\n",
      "A: Yes\n",
      "\n"
     ]
    }
   ],
   "source": [
    "preds = []\n",
    "golds = []\n",
    "\n",
    "filename = \"classification-train-test.txt\"\n",
    "f = open(filename, \"a\")\n",
    "\n",
    "print(\"____________________CLASSIFICATION (TRAIN TEST)____________________\\n\")\n",
    "f.write(\"____________________CLASSIFICATION (TRAIN TEST)____________________\\n\")\n",
    "\n",
    "gCols = [col for col in df.columns if not 'ng' in col]\n",
    "datasets = {}\n",
    "for col in gCols:\n",
    "    datasets[col] = Dataset.from_pandas(pd.DataFrame(df[[col, 'ng-' + col]].copy())).train_test_split(test_size=0.2)\n",
    "\n",
    "master_prompt = 'We will provide you a set of sentences which follow or violate a grammatical structure. \\n The sentences may use subjects and objects from the following nouns - author, banana, biscuit, book, bottle, box, boy, bulb, cap, cat, chalk, chapter, cucumber, cup, dog, fish, fruit, girl, Gomu, Harry, hill, John, Leela, man, Maria, meal, mountain, mouse, newspaper, pear, pizza, poem, poet, rock, roof, Sheela, speaker, staircase, story, teacher, Tom, toy, tree, woman, writer.\\nThe sentences may use any of the following verbs - brings, carries, claims, climbs, eats, holds, notices, reads, says, sees, states, takes.\\n Each noun in a sentence may sometimes use a different determiner than those found in English. Here is a reference of determiners that can be used by nouns: \"pear\": \"kar\", \"author\": \"kon\", \"authors\": \"kons\", \"banana\": \"kar\", \"biscuit\": \"kon\", \"book\": \"kon\", \"bottle\": \"kar\", \"box\": \"kar\", \"boy\": \"kon\", \"boys\": \"kons\", \"bulb\": \"kar\", \"cabinet\": \"kar\", \"cap\": \"kon\", \"cat\": \"kon\", \"cats\": \"kons\", \"chapter\": \"kon\", \"chalk\": \"kon\", \"cup\": \"kar\", \"cucumber\": \"kon\", \"dog\": \"kon\", \"dogs\": \"kons\", \"fish\": \"kon\", \"fruit\": \"kar\", \"girl\": \"kar\", \"girls\": \"kars\", \"hill\": \"kar\", \"man\": \"kon\", \"men\": \"kons\", \"meal\": \"kon\", \"mountain\": \"kar\", \"mouse\": \"kon\", \"newspaper\": \"kon\", \"pizza\": \"kar\", \"poet\": \"kon\", \"poets\": \"kons\", \"poem\": \"kar\", \"rock\": \"kon\", \"roof\": \"kon\", \"speaker\": \"kon\", \"speakers\": \"kons\", \"staircase\": \"kar\", \"story\": \"kar\", \"teacher\": \"kon\", \"teachers\": \"kons\", \"toy\": \"kon\", \"tree\": \"kar\", \"woman\": \"kar\", \"women\": \"kars\", \"writer\": \"kon\", \"writers\": \"kons\". Each verb in a sentence may sometimes use the past tense of the verb if it is more appropriate. Here are a set of verbs and their past tenses - \"climbs\" : \"climbed\", \"reads\": \"read\", \"carries\": \"carried\", \"eats\": \"ate\", \"holds\": \"held\", \"takes\" :\"took\", \"brings\": \"brought\", \"reads\": \"read\", \"climb\" : \"climbed\", \"read\": \"read\", \"carry\": \"carried\", \"eat\": \"ate\", \"hold\": \"held\", \"take\" :\"took\", \"bring\": \"brought\", \"read\": \"read\"\\n The sentences may sometimes use the infinitive forms of a verb. Here are a set of verbs and their infinitives - \"climbs\" : \"to climb\", \"reads\": \"to read\", \"carries\": \"to carry\", \"eats\": \"to eat\", \"holds\": \"to hold\", \"takes\" : \"to take\", \"brings\": \"to bring\", \"reads\": \"to read\", \"climb\" : \"to climb\", \"read\": \"to read\", \"carry\": \"to carry\", \"eat\": \"to eat\", \"hold\": \"to hold\", \"take\" : \"to take\", \"bring\": \"to bring\", \"read\": \"to read\". \\n The sentences may sometimes use the plural form of a noun. Here are a set of nouns and their plurals - \"fish\": \"fish\", \"mouse\": \"mice\", \"bottle\": \"bottles\", \"newspaper\": \"newspapers\", \"chalk\": \"chalks\", \"box\": \"boxes\", \"cap\": \"caps\", \"bulb\": \"bulbs\", \"cup\": \"cups\", \"toy\": \"toys\", \"staircase\": \"staircases\", \"rock\": \"rocks\", \"hill\": \"hills\", \"mountain\": \"mountains\", \"roof\": \"roofs\", \"tree\": \"trees\", \"biscuit\": \"biscuits\", \"banana\": \"bananas\", \"pear\": \"pears\", \"meal\": \"meals\", \"fruit\": \"fruits\", \"cucumber\": \"cucumbers\", \"pizza\": \"pizzas\", \"book\": \"books\", \"poem\": \"poems\", \"story\": \"stories\", \"chapter\": \"chapters\". \\n The sentences may sometimes use the passive form of a verb. Here are a set of verbs and their passive forms - \"carries\": \"carried\", \"carry\": \"carried\", \"holds\": \"held\", \"hold\": \"held\", \"takes\": \"taken\", \"take\": \"taken\", \"brings\": \"brought\", \"bring\": \"brought\", \"climbs\": \"climbed\", \"climb\": \"climbed\", \"eats\": \"eaten\", \"eat\": \"eaten\", \"reads\": \"read\", \"read\": \"read\"\\n\\n'\n",
    "\n",
    "for NUM_DEMONSTRATIONS in range(10, 15, 5):\n",
    "    print(f\"____________________NUM DEMONSTRATIONS = {NUM_DEMONSTRATIONS}____________________\\n\")\n",
    "    f.write(f\"____________________NUM DEMONSTRATIONS = {NUM_DEMONSTRATIONS}____________________\\n\")\n",
    "    f.flush()\n",
    "    for col in gCols:\n",
    "        filename2 = f\"classification-train-test-{col}-prompts.txt\"\n",
    "        m = open(filename2, \"a\")\n",
    "        train_dataset = datasets[col]['train']\n",
    "        test_dataset = datasets[col]['test']\n",
    "        prompt = ''\n",
    "        printAnswer = True\n",
    "        for test_sentence in train_dataset:\n",
    "            testBadOrGood = random.choice(['ng-', ''])\n",
    "            prompt = construct_prompt(train_dataset, NUM_DEMONSTRATIONS)\n",
    "            # Append test example\n",
    "            prompt += \"Q: Is this sentence grammatical? Yes or No: \"\n",
    "            prompt += test_sentence[testBadOrGood + col]\n",
    "            prompt += \"\\nA:\"\n",
    "            if testBadOrGood == 'ng-':\n",
    "                golds.append(\"No\")\n",
    "            else:\n",
    "                golds.append(\"Yes\")\n",
    "\n",
    "            # Get answer from model\n",
    "            model_inputs = tokenizer([master_prompt + prompt], return_tensors=\"pt\").to(device)\n",
    "            # answer = model.generate(prompt_tok,\n",
    "            #                     top_p=0.9, temperature=0.1,\n",
    "            #                     max_new_tokens=2)\n",
    "            answer = model.generate(**model_inputs, pad_token_id=tokenizer.eos_token_id, max_new_tokens=2, do_sample=True)\n",
    "            answer = tokenizer.batch_decode(answer)[0]\n",
    "            if printAnswer:\n",
    "                print(answer)\n",
    "                printAnswer = False\n",
    "            m.write(answer.split(master_prompt)[1] + \"\\n\\n-------------------------------------\\n\\n\")\n",
    "            m.flush()\n",
    "            preds.append(parse_answer(answer))\n",
    "\n",
    "        m.close()\n",
    "        # Evaluate\n",
    "        accuracy = compute_accuracy(preds, golds)\n",
    "        print(f\"{col} -- Accuracy: {accuracy:.2f}\\n\")\n",
    "        f.write(f\"{col} -- Accuracy: {accuracy:.2f}\\n\")\n",
    "        f.flush()"
   ]
  },
  {
   "cell_type": "code",
   "execution_count": null,
   "id": "179e8094-7af6-488d-b064-4ebba3347f64",
   "metadata": {},
   "outputs": [],
   "source": [
    "preds = []\n",
    "golds = []\n",
    "\n",
    "gCols = [col for col in df.columns if not 'ng' in col]\n",
    "datasets = {}\n",
    "for col in gCols:\n",
    "    datasets[col] = Dataset.from_pandas(pd.DataFrame(df[[col, 'ng-' + col]].copy())).train_test_split(test_size=0.2)\n",
    "\n",
    "filename = \"classification-train-train.txt\"\n",
    "f = open(filename, \"a\")\n",
    "\n",
    "\n",
    "print(\"____________________CLASSIFICATION (TRAIN TRAIN)____________________\\n\")\n",
    "f.write(\"____________________CLASSIFICATION (TRAIN TRAIN)____________________\\n\")\n",
    "\n",
    "for NUM_DEMONSTRATIONS in range(10, 30, 5):\n",
    "    print(f\"____________________NUM DEMONSTRATIONS = {NUM_DEMONSTRATIONS}____________________\\n\")\n",
    "    f.write(f\"____________________NUM DEMONSTRATIONS = {NUM_DEMONSTRATIONS}____________________\\n\")\n",
    "    for col in gCols:\n",
    "        train_dataset = datasets[col]['train']\n",
    "        test_dataset = datasets[col]['test']\n",
    "        prompt = ''\n",
    "        printAnswer = False\n",
    "        for test_sentence in train_dataset:\n",
    "            testBadOrGood = random.choice(['ng-', ''])\n",
    "            prompt = construct_prompt(train_dataset, NUM_DEMONSTRATIONS)\n",
    "            # Append test example\n",
    "            prompt += \"Q: Is this sentence grammatical? Yes or No: \"\n",
    "            prompt += test_sentence[testBadOrGood + col]\n",
    "            prompt += \"\\nA:\"\n",
    "            if testBadOrGood == 'ng-':\n",
    "                golds.append(\"No\")\n",
    "            else:\n",
    "                golds.append(\"Yes\")\n",
    "\n",
    "            # Get answer from model\n",
    "            model_inputs = tokenizer([prompt], return_tensors=\"pt\").to(device)\n",
    "            # answer = model.generate(prompt_tok,\n",
    "            #                     top_p=0.9, temperature=0.1,\n",
    "            #                     max_new_tokens=2)\n",
    "            answer = model.generate(**model_inputs, pad_token_id=tokenizer.eos_token_id, max_new_tokens=2, do_sample=True)\n",
    "            answer = tokenizer.batch_decode(answer)[0]\n",
    "            if printAnswer:\n",
    "                print(answer)\n",
    "                printAnswer = False\n",
    "            preds.append(parse_answer(answer))\n",
    "\n",
    "        # Evaluate\n",
    "        accuracy = compute_accuracy(preds, golds)\n",
    "        print(f\"{col} -- Accuracy: {accuracy:.2f}\\n\")\n",
    "        f.write(f\"{col} -- Accuracy: {accuracy:.2f}\\n\")"
   ]
  },
  {
   "cell_type": "code",
   "execution_count": null,
   "id": "86ba58f3-c456-4c19-8931-799ab25c5ad3",
   "metadata": {},
   "outputs": [],
   "source": []
  }
 ],
 "metadata": {
  "kernelspec": {
   "display_name": "Python 3 (ipykernel)",
   "language": "python",
   "name": "python3"
  },
  "language_info": {
   "codemirror_mode": {
    "name": "ipython",
    "version": 3
   },
   "file_extension": ".py",
   "mimetype": "text/x-python",
   "name": "python",
   "nbconvert_exporter": "python",
   "pygments_lexer": "ipython3",
   "version": "3.10.12"
  }
 },
 "nbformat": 4,
 "nbformat_minor": 5
}
