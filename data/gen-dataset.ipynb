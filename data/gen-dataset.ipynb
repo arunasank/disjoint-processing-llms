{
 "cells": [
  {
   "cell_type": "code",
   "execution_count": 484,
   "id": "4ecb4196-cefb-43d0-a2f0-a91fdcc988e7",
   "metadata": {
    "tags": []
   },
   "outputs": [],
   "source": [
    "import pandas as pd\n",
    "import re\n",
    "import random\n",
    "\n",
    "random.seed(42)\n",
    "from tqdm.auto import tqdm\n",
    "tqdm.pandas()"
   ]
  },
  {
   "cell_type": "markdown",
   "id": "eeeec723-77aa-457b-9b30-c21c4cfae282",
   "metadata": {
    "tags": []
   },
   "source": [
    "### Genders for subjects based on italian"
   ]
  },
  {
   "cell_type": "code",
   "execution_count": 485,
   "id": "632734bd-5d77-4fda-aba6-6e9babb57599",
   "metadata": {
    "tags": []
   },
   "outputs": [],
   "source": [
    "en_it = {\n",
    "    \"lemonade\": \"limonata\",\n",
    "    \"espresso\": \"espresso\",\n",
    "    \"milkshake\": \"frappè\",\n",
    "    \"smoothie\": \"frullato\",\n",
    "    \"beverage\": \"bevanda\",\n",
    "    \"tonic\": \"tonico\",\n",
    "    \"water\": \"acqua\",\n",
    "    \"coffee\": \"caffè\",\n",
    "    \"tea\": \"tè\",\n",
    "    \"juice\": \"succo\",\n",
    "    \"pear\": \"pera\",\n",
    "    \"pole\": \"palo\",\n",
    "    \"writer\": \"scrittore\",\n",
    "    \"writers\": \"scrittori\",\n",
    "    \"banana\": \"banana\",\n",
    "    \"biscuit\": \"biscotto\",\n",
    "    \"book\": \"libro\",\n",
    "    \"bottle\": \"bottiglia\",\n",
    "    \"box\": \"scatola\",\n",
    "    \"boy\": \"ragazzo\",\n",
    "    \"boys\": \"ragazzi\",\n",
    "    \"lightbulb\": \"lampadina\",\n",
    "    \"sideboard\": \"credenza\",\n",
    "    \"hat\": \"cappello\",\n",
    "    \"cat\": \"gatto\",\n",
    "    \"cats\": \"gatti\",\n",
    "    \"mount\": \"monte\",\n",
    "    \"wall\": \"muro\",\n",
    "    \"chapter\": \"capitolo\",\n",
    "    \"chalk\": \"gesso\",\n",
    "    \"cup\": \"tazza\",\n",
    "    \"cucumber\": \"cetriolo\",\n",
    "    \"dog\": \"cane\",\n",
    "    \"dogs\": \"cani\",\n",
    "    \"oratory\": \"oratorio\",\n",
    "    \"fish\": \"pesce\",\n",
    "    \"fruit\": \"frutta\",\n",
    "    \"girl\": \"ragazza\",\n",
    "    \"girls\": \"ragazze\",\n",
    "    \"hill\": \"collina\",\n",
    "    \"man\": \"uomo\",\n",
    "    \"men\": \"uomini\",\n",
    "    \"meal\": \"pasto\",\n",
    "    \"mountain\": \"montagna\",\n",
    "    \"mouse\": \"topo\",\n",
    "    \"newspaper\": \"giornale\",\n",
    "    \"pizza\": \"pizza\",\n",
    "    \"poet\": \"poeta\",\n",
    "    \"poets\": \"poeti\",\n",
    "    \"poem\": \"poema\",\n",
    "    \"rock\": \"roccia\",\n",
    "    \"roof\": \"tetto\",\n",
    "    \"orator\": \"oratore\",\n",
    "    \"orators\": \"oratori\",\n",
    "    \"ladder\": \"scala\",\n",
    "    \"story\": \"storia\",\n",
    "    \"teacher\": \"insegnante\",\n",
    "    \"teachers\": \"insegnanti\",\n",
    "    \"toy\": \"giocattolo\",\n",
    "    \"tree\": \"albero\",\n",
    "    \"woman\": \"donna\",\n",
    "    \"women\": \"donne\",\n",
    "    \"author\": \"autore\",\n",
    "    \"authors\": \"autori\",\n",
    "    \"actress\": \"attrice\",\n",
    "    \"teacher\": \"maestra\",\n",
    "    \"doctor\": \"dottoressa\",\n",
    "    \"doctors\": \"dottoresse\",\n",
    "    \"lawyer\": \"avvocata\",\n",
    "    \"architect\": \"architetta\",\n",
    "    \"professor\": \"professoressa\",\n",
    "    \"writers\": \"scrittrici\",\n",
    "    \"cook\": \"cuoca\",\n",
    "    \"letter\": \"lettera\",\n",
    "    \"guide\": \"guida\",\n",
    "    \"postcard\": \"cartolina\",\n",
    "    \"novella\": \"novella\",\n",
    "    \"page\": \"pagina\",\n",
    "    \"poetry\": \"poesia\",\n",
    "    \"magazine\": \"rivista\",\n",
    "    \"actresses\": \"attrici\",\n",
    "    \"teachers\": \"maestre\",\n",
    "    \"doctors\": \"dottoresse\", \n",
    "    \"lawyers\": \"avvocate\",\n",
    "    \"architects\": \"architette\",\n",
    "    \"professors\": \"professoresse\",\n",
    "    \"cooks\": \"cuoche\",\n",
    "    \"letters\": \"lettere\",\n",
    "    \"guides\": \"guide\",\n",
    "    \"postcards\": \"cartoline\",\n",
    "    \"novellas\": \"novelle\",\n",
    "    \"pages\": \"pagine\",\n",
    "    \"poems\": \"poesie\",\n",
    "    \"magazines\": \"riviste\"\n",
    "}\n",
    "\n",
    "pastTense = {\n",
    "    'hits': 'hit',\n",
    "    'kicks': 'kicked',\n",
    "    'touches': 'touched',\n",
    "    'pushes': 'pushed',\n",
    "    'drinks': 'drunk',\n",
    "    'eats': 'ate',\n",
    "    'reads': 'read',\n",
    "    'hit': 'hit',\n",
    "    'kick': 'kicked',\n",
    "    'touch': 'touched',\n",
    "    'push': 'pushed',\n",
    "    'drink': 'drunk',\n",
    "    'eat': 'ate',\n",
    "    'read': 'read'\n",
    "}\n",
    "\n",
    "infinitive = {\n",
    "    'hits': 'to hit',\n",
    "    'kicks': 'to kick',\n",
    "    'touches': 'to touch',\n",
    "    'pushes': 'to push',\n",
    "    'drinks': 'to drink',\n",
    "    'eats': 'to eat',\n",
    "    'reads': 'to read',\n",
    "    'hit': 'to hit',\n",
    "    'kick': 'to kick',\n",
    "    'touch': 'to touch',\n",
    "    'push': 'to push',\n",
    "    'drink': 'to drink',\n",
    "    'eat': 'to eat',\n",
    "    'read': 'to read'\n",
    "}\n",
    "\n",
    "pluralObjects = {\n",
    "    'fish': 'fish',\n",
    "    'mouse': 'mice',\n",
    "    'bottle': 'bottles',\n",
    "    'newspaper': 'newspapers',\n",
    "    'chalk': 'chalks',\n",
    "    'box': 'boxes',\n",
    "    'cap': 'caps',\n",
    "    'bulb': 'bulbs',\n",
    "    'cup': 'cups',\n",
    "    'toy': 'toys',\n",
    "    'staircase': 'staircases',\n",
    "    'rock': 'rocks',\n",
    "    'hill': 'hills',\n",
    "    'mountain': 'mountains',\n",
    "    'roof': 'roofs',\n",
    "    'tree': 'trees',\n",
    "    'biscuit': 'biscuits',\n",
    "    'banana': 'bananas',\n",
    "    'pear': 'pears',\n",
    "    'meal': 'meals',\n",
    "    'fruit': 'fruits',\n",
    "    'cucumber': 'cucumbers',\n",
    "    'pizza': 'pizzas',\n",
    "    'book': 'books',\n",
    "    'poem': 'poems',\n",
    "    'story': 'stories',\n",
    "    'chapter': 'chapters'\n",
    "}\n",
    "\n",
    "passiveSeed = {\n",
    "    'hits': 'hit',\n",
    "    'kicks': 'kicked',\n",
    "    'touches': 'touched',\n",
    "    'pushes': 'pushed',\n",
    "    'drinks': 'drunk',\n",
    "    'eats': 'eaten',\n",
    "    'reads': 'read',\n",
    "    'hit': 'hit',\n",
    "    'kick': 'kicked',\n",
    "    'touch': 'touched',\n",
    "    'push': 'pushed',\n",
    "    'drink': 'drunk',\n",
    "    'eat': 'eaten',\n",
    "    'read': 'read'\n",
    "}"
   ]
  },
  {
   "cell_type": "code",
   "execution_count": 486,
   "id": "114e79a0",
   "metadata": {},
   "outputs": [],
   "source": [
    "it_genderDict = {\n",
    "    \"limonata\": [ \"la\", \"una\"],\n",
    "    \"espresso\": [ \"il\", \"un\"],\n",
    "    \"frappè\": [ \"il\", \"un\"],\n",
    "    \"frullato\": [ \"il\", \"un\"],\n",
    "    \"bevanda\": [ \"la\", \"una\"],\n",
    "    \"tonico\": [ \"il\", \"un\"],\n",
    "    \"acqua\": [ \"l'\", \"un'\"],\n",
    "    \"caffè\": [ \"il\", \"un\"],\n",
    "    \"tè\": [ \"il\", \"un\"],\n",
    "    \"succo\": [ \"il\", \"un\"],\n",
    "    \"caffè\": [\"il\", \"un\"],\n",
    "    \"tonico\": [\"il\", \"un\"],\n",
    "    \"tè\": [\"il\", \"un\"],\n",
    "    \"succo\": [\"il\", \"un\"],\n",
    "    \"acqua\": [\"la\", \"una\"],\n",
    "    \"pera\": [\"la\", \"una\"],\n",
    "    \"palo\": [\"il\", \"un\"],\n",
    "    \"scrittore\": [\"lo\", \"uno\"],\n",
    "    \"scrittori\": [\"gli\"],\n",
    "    \"banana\": [\"la\", \"una\"],\n",
    "    \"biscotto\": [\"il\", \"un\"],\n",
    "    \"libro\": [\"il\", \"un\"],\n",
    "    \"bottiglia\": [\"la\", \"una\"],\n",
    "    \"scatola\": [\"la\", \"una\"],\n",
    "    \"ragazzo\": [\"il\", \"un\"],\n",
    "    \"ragazzi\": [\"i\"],\n",
    "    \"lampadina\": [\"la\", \"una\"],\n",
    "    \"credenza\": [\"la\", \"una\"],\n",
    "    \"cappello\": [\"il\", \"un\"],\n",
    "    \"gatto\": [\"il\", \"un\"],\n",
    "    \"gatti\": [\"i\"],\n",
    "    \"monte\": [\"il\", \"un\"],\n",
    "    \"muro\": [\"il\", \"un\"],\n",
    "    \"capitolo\": [\"il\", \"un\"],\n",
    "    \"gesso\": [\"il\", \"un\"],\n",
    "    \"tazza\": [\"la\", \"una\"],\n",
    "    \"cetriolo\": [\"il\", \"un\"],\n",
    "    \"cane\": [\"il\", \"un\"],\n",
    "    \"cani\": [\"i\"],\n",
    "    \"oratorio\": [\"il\", \"un\"],\n",
    "    \"pesce\": [\"il\", \"un\"],\n",
    "    \"frutta\": [\"la\", \"una\"],\n",
    "    \"ragazza\": [\"la\", \"una\"],\n",
    "    \"ragazze\": [\"le\"],\n",
    "    \"collina\": [\"la\", \"una\"],\n",
    "    \"uomo\": [\"l'\", \"un\"],\n",
    "    \"uomini\": [\"gli\"],\n",
    "    \"pasto\": [\"il\", \"un\"],\n",
    "    \"montagna\": [\"la\", \"una\"],\n",
    "    \"topo\": [\"il\", \"un\"],\n",
    "    \"giornale\": [\"il\", \"un\"],\n",
    "    \"pizza\": [\"la\", \"una\"],\n",
    "    \"poeta\": [\"il\", \"un\"],\n",
    "    \"poeti\": [\"i\"],\n",
    "    \"poema\": [\"il\", \"un\"],\n",
    "    \"roccia\": [\"la\", \"una\"],\n",
    "    \"tetto\": [\"il\", \"un\"],\n",
    "    \"oratore\": [\"l'\", \"un'\"],\n",
    "    \"oratori\": [\"gli\"],\n",
    "    \"scala\": [\"la\", \"una\"],\n",
    "    \"storia\": [\"la\", \"una\"],\n",
    "    \"insegnante\": [\"l'\", \"un'\"],\n",
    "    \"insegnanti\": [\"gli\"],\n",
    "    \"giocattolo\": [\"il\", \"un\"],\n",
    "    \"albero\": [\"l'\", \"un\"],\n",
    "    \"donna\": [\"la\", \"una\"],\n",
    "    \"donne\": [\"le\"],\n",
    "    \"autore\": [\"l'\", \"un'\"],\n",
    "    \"autori\": [\"gli\"],\n",
    "    \"attrice\": [\"l'\", \"un'\"], \n",
    "    \"maestra\": [\"la\", \"una\"], \n",
    "    \"dottoressa\": [\"la\", \"una\"], \n",
    "    \"dottoresse\": [\"le\"],\n",
    "    \"avvocata\": [\"l'\", \"un'\"], \n",
    "    \"architetta\": [\"l'\", \"un'\"], \n",
    "    \"professoressa\": [\"la\", \"una\"], \n",
    "    \"scrittrice\": [\"la\", \"una\"], \n",
    "    \"cuoca\": [\"la\", \"una\"], \n",
    "    \"lettera\": [\"la\", \"una\"], \n",
    "    \"guida\": [\"la\", \"una\"], \n",
    "    \"cartolina\": [\"la\", \"una\"], \n",
    "    \"novella\": [\"la\", \"una\"], \n",
    "    \"pagina\": [\"la\", \"una\"], \n",
    "    \"poesia\": [\"la\", \"una\"],\n",
    "    \"rivista\": [\"la\", \"una\"],\n",
    "    \"attrici\": [\"le\"], \n",
    "    \"maestre\": [\"le\"], \n",
    "    \"dottoressi\": [\"le\"], \n",
    "    \"avvocate\": [\"l'\"], \n",
    "    \"architette\": [\"l'\"], \n",
    "    \"professoresse\": [\"le\"], \n",
    "    \"scrittrici\": [\"le\"], \n",
    "    \"cuoche\": [\"le\"], \n",
    "    \"lettere\": [\"le\"], \n",
    "    \"guide\": [\"le\"], \n",
    "    \"cartoline\": [\"le\"], \n",
    "    \"novelle\": [\"le\"], \n",
    "    \"pagine\": [\"le\"], \n",
    "    \"poesie\": [\"le\"],\n",
    "    \"riviste\": [\"le\"]\n",
    "}\n",
    "\n",
    "it_infinitive = {\n",
    "    'colpisce' : 'colpire',\n",
    "    'legge': 'leggere',\n",
    "    'beve': 'bere',\n",
    "    'mangia': 'mangiare',\n",
    "    'tocca': 'toccare',\n",
    "    'spinge' : 'spingere',\n",
    "    'calcia': 'calciare'\n",
    "}\n",
    "\n",
    "it_pluralObjects = {\n",
    "    'pesce': 'pesci',\n",
    "    'topo': 'topi',\n",
    "    'bottiglia': 'bottiglie',\n",
    "    'giornale': 'giornali',\n",
    "    'gesso': 'gessi',\n",
    "    'scatola': 'scatole',\n",
    "    'cappello': 'cappelli',\n",
    "    'lampadina': 'lampadine',\n",
    "    'tazza': 'tazze',\n",
    "    'giocattolo': 'giocattoli',\n",
    "    'scala': 'scale',\n",
    "    'roccia': 'rocce',\n",
    "    'collina': 'colline',\n",
    "    'montagna': 'montagne',\n",
    "    'tetto': 'tetti',\n",
    "    'albero': 'alberi',\n",
    "    'biscotto': 'biscotti',\n",
    "    'banana': 'banane',\n",
    "    'pera': 'pere',\n",
    "    'pasto': 'pasti',\n",
    "    'frutta': 'frutta',\n",
    "    'cetriolo': 'cetrioli',\n",
    "    'pizza': 'pizze',\n",
    "    'libro': 'libri',\n",
    "    'poema': 'poemi',\n",
    "    'storia': 'storie',\n",
    "    'capitolo': 'capitolo'\n",
    "}\n",
    "\n",
    "it_passiveSeed = {\n",
    "'colpisce': { 'la': 'è colpita', 'una': 'è colpita', 'il': 'è colpito' , 'un': 'è colpito', 'uno': 'è colpito' },\n",
    "'calcia': { 'la': 'è calciata', 'una': 'è calciata', 'il': 'è calciato' , 'un': 'è calciato', 'uno': 'è calciato' },\n",
    "'tocca': { 'la': 'è toccata', 'una': 'è toccata', 'il': 'è toccato' , 'un': 'è toccato', 'uno': 'è toccato' },\n",
    "'spinge': { 'la': 'è spinta', 'una': 'è spinta', 'il': 'è spinto' , 'un': 'è spinto', 'uno': 'è spinto' },\n",
    "'beve': { 'la': 'è bevuta', 'una': 'è bevuta', 'il': 'è bevuto' , 'un': 'è bevuto', 'uno': 'è bevuto' },\n",
    "'mangia': { 'la': 'è mangiata', 'una': 'è mangiata', 'il': 'è mangiato' , 'un': 'è mangiato', 'uno': 'è mangiato' },\n",
    "'legge': { 'la': 'è letta', 'una': 'è letta', 'il': 'è letto' , 'un': 'è letto', 'uno': 'è letto' },\n",
    "'colpiscono': { 'la': 'è colpita', 'una': 'è colpita', 'il': 'è colpito' , 'un': 'è colpito', 'uno': 'è colpito' },\n",
    "'calciano': { 'la': 'è calciata', 'una': 'è calciata', 'il': 'è calciato' , 'un': 'è calciato', 'uno': 'è calciato' },\n",
    "'toccano': { 'la': 'è toccata', 'una': 'è toccata', 'il': 'è toccato' , 'un': 'è toccato', 'uno': 'è toccato' },\n",
    "'spingono': { 'la': 'è spinta', 'una': 'è spinta', 'il': 'è spinto' , 'un': 'è spinto', 'uno': 'è spinto' },\n",
    "'bevono': { 'la': 'è bevuta', 'una': 'è bevuta', 'il': 'è bevuto' , 'un': 'è bevuto', 'uno': 'è bevuto' },\n",
    "'mangiano': { 'la': 'è mangiata', 'una': 'è mangiata', 'il': 'è mangiato' , 'un': 'è mangiato', 'uno': 'è mangiato' },\n",
    "'leggono': { 'la': 'è letta', 'una': 'è letta', 'il': 'è letto' , 'un': 'è letto', 'uno': 'è letto' }\n",
    "}\n",
    "\n",
    "verbDict_jp = {\n",
    "    \"eats\": \"食べる\",\n",
    "    \"reads\": \"読む\",\n",
    "    \"eat\": \"食べる\",\n",
    "    \"read\": \"読む\",\n",
    "    \"drinks\": \"飲む\",\n",
    "    \"drink\": \"飲む\",\n",
    "    \"hit\": \"打つ\",\n",
    "    \"hits\": \"打つ\",\n",
    "    \"kick\": \"蹴る\",\n",
    "    \"kicks\": \"蹴る\",\n",
    "    \"push\": \"押す\",\n",
    "    \"pushes\": \"押す\",\n",
    "    \"touch\": \"触る\",\n",
    "    \"touches\": \"触る\"\n",
    "}\n",
    "\n",
    "passiveDict_jp = {\n",
    "    \"食べる\": \"食べられる\",\n",
    "    \"読む\": \"読まれる\",\n",
    "    \"飲む\": \"飲まれる\",\n",
    "    \"打つ\": \"打たれる\",\n",
    "    \"蹴る\": \"蹴られる\",\n",
    "    \"押す\": \"押される\",\n",
    "    \"触る\": \"触られる\"\n",
    "}\n",
    "\n",
    "particleDict_jp = {\n",
    "    \"wa\": \"は\",\n",
    "    \"ga\": \"が\",\n",
    "    \"o\": \"を\",\n",
    "    \"to\": \"と\",\n",
    "    \"ni\": \"に\",\n",
    "    \"nai\": \"ない\",\n",
    "    \"ta\": \"た\"\n",
    "}\n",
    "\n",
    "nounDict_jp = {\n",
    "    \"lemonade\": \"レモネード\",\n",
    "    \"espresso\": \"エスプレッソ\",\n",
    "    \"milkshake\": \"ミルクセーキ\",\n",
    "    \"smoothie\": \"スムージー\",\n",
    "    \"beverage\": \"飲み物\",\n",
    "    \"tonic\": \"トニック\",\n",
    "    \"water\": \"水\",\n",
    "    \"coffee\": \"コーヒー\",\n",
    "    \"tea\": \"お茶\",\n",
    "    \"juice\": \"ジュース\",\n",
    "    \"pear\": \"梨\",\n",
    "    \"author\": \"著者\",\n",
    "    \"banana\": \"バナナ\",\n",
    "    \"biscuit\": \"ビスケット\",\n",
    "    \"book\": \"本\",\n",
    "    \"lightbulb\": \"電球\",\n",
    "    \"bottle\": \"ボトル\",\n",
    "    \"box\": \"箱\",\n",
    "    \"boy\": \"男の子\",\n",
    "    \"bulb\": \"電球\",\n",
    "    \"cap\": \"帽子\",\n",
    "    \"cat\": \"猫\",\n",
    "    \"chapter\": \"章\",\n",
    "    \"chalk\": \"白亜\",\n",
    "    \"cup\": \"コップ\",\n",
    "    \"cucumber\": \"胡瓜\",\n",
    "    \"dog\": \"犬\",\n",
    "    \"fish\": \"魚\",\n",
    "    \"fruit\": \"果物\",\n",
    "    \"girl\": \"女の子\",\n",
    "    \"hill\": \"丘\",\n",
    "    \"man\": \"男\",\n",
    "    \"meal\": \"食事\",\n",
    "    \"mountain\": \"山\",\n",
    "    \"mouse\": \"マウス\",\n",
    "    \"newspaper\": \"新聞\",\n",
    "    \"noodles\": \"麺\",\n",
    "    \"poet\": \"詩人\",\n",
    "    \"poem\": \"詩\",\n",
    "    \"rock\": \"岩石\",\n",
    "    \"roof\": \"屋根\",\n",
    "    \"speaker\": \"スピーカー\",\n",
    "    \"staircase\": \"階段\",\n",
    "    \"story\": \"小説\",\n",
    "    \"teacher\": \"先生\",\n",
    "    \"toy\": \"玩具\",\n",
    "    \"tree\": \"木\",\n",
    "    \"woman\": \"女\",\n",
    "    \"writer\": \"著者\",\n",
    "    \"pizza\": \"ピザ\",\n",
    "    \"pears\": \"梨\",\n",
    "    \"authors\": \"著者\",\n",
    "    \"bananas\": \"バナナ\",\n",
    "    \"biscuits\": \"ビスケット\",\n",
    "    \"books\": \"本\",\n",
    "    \"bottles\": \"ボトル\",\n",
    "    \"boxes\": \"箱\",\n",
    "    \"boys\": \"男の子\",\n",
    "    \"bulbs\": \"電球\",\n",
    "    \"caps\": \"帽子\",\n",
    "    \"cats\": \"猫\",\n",
    "    \"chapters\": \"章\",\n",
    "    \"chalks\": \"白亜\",\n",
    "    \"cups\": \"コップ\",\n",
    "    \"cucumbers\": \"胡瓜\",\n",
    "    \"dogs\": \"犬\",\n",
    "    \"fish\": \"魚\",\n",
    "    \"fruits\": \"果物\",\n",
    "    \"girls\": \"女の子\",\n",
    "    \"hills\": \"丘\",\n",
    "    \"men\": \"男性\",\n",
    "    \"meals\": \"食事\",\n",
    "    \"mountains\": \"山\",\n",
    "    \"mouses\": \"マウス\",\n",
    "    \"newspapers\": \"新聞\",\n",
    "    \"noodles\": \"麺\",\n",
    "    \"poets\": \"詩人\",\n",
    "    \"poems\": \"詩\",\n",
    "    \"rocks\": \"岩石\",\n",
    "    \"roofs\": \"屋根\",\n",
    "    \"speakers\": \"スピーカー\",\n",
    "    \"staircases\": \"階段\",\n",
    "    \"stories\": \"小説\",\n",
    "    \"teachers\": \"先生\",\n",
    "    \"toys\": \"玩具\",\n",
    "    \"trees\": \"木\",\n",
    "    \"women\": \"女性\",\n",
    "    \"writers\": \"著者\",\n",
    "    \"pizzas\": \"ピザ\",\n",
    "    \"teacher\": \"教師\",\n",
    "    \"boy\": \"少年\",\n",
    "    \"man\": \"男\",\n",
    "    \"men\": \"男性 \",\n",
    "    \"pole\": \"柱\",\n",
    "    \"cat\": \"猫\",\n",
    "    \"architect\": \"建築家\",\n",
    "    \"author\": \"著者\",\n",
    "    \"cats\": \"猫たち\",\n",
    "    \"writer\": \"作家\",\n",
    "    \"cooks\": \"料理人たち\",\n",
    "    \"roof\": \"屋根\",\n",
    "    \"women\": \"女性たち\",\n",
    "    \"professor\": \"教授\",\n",
    "    \"girls\": \"女の子たち\",\n",
    "    \"lawyers\": \"弁護士たち\",\n",
    "    \"professors\": \"教授たち\",\n",
    "    \"orators\": \"演説家たち\",\n",
    "    \"authors\": \"著者たち\",\n",
    "    \"actresses\": \"女優たち\",\n",
    "    \"orator\": \"演説家\",\n",
    "    \"girl\": \"女の子\",\n",
    "    \"dogs\": \"犬たち\",\n",
    "    \"teachers\": \"教師たち\",\n",
    "    \"dog\": \"犬\",\n",
    "    \"poet\": \"詩人\",\n",
    "    \"doctors\": \"医者たち\",\n",
    "    \"tree\": \"木\",\n",
    "    \"actress\": \"女優\",\n",
    "    \"mountain\": \"山\",\n",
    "    \"poets\": \"詩人たち\",\n",
    "    \"writers\": \"作家たち\",\n",
    "    \"doctor\": \"医者\",\n",
    "    \"boys\": \"少年たち\",\n",
    "    \"wall\": \"壁\",\n",
    "    \"lawyer\": \"弁護士\",\n",
    "    \"cook\": \"料理人\",\n",
    "    \"architects\": \"建築家たち\",\n",
    "    \"woman\": \"女性\",\n",
    "    \"ladder\": \"梯子\",\n",
    "    \"letter\": \"手紙\",\n",
    "    \"magazine\": \"雑誌\",\n",
    "    \"guide\": \"ガイド\",\n",
    "    \"postcard\": \"ポストカード\",\n",
    "    \"novella\": \"中編小説\",\n",
    "    \"page\": \"ページ\",\n",
    "    \"hat\": \"帽子\",\n",
    "    \"mount\": \"マウント\"\n",
    "}\n",
    "\n",
    "subordinateDict_jp = {\n",
    "    'to think': '考える',\n",
    "    'to say': \"言う\",\n",
    "    'to state': '述べる',\n",
    "    'to believe': '信じる',\n",
    "    'to suggest': '提案する'\n",
    "}\n",
    "\n",
    "nameDict_jp = {\n",
    "  \"Sheela\": \"シーラ\",\n",
    "  \"Leela\": \"リーラ\",\n",
    "  \"Maria\": \"マリア\",\n",
    "  \"Gomu\": \"ゴム\",\n",
    "  \"John\": \"ジョン\",\n",
    "  \"Tom\": \"トム\",\n",
    "  \"Harry\": \"ハリー\"\n",
    "}\n"
   ]
  },
  {
   "cell_type": "code",
   "execution_count": 487,
   "id": "41d73c10-13dc-4a08-ba4e-f809d1ba02f8",
   "metadata": {},
   "outputs": [],
   "source": [
    "gender_ita_S = {\n",
    "    \"frindle\": ['kar', 'onko'],\n",
    "    \"frindles\": ['kare'],\n",
    "    \"blinco\": ['kar', 'onko'],\n",
    "    \"blincos\": ['kar'],\n",
    "    \"quozzle\": ['kar', 'onko'],\n",
    "    \"quozzles\": ['koni'],\n",
    "    \"twizzle\": ['kar', 'onka'],\n",
    "    \"droczle\": ['kar', 'onka'],\n",
    "    \"plonkle\": ['kon', 'onko'],\n",
    "    \"dringle\": ['kon', 'onko'],\n",
    "    \"woggle\": ['kar', 'onka'],\n",
    "    \"tromple\": ['kar', 'onka'],\n",
    "    \"kingle\": ['kon', 'onko'],\n",
    "    \"kingles\": ['koni'],\n",
    "    \"priffle\": ['kon', 'onko'],\n",
    "    \"priffles\": ['koni'],\n",
    "    \"zibble\": ['kon', 'onko'],\n",
    "    \"wrindle\": ['kon', 'onko'],\n",
    "    \"skrump\": ['kon', 'onko'],\n",
    "    \"fuzzle\": ['kar', 'onka'],\n",
    "    \"fuzzles\": ['kare'],\n",
    "    \"gunzle\": ['kon', 'onko'],\n",
    "    \"wompel\": ['kar', 'onka'],\n",
    "    \"glump\": ['kar', 'onka'],\n",
    "    \"glumps\": ['kare'],\n",
    "    \"pundle\": ['kon', 'onko'],\n",
    "    \"pundles\": ['koni'],\n",
    "    \"snorfle\": ['kon', 'onko'],\n",
    "    \"yurump\": ['kon', 'onko'],\n",
    "    \"wungo\": ['kar', 'onka'],\n",
    "    \"miffle\": ['kar', 'onka'],\n",
    "    \"miffles\": ['kare'],\n",
    "    \"shuggle\": ['kar', 'onka'],\n",
    "    \"shuggles\": ['kare'],\n",
    "    \"sturple\": ['kon', 'onko'],\n",
    "    \"tunzo\": ['kar', 'onka'],\n",
    "    \"gorp\": ['kon', 'onko'],\n",
    "    \"alump\": ['kar', 'onka'],\n",
    "    \"prog\": ['kar', 'onko'],\n",
    "    \"progs\": ['kar'],\n",
    "    \"blorft\": ['kar', 'onka'],\n",
    "    \"strumble\": ['kar', 'onka'],\n",
    "    \"strumbles\": ['kare'],\n",
    "    \"prundle\": ['kar', 'onka'],\n",
    "    \"hergo\": ['kar', 'onka'],\n",
    "    \"hergos\": ['kare'],\n",
    "    \"grumble\": ['kar', 'onko'],\n",
    "    \"kergum\": ['kon', 'onko'],\n",
    "    \"grumblen\": ['koni'],\n",
    "    \"forp\": ['kon', 'onko'],\n",
    "    \"glorble\": ['kon', 'onko'],\n",
    "    \"tolzo\": ['kar', 'onka'],\n",
    "    \"pelunko\": ['kon', 'onko'],\n",
    "    \"gongle\": ['kon', 'onko'],\n",
    "    \"gorgen\": ['kar', 'onka'],\n",
    "    \"gorgens\": ['kare'],\n",
    "    \"porpol\": ['kar', 'onko'],\n",
    "    \"porpols\": ['koni'],\n",
    "    \"porpoltry\": ['kon', 'onko'],\n",
    "    \"frundo\": ['kar', 'onka'],\n",
    "    \"frundos\": ['kare'],\n",
    "    \"glumpo\": ['kar', 'onka'],\n",
    "    \"blogle\": ['kar', 'onka'],\n",
    "    \"skerpo\": ['kon', 'onko'],\n",
    "    \"skerpos\": ['kare'],\n",
    "    \"krunko\": ['kon', 'onko'],\n",
    "    \"krunkoletry\": ['kar', 'onka'],\n",
    "    \"krunkos\": ['koni'],\n",
    "    \"pompo\": ['kon', 'onko'],\n",
    "    \"jimto\": ['kar', 'onka'],\n",
    "    \"jimtos\": ['kare'],\n",
    "    \"knurkle\": ['kar', 'onka'],\n",
    "    \"knurkles\": ['kare'],\n",
    "    \"tungle\": ['kar', 'onka'],\n",
    "    \"climble\": ['kon', 'onko'],\n",
    "    \"sumple\": ['kar', 'onka'],\n",
    "    \"skung\": ['kon', 'onko'],\n",
    "    \"froble\": ['kar', 'onka'],\n",
    "    \"ginso\": ['kon', 'onko'],\n",
    "    \"hurple\": ['kar', 'onka'],\n",
    "    \"hurples\": ['kare'],\n",
    "    \"komple\": ['kon', 'onko'],\n",
    "    \"fugfug\": ['kon', 'onko'],\n",
    "    \"drockzle\": ['kar', 'onko'],\n",
    "    \"flarn\": ['kon', 'onko'],\n",
    "    \"gluggle\": ['kar', 'onka'],\n",
    "    \"wug\": ['kar', 'onka'],\n",
    "    \"wugen\": ['kare'],\n",
    "    \"arcuplo\": ['kon', 'onko'],\n",
    "    \"arcuplos\": ['kare']\n",
    "}\n",
    "verb_en_S = {\n",
    "    'hit': 'hufko',\n",
    "    'hits': 'hufkos',\n",
    "    'kicks': 'chuskos',\n",
    "    'kick': 'chusko',\n",
    "    'touches': 'stoffles',\n",
    "    'touch': 'stoffle',\n",
    "    'pushes': 'chunges',\n",
    "    'push': 'chunge',\n",
    "    'drinks': 'ungos',\n",
    "    'drink': 'ungo',\n",
    "    'eats': 'snugos',\n",
    "    'eat': 'snugo',\n",
    "    'reads': 'gurdles',\n",
    "    'read': 'gurdle',\n",
    "    'thinks': 'soffles',\n",
    "    'think': 'soffle',\n",
    "    'says': 'pungos',\n",
    "    'say': 'pungo',\n",
    "    'states': 'gnobos',\n",
    "    'state': 'gnobo',\n",
    "    'believes': 'herdles',\n",
    "    'believe': 'herdle',\n",
    "    'suggests': 'trongos',\n",
    "    'suggest': 'trongo'\n",
    "}\n",
    "\n",
    "passiveSeed_en_S = {\n",
    "    'hits': 'hufkoed',\n",
    "    'kicks': 'chuskoed',\n",
    "    'touches': 'stoffled',\n",
    "    'pushes': 'chunged',\n",
    "    'drinks': 'ungoed',\n",
    "    'eats': 'snugoed',\n",
    "    'reads': 'gurdled',\n",
    "    'hit': 'hufkoed',\n",
    "    'kick': 'chuskoed',\n",
    "    'touch': 'stoffled',\n",
    "    'push': 'chunged',\n",
    "    'drink': 'ungoed',\n",
    "    'eat': 'snugoed',\n",
    "    'read': 'gurdled'\n",
    "}\n",
    "\n",
    "infinitive_en_S = {\n",
    "    'hits': 'to hufko',\n",
    "    'kicks': 'to chusko',\n",
    "    'touches': 'to stoffle',\n",
    "    'pushes': 'to chunge',\n",
    "    'drinks': 'to ungo',\n",
    "    'eats': 'to snugo',\n",
    "    'reads': 'to gurdle',\n",
    "    'hit': 'to hufko',\n",
    "    'kick': 'to chusko',\n",
    "    'touch': 'to stoffle',\n",
    "    'push': 'to chunge',\n",
    "    'drink': 'to ungo',\n",
    "    'eat': 'to snugo',\n",
    "    'read': 'to gurdle'\n",
    "}\n",
    "\n",
    "en_en_S = {\n",
    "    \"actress\": \"frindle\",\n",
    "    \"actresses\": \"frindles\",\n",
    "    \"architect\": \"blinco\",\n",
    "    \"architects\": \"blincos\",\n",
    "    \"author\": \"quozzle\",\n",
    "    \"authors\": \"quozzles\",\n",
    "    \"banana\": \"twizzle\",\n",
    "    \"beverage\": \"droczle\",\n",
    "    \"biscuit\": \"plonkle\",\n",
    "    \"book\": \"dringle\",\n",
    "    \"bottle\": \"woggle\",\n",
    "    \"box\": \"tromple\",\n",
    "    \"boy\": \"kingle\",\n",
    "    \"boys\": \"kingles\",\n",
    "    \"cat\": \"priffle\",\n",
    "    \"cats\": \"priffles\",\n",
    "    \"chalk\": \"zibble\",\n",
    "    \"chapter\": \"wrindle\",\n",
    "    \"coffee\": \"skrump\",\n",
    "    \"cook\": \"fuzzle\",\n",
    "    \"cooks\": \"fuzzles\",\n",
    "    \"cucumber\": \"gunzle\",\n",
    "    \"cup\": \"wompel\",\n",
    "    \"doctor\": \"glump\",\n",
    "    \"doctors\": \"glumps\",\n",
    "    \"dog\": \"pundle\",\n",
    "    \"dogs\": \"pundles\",\n",
    "    \"espresso\": \"snorfle\",\n",
    "    \"fish\": \"yurump\",\n",
    "    \"fruit\": \"wungo\",\n",
    "    \"girl\": \"miffle\",\n",
    "    \"girls\": \"miffles\",\n",
    "    \"guide\": \"shuggle\",\n",
    "    \"guides\": \"shuggles\",\n",
    "    \"hat\": \"sturple\",\n",
    "    \"hill\": \"tunzo\",\n",
    "    \"juice\": \"gorp\",\n",
    "    \"ladder\": \"alump\",\n",
    "    \"lawyer\": \"prog\",\n",
    "    \"lawyers\": \"progs\",\n",
    "    \"lemonade\": \"blorft\",\n",
    "    \"letter\": \"strumble\",\n",
    "    \"letters\": \"strumbles\",\n",
    "    \"lightbulb\": \"prundle\",\n",
    "    \"magazine\": \"hergo\",\n",
    "    \"magazines\": \"hergos\",\n",
    "    \"man\": \"grumble\",\n",
    "    \"meal\": \"kergum\",\n",
    "    \"men\": \"grumblen\",\n",
    "    \"milkshake\": \"forp\",\n",
    "    \"mount\": \"glorble\",\n",
    "    \"mountain\": \"tolzo\",\n",
    "    \"mouse\": \"pelunko\",\n",
    "    \"newspaper\": \"gongle\",\n",
    "    \"novella\": \"gorgen\",\n",
    "    \"novellas\": \"gorgens\",\n",
    "    \"orator\": \"porpol\",\n",
    "    \"orators\": \"porpols\",\n",
    "    \"oratory\": \"porpoltry\",\n",
    "    \"page\": \"frundo\",\n",
    "    \"pages\": \"frundos\",\n",
    "    \"pear\": \"glumpo\",\n",
    "    \"pizza\": \"blogle\",\n",
    "    \"poem\": \"skerpo\",\n",
    "    \"poems\": \"skerpos\",\n",
    "    \"poet\": \"krunko\",\n",
    "    \"poetry\": \"krunkoletry\",\n",
    "    \"poets\": \"krunkos\",\n",
    "    \"pole\": \"pompo\",\n",
    "    \"postcard\": \"jimto\",\n",
    "    \"postcards\": \"jimtos\",\n",
    "    \"professor\": \"knurkle\",\n",
    "    \"professors\": \"knurkles\",\n",
    "    \"rock\": \"tungle\",\n",
    "    \"roof\": \"climble\",\n",
    "    \"sideboard\": \"sumple\",\n",
    "    \"smoothie\": \"skung\",\n",
    "    \"story\": \"froble\",\n",
    "    \"tea\": \"ginso\",\n",
    "    \"teacher\": \"hurple\",\n",
    "    \"teachers\": \"hurples\",\n",
    "    \"tonic\": \"komple\",\n",
    "    \"toy\": \"fugfug\",\n",
    "    \"tree\": \"drockzle\",\n",
    "    \"wall\": \"flarn\",\n",
    "    \"water\": \"gluggle\",\n",
    "    \"woman\": \"wug\", \n",
    "    \"women\": \"wugen\",\n",
    "    \"writer\": \"arcuplo\",\n",
    "    \"writers\": \"arcuplos\"\n",
    "}\n",
    "\n",
    "pastTense_en_S = {\n",
    "    'hits': 'hufkoed',\n",
    "    'kicks': 'chuskoed',\n",
    "    'touches': 'stoffled',\n",
    "    'pushes': 'chunged',\n",
    "    'drinks': 'ungosed',\n",
    "    'eats': 'snugosed',\n",
    "    'reads': 'gurdled',\n",
    "    'hit': 'hufkoed',\n",
    "    'kick': 'chuskoed',\n",
    "    'touch': 'stoffled',\n",
    "    'push': 'chunged',\n",
    "    'drink': 'ungased',\n",
    "    'eat': 'snugosed',\n",
    "    'read': 'gurdled'\n",
    "}\n",
    "pluralObjects_en_S = {\n",
    "    \"banana\": \"twizzles\",\n",
    "    \"biscuit\": \"plonkles\",\n",
    "    \"book\": \"dringles\",\n",
    "    \"bottle\": \"woggles\",\n",
    "    \"box\": \"tromples\",\n",
    "    \"bulb\": \"bumples\",\n",
    "    \"cap\": \"groxles\",\n",
    "    \"chalk\": \"zibbles\",\n",
    "    \"chapter\": \"wrindles\",\n",
    "    \"cucumber\": \"gunzles\",\n",
    "    \"cup\": \"wompels\",\n",
    "    \"fish\": \"yurumps\",\n",
    "    \"fruit\": \"wungos\",\n",
    "    \"hill\": \"tunzos\",\n",
    "    \"meal\": \"kergums\",\n",
    "    \"mountain\": \"tolzos\",\n",
    "    \"mouse\": \"pelunkos\",\n",
    "    \"newspaper\": \"gongles\",\n",
    "    \"pear\": \"glumpos\",\n",
    "    \"pizza\": \"blogles\",\n",
    "    \"poem\": \"skerpos\",\n",
    "    \"rock\": \"tungles\",\n",
    "    \"roof\": \"climbles\",\n",
    "    \"staircase\": \"tolsos\",\n",
    "    \"story\": \"frobles\",\n",
    "    \"toy\": \"fugfugs\",\n",
    "    \"tree\": \"drockzles\"\n",
    "}"
   ]
  },
  {
   "cell_type": "markdown",
   "id": "f13b5ee5-af18-4492-b8dd-9763fc5c2287",
   "metadata": {
    "tags": []
   },
   "source": [
    "# Generate sentences"
   ]
  },
  {
   "cell_type": "markdown",
   "id": "79bd94d0-2a23-4f54-9552-d424df32bec6",
   "metadata": {},
   "source": [
    "## English"
   ]
  },
  {
   "cell_type": "code",
   "execution_count": 488,
   "id": "dd59b61a-2f6d-4fda-88c9-80f598f9f578",
   "metadata": {
    "tags": []
   },
   "outputs": [],
   "source": [
    "seed = [{'verb': ['hits', 'kicks', 'touches', 'pushes'],\n",
    "   'subject': ['dog', 'cat', 'man', 'teacher', 'boy'],\n",
    "   'object': ['bottle', 'newspaper', 'box', 'lightbulb', 'cup']},\n",
    "\n",
    "{'verb': ['drinks'],\n",
    "'subject': ['dog', 'cat', 'man', 'teacher', 'boy'],\n",
    "'object': ['juice', 'tea', 'coffee', 'water', 'tonic']},\n",
    "\n",
    "{'verb': ['eats'],\n",
    "'subject': ['dog', 'cat', 'man', 'teacher', 'boy'],\n",
    "'object': ['banana', 'pear', 'fruit', 'pizza']},\n",
    "\n",
    "{'verb': ['reads'],\n",
    "'subject': ['poet', 'author', 'writer', 'orator', 'teacher', 'boy'],\n",
    "'object': ['story', 'letter', 'magazine', 'guide', 'postcard', 'novella', 'page', 'poem']}]\n",
    "\n",
    "seed_female = [{'verb': ['hits', 'kicks', 'touches', 'pushes'],\n",
    "   'subject': ['woman', 'girl', 'actress', 'teacher', 'doctor', 'lawyer', 'architect', 'professor', 'writer', 'cook'],\n",
    "   'object': ['fish', 'mouse', 'newspaper', 'chalk', 'hat', 'toy']},\n",
    "\n",
    "{'verb': ['drinks'],\n",
    " 'subject': ['woman', 'girl', 'actress', 'teacher', 'doctor', 'lawyer', 'architect', 'professor', 'writer', 'cook'],\n",
    " 'object': ['beverage', 'lemonade', 'milkshake', 'smoothie', 'espresso']},\n",
    "\n",
    "{'verb': ['eats'],\n",
    " 'subject': ['woman', 'girl', 'actress', 'teacher', 'doctor', 'lawyer', 'architect', 'professor', 'writer', 'cook'],\n",
    " 'object': ['biscuit', 'fish', 'meal', 'cucumber']},\n",
    "\n",
    "{'verb': ['reads'],\n",
    " 'subject': ['woman', 'girl', 'actress', 'teacher', 'doctor', 'lawyer', 'architect', 'professor', 'writer', 'cook'],\n",
    " 'object': ['book', 'poem', 'chapter']}]\n",
    "\n",
    "subordinateSeed = [ { 'verb' : ['thinks', 'says', 'states', 'believes', 'suggests'],\n",
    "                     'subject': ['Sheela', 'Leela', 'Maria', 'Gomu', 'John', 'Tom', 'Harry'], }]\n",
    "\n",
    "#Genders of subjects and objects should be different.\n",
    "ita_Seed = [ { 'verb' : ['colpisce', 'calcia', 'tocca', 'spinge'],  \n",
    "             'subject': ['cane', 'gatto', 'uomo', 'insegnante', 'ragazzo'], \n",
    "             'object': ['bottiglia', 'giornale', 'scatola', 'lampadina', 'tazza']},\n",
    "\n",
    "{ 'verb': ['beve'], \n",
    " 'subject': ['cane', 'gatto', 'uomo', 'insegnante', 'ragazzo'], \n",
    " 'object': ['succo', 'tè', 'caffè', 'acqua', 'tonico'] },\n",
    "\n",
    "{ 'verb': ['mangia'], \n",
    " 'subject' : ['cane', 'gatto', 'uomo', 'insegnante', 'ragazzo'],\n",
    " 'object': ['banana', 'pera', 'frutta', 'pizza' ]},\n",
    "\n",
    "{'verb': ['legge'], \n",
    " 'subject' : ['poeta', 'autore', 'scrittore', 'oratorio', 'insegnante', 'ragazzo'], \n",
    " 'object': ['storia', 'lettera', 'rivista', 'guida', 'cartolina', 'novella', 'pagina', 'poesia']} ]\n",
    "\n",
    "ita_Seed_female = [ { 'verb' : ['colpisce', 'calcia', 'tocca', 'spinge'],  \n",
    "                    'subject': ['donna', 'ragazza', 'attrice', 'maestra', 'dottoressa', 'avvocata', 'architetta', 'professoressa', 'scrittrice', 'cuoca' ], \n",
    "                    'object': ['pesce', 'topo', 'giornale', 'gesso', 'cappello', 'giocattolo']},\n",
    "\n",
    "{ 'verb': ['beve'], \n",
    " 'subject': ['donna', 'ragazza', 'attrice', 'maestra', 'dottoressa', 'avvocata', 'architetta', 'professoressa', 'scrittrice', 'cuoca' ], \n",
    " 'object': ['bevanda', 'limonata', 'frappè', 'frullato', 'espresso'] },\n",
    "\n",
    "{ 'verb': ['mangia'], \n",
    " 'subject' : ['donna', 'ragazza', 'attrice', 'maestra', 'dottoressa', 'avvocata', 'architetta', 'professoressa', 'scrittrice', 'cuoca' ], \n",
    " 'object': ['biscotto', 'pesce', 'pasto', 'cetriolo']},\n",
    "\n",
    "{'verb': ['legge'], \n",
    " 'subject' : ['donna', 'ragazza', 'attrice', 'maestra', 'dottoressa', 'avvocata', 'architetta', 'professoressa', 'scrittrice', 'cuoca' ], \n",
    " 'object': ['libro', 'poema', 'capitolo']} ]\n",
    "\n",
    "ita_SubordinateSeed = [ { 'verb' : ['pensa', 'dice', 'afferma', 'crede', 'suggerisce'],  \n",
    "                        'subject': ['Sheela', 'Leela', 'Maria', 'Gomu', 'John', 'Tom', 'Harry'], }]\n",
    "\n",
    "df = pd.DataFrame()\n",
    "\n",
    "def make_df(seed, ita_Seed, it_genderDict):\n",
    "    global df\n",
    "    for oidx, obj in enumerate(seed):\n",
    "        for sidx, subj in enumerate(obj['subject']):\n",
    "            for obidx, ob in enumerate(obj['object']):\n",
    "                for vidx, verb in enumerate(obj['verb']):\n",
    "                    sdet = random.choice(['the', 'a'])\n",
    "                    odet = random.choice(['the', 'a'])\n",
    "                    pSubj = random.choice(subordinateSeed[0]['subject'])\n",
    "                    pVerb = random.choice(subordinateSeed[0]['verb'])\n",
    "    \n",
    "                    if sdet == 'the':\n",
    "                        ita_Sdet = it_genderDict[ita_Seed[oidx]['subject'][sidx]][0] \n",
    "                    else: \n",
    "                        ita_Sdet = it_genderDict[ita_Seed[oidx]['subject'][sidx]][1]\n",
    "    \n",
    "                    if odet == 'the':\n",
    "                        it_odet = it_genderDict[ita_Seed[oidx]['object'][obidx]][0] \n",
    "                    else: \n",
    "                        it_odet = it_genderDict[ita_Seed[oidx]['object'][obidx]][1]\n",
    "                    \n",
    "                    ita_Subj = ita_Seed[oidx]['subject'][sidx]\n",
    "                    it_ob = ita_Seed[oidx]['object'][obidx]\n",
    "                    it_verb = ita_Seed[oidx]['verb'][vidx]\n",
    "                    \n",
    "                    it_pVerb = ita_SubordinateSeed[0]['verb'][subordinateSeed[0]['verb'].index(pVerb)]\n",
    "    \n",
    "                    temp_odet = it_odet\n",
    "                    if ita_Sdet =='il':\n",
    "                        ita_passive_from = 'dal'\n",
    "                    if ita_Sdet =='la':\n",
    "                        ita_passive_from = 'dalla'\n",
    "                    elif ita_Sdet == \"un\" or ita_Sdet == \"un'\":\n",
    "                        ita_passive_from = 'da un'\n",
    "                        temp_odet = 'un'\n",
    "                    elif ita_Sdet == \"una\":\n",
    "                        ita_passive_from = 'da una'\n",
    "                    elif ita_Sdet == \"l'\":\n",
    "                        temp_odet = 'il'\n",
    "                        ita_passive_from = \"dall'\"\n",
    "                    if not \"'\" in ita_passive_from:\n",
    "                        ita_passive_sentence = f\"{it_odet} {it_ob} {it_passiveSeed[it_verb][temp_odet]} {ita_passive_from} {ita_Subj}\"\n",
    "                    else:\n",
    "                        ita_passive_sentence = f\"{it_odet} {it_ob} {it_passiveSeed[it_verb][temp_odet]} {ita_passive_from}{ita_Subj}\"\n",
    "                    # print(ita_passive_sentence)\n",
    "                    if (ita_Sdet != \"l'\" and it_odet != \"l'\"):\n",
    "                        wh = random.choice(['when', 'what', 'who', 'which', 'why'])\n",
    "                        df = pd.concat([df, pd.DataFrame.from_dict([{\n",
    "                            \"ita-r-1\": f\"{ita_Sdet} {ita_Subj} {it_verb} {it_odet} {it_ob}\",\n",
    "                            \"ita-r-4-null_subject\": f\"{it_verb} {it_odet} {it_ob}\",\n",
    "                            \"ita-r-2-subordinate\": f\"{pSubj} {it_pVerb} che {ita_Sdet} {ita_Subj} {it_verb} {it_odet} {it_ob}\",\n",
    "                            \"ita-r-3-passive\": ita_passive_sentence,\n",
    "                            \"ita-u-1-negation\": f\"{ita_Sdet} {ita_Subj} {it_verb} {it_odet} no {it_ob}\",\n",
    "                            \"ita-u-2-inversion\": \" \".join(f\"{ita_Sdet} {ita_Subj} {it_verb} {it_odet} {it_ob}\".split(\" \")[::-1]),\n",
    "                            \"ita-u-3-gender\":f\"{it_odet} {ita_Subj} {it_verb} {it_odet} {it_ob}\",\n",
    "                            \"en-r-1\": f\"{sdet} {subj} {verb} {odet} {ob}\",\n",
    "                            \"en-r-2-subordinate\": f\"{pSubj} {pVerb} that the {subj} {verb} the {ob}\",\n",
    "                            \"en-r-3-passive\": f\"{odet} {ob} is {passiveSeed[verb]} by {sdet} {subj}\",\n",
    "                            \"en-u-1-negation\": f\"{sdet} {subj} {verb} {odet} doesn't {ob}\",\n",
    "                            \"en-u-2-inversion\": \" \".join(f\"{sdet} {subj} {verb} {odet} {ob}\".split(\" \")[::-1]),\n",
    "                            \"en-u-4-qsubordinate\": f\"{pSubj} {pVerb} that does the {subj} {verb} the {ob}?\",\n",
    "                            \"en-u-3-wh\": f\"Did {sdet} {subj} {verb} {odet} {wh} {ob}?\",\n",
    "                            \"en_S-r-1\": f\"{sdet} {en_en_S[subj]} {verb_en_S[verb]} {odet} {en_en_S[ob]}\",\n",
    "                            \"en_S-r-2-subordinate\": f\"{pSubj} {verb_en_S[pVerb]} that the {en_en_S[subj]} {verb_en_S[verb]} the {en_en_S[ob]}\",\n",
    "                            \"en_S-r-3-passive\": f\"{odet} {en_en_S[ob]} is {passiveSeed_en_S[verb]} by {sdet} {en_en_S[subj]}\",\n",
    "                            \"en_S-u-1-negation\": f\"{sdet} {en_en_S[subj]} {verb_en_S[verb]} {odet} doesn't {en_en_S[ob]}\",\n",
    "                            \"en_S-u-2-inversion\": \" \".join(f\"{sdet} {en_en_S[subj]} {verb_en_S[verb]} {odet} {en_en_S[ob]}\".split(\" \")[::-1]),\n",
    "                            \"en_S-u-4-qsubordinate\": f\"{pSubj} {pVerb} that does the {en_en_S[subj]} {verb_en_S[verb]} the {en_en_S[ob]}?\",\n",
    "                            \"en_S-u-3-wh\": f\"Did {sdet} {en_en_S[subj]} {verb_en_S[verb]} {odet} {wh} {en_en_S[ob]}?\"\n",
    "                        }])])\n",
    "                    elif (ita_Sdet == \"l'\" and it_odet != \"l'\"):\n",
    "                        wh = random.choice(['when', 'what', 'who', 'which', 'why'])\n",
    "                        df = pd.concat([df, pd.DataFrame.from_dict([{\n",
    "                            \"ita-r-1\": f\"{ita_Sdet}{ita_Subj} {it_verb} {it_odet} {it_ob}\",\n",
    "                            \"ita-r-4-null_subject\": f\"{it_verb} {it_odet} {it_ob}\",\n",
    "                            \"ita-r-2-subordinate\": f\"{pSubj} {it_pVerb} che {ita_Sdet}{ita_Subj} {it_verb} {it_odet} {it_ob}\",\n",
    "                            \"ita-r-3-passive\": ita_passive_sentence,\n",
    "                            \"ita-u-1-negation\": f\"{ita_Sdet}{ita_Subj} {it_verb} {it_odet} no {it_ob}\",\n",
    "                            \"ita-u-2-inversion\": \" \".join(f\"{ita_Sdet}{ita_Subj} {it_verb} {it_odet} {it_ob}\".split(\" \")[::-1]),\n",
    "                            \"ita-u-3-gender\": f\"{ita_Sdet}{ita_Subj} {it_verb} {it_odet} {it_ob}\", #using sdet instead of odet for subj, because it's a word starting w a vowel, and therefore the det is not gendered\n",
    "                            \"en-r-1\": f\"{sdet} {subj} {verb} {odet} {ob}\",\n",
    "                            \"en-r-2-subordinate\": f\"{pSubj} {pVerb} that the {subj} {verb} the {ob}\",\n",
    "                            \"en-r-3-passive\": f\"{odet} {ob} is {passiveSeed[verb]} by {sdet} {subj}\",\n",
    "                            \"en-u-1-negation\": f\"{sdet} {subj} {verb} {odet} doesn't {ob}\",\n",
    "                            \"en-u-2-inversion\": \" \".join(f\"{sdet} {subj} {verb} {odet} {ob}\".split(\" \")[::-1]),\n",
    "                            \"en-u-4-qsubordinate\": f\"{pSubj} {pVerb} that does the {subj} {verb} the {ob}?\",\n",
    "                            \"en-u-3-wh\": f\"Did {sdet} {subj} {verb} {odet} {wh} {ob}?\",\n",
    "                            \"en_S-r-1\": f\"{sdet} {en_en_S[subj]} {verb_en_S[verb]} {odet} {en_en_S[ob]}\",\n",
    "                            \"en_S-r-2-subordinate\": f\"{pSubj} {verb_en_S[pVerb]} that the {en_en_S[subj]} {verb_en_S[verb]} the {en_en_S[ob]}\",\n",
    "                            \"en_S-r-3-passive\": f\"{odet} {en_en_S[ob]} is {passiveSeed_en_S[verb]} by {sdet} {en_en_S[subj]}\",\n",
    "                            \"en_S-u-1-negation\": f\"{sdet} {en_en_S[subj]} {verb_en_S[verb]} {odet} doesn't {en_en_S[ob]}\",\n",
    "                            \"en_S-u-2-inversion\": \" \".join(f\"{sdet} {en_en_S[subj]} {verb_en_S[verb]} {odet} {en_en_S[ob]}\".split(\" \")[::-1]),\n",
    "                            \"en_S-u-4-qsubordinate\": f\"{pSubj} {pVerb} that does the {en_en_S[subj]} {verb_en_S[verb]} the {en_en_S[ob]}?\",\n",
    "                            \"en_S-u-3-wh\": f\"Did {sdet} {en_en_S[subj]} {verb_en_S[verb]} {odet} {wh} {en_en_S[ob]}?\"\n",
    "                        }])])\n",
    "                    elif (ita_Sdet == \"l'\" and it_odet == \"l'\"):\n",
    "                        wh = random.choice(['when', 'what', 'who', 'which', 'why'])\n",
    "                        df = pd.concat([df, pd.DataFrame.from_dict([{\n",
    "                            \"ita-r-1\": f\"{ita_Sdet}{ita_Subj} {it_verb} {it_odet}{it_ob}\",\n",
    "                            \"ita-r-4-null_subject\": f\"{it_verb} {it_odet}{it_ob}\",\n",
    "                            \"ita-r-2-subordinate\": f\"{pSubj} {it_pVerb} che {ita_Sdet} {ita_Subj} {it_verb} {it_odet}{it_ob}\",\n",
    "                            \"ita-r-3-passive\":ita_passive_sentence, \n",
    "                            \"ita-u-1-negation\": f\"{ita_Sdet}{ita_Subj} {it_verb} il no {it_ob}\",\n",
    "                            \"ita-u-2-inversion\": \" \".join( f\"{ita_Sdet}{ita_Subj} {it_verb} {it_odet}{it_ob}\".split(\" \")[::-1]),\n",
    "                            \"ita-u-3-gender\": f\"{it_odet}{ita_Subj} {it_verb} {it_odet}{it_ob}\", \n",
    "                            \"en-r-1\": f\"{sdet} {subj} {verb} {odet} {ob}\", \n",
    "                            \"en-r-2-subordinate\": f\"{pSubj} {pVerb} that the {subj} {verb} the {ob}\", \n",
    "                            \"en-r-3-passive\": f\"{odet} {ob} is {passiveSeed[verb]} by {sdet} {subj}\",\n",
    "                            \"en-u-1-negation\": f\"{sdet} {subj} {verb} {odet} doesn't {ob}\",\n",
    "                            \"en-u-2-inversion\": \" \".join(f\"{sdet} {subj} {verb} {odet} {ob}\".split(\" \")[::-1]),\n",
    "                            \"en-u-4-qsubordinate\": f\"{pSubj} {pVerb} that does the {subj} {verb} the {ob}?\",\n",
    "                            \"en-u-3-wh\": f\"Did {sdet} {subj} {verb} {odet} {wh} {ob}?\",\n",
    "                            \"en_S-r-1\": f\"{sdet} {en_en_S[subj]} {verb_en_S[verb]} {odet} {en_en_S[ob]}\",\n",
    "                            \"en_S-r-2-subordinate\": f\"{pSubj} {verb_en_S[pVerb]} that the {en_en_S[subj]} {verb_en_S[verb]} the {en_en_S[ob]}\",\n",
    "                            \"en_S-r-3-passive\": f\"{odet} {en_en_S[ob]} is {passiveSeed_en_S[verb]} by {sdet} {en_en_S[subj]}\",\n",
    "                            \"en_S-u-1-negation\": f\"{sdet} {en_en_S[subj]} {verb_en_S[verb]} {odet} doesn't {en_en_S[ob]}\",\n",
    "                            \"en_S-u-2-inversion\": \" \".join(f\"{sdet} {en_en_S[subj]} {verb_en_S[verb]} {odet} {en_en_S[ob]}\".split(\" \")[::-1]),\n",
    "                            \"en_S-u-4-qsubordinate\": f\"{pSubj} {pVerb} that does the {en_en_S[subj]} {verb_en_S[verb]} the {en_en_S[ob]}?\",\n",
    "                            \"en_S-u-3-wh\": f\"Did {sdet} {en_en_S[subj]} {verb_en_S[verb]} {odet} {wh} {en_en_S[ob]}?\"\n",
    "                        }])])\n",
    "                    else:\n",
    "                        wh = random.choice(['when', 'what', 'who', 'which', 'why'])\n",
    "                        df = pd.concat([df, pd.DataFrame.from_dict([{\n",
    "                            \"ita-r-1\": f\"{ita_Sdet} {ita_Subj} {it_verb} {it_odet}{it_ob}\",\n",
    "                            \"ita-r-4-null_subject\": f\"{it_verb} {it_odet}{it_ob}\",\n",
    "                            \"ita-r-2-subordinate\": f\"{pSubj} {it_pVerb} che {ita_Sdet}{ita_Subj} {it_verb} {it_odet}{it_ob}\",\n",
    "                            \"ita-r-3-passive\":ita_passive_sentence, \n",
    "                            \"ita-u-1-negation\": f\"{ita_Sdet} {ita_Subj} {it_verb} {it_odet} no {it_ob}\",\n",
    "                            \"ita-u-2-inversion\": \" \".join(f\"{ita_Sdet} {ita_Subj} {it_verb} {it_odet}{it_ob}\".split(\" \")[::-1]),\n",
    "                            \"ita-u-3-gender\": f\"il {ita_Subj} {it_verb} {it_odet}{it_ob}\",\n",
    "                            \"en-r-1\": f\"{sdet} {subj} {verb} {odet} {ob}\",\n",
    "                            \"en-r-2-subordinate\": f\"{pSubj} {pVerb} that the {subj} {verb} the {ob}\",\n",
    "                            \"en-r-3-passive\": f\"{odet} {ob} is {passiveSeed[verb]} by {sdet} {subj}\", \n",
    "                            \"en-u-1-negation\": f\"{sdet} {subj} {verb} {odet} doesn't {ob}\",\n",
    "                            \"en-u-2-inversion\": \" \".join(f\"{sdet} {subj} {verb} {odet} {ob}\".split(\" \")[::-1]),\n",
    "                            \"en-u-4-qsubordinate\": f\"{pSubj} {pVerb} that does the {subj} {verb} the {ob}?\",\n",
    "                            \"en-u-3-wh\": f\"Did {sdet} {subj} {verb} {odet} {wh} {ob}?\",\n",
    "                            \"en_S-r-1\": f\"{sdet} {en_en_S[subj]} {verb_en_S[verb]} {odet} {en_en_S[ob]}\",\n",
    "                            \"en_S-r-2-subordinate\": f\"{pSubj} {verb_en_S[pVerb]} that the {en_en_S[subj]} {verb_en_S[verb]} the {en_en_S[ob]}\",\n",
    "                            \"en_S-r-3-passive\": f\"{odet} {en_en_S[ob]} is {passiveSeed_en_S[verb]} by {sdet} {en_en_S[subj]}\",\n",
    "                            \"en_S-u-1-negation\": f\"{sdet} {en_en_S[subj]} {verb_en_S[verb]} {odet} doesn't {en_en_S[ob]}\",\n",
    "                            \"en_S-u-2-inversion\": \" \".join(f\"{sdet} {en_en_S[subj]} {verb_en_S[verb]} {odet} {en_en_S[ob]}\".split(\" \")[::-1]),\n",
    "                            \"en_S-u-4-qsubordinate\": f\"{pSubj} {pVerb} that does the {en_en_S[subj]} {verb_en_S[verb]} the {en_en_S[ob]}?\",\n",
    "                            \"en_S-u-3-wh\": f\"Did {sdet} {en_en_S[subj]} {verb_en_S[verb]} {odet} {wh} {en_en_S[ob]}?\"\n",
    "                        }])])\n",
    "\n",
    "make_df(seed, ita_Seed, it_genderDict)\n",
    "make_df(seed_female, ita_Seed_female, it_genderDict)"
   ]
  },
  {
   "cell_type": "code",
   "execution_count": 489,
   "id": "f388703a-77c1-48e7-8259-bd71175d040d",
   "metadata": {
    "tags": []
   },
   "outputs": [
    {
     "data": {
      "text/html": [
       "<div>\n",
       "<style scoped>\n",
       "    .dataframe tbody tr th:only-of-type {\n",
       "        vertical-align: middle;\n",
       "    }\n",
       "\n",
       "    .dataframe tbody tr th {\n",
       "        vertical-align: top;\n",
       "    }\n",
       "\n",
       "    .dataframe thead th {\n",
       "        text-align: right;\n",
       "    }\n",
       "</style>\n",
       "<table border=\"1\" class=\"dataframe\">\n",
       "  <thead>\n",
       "    <tr style=\"text-align: right;\">\n",
       "      <th></th>\n",
       "      <th>index</th>\n",
       "      <th>ita-r-1</th>\n",
       "      <th>ita-r-4-null_subject</th>\n",
       "      <th>ita-r-2-subordinate</th>\n",
       "      <th>ita-r-3-passive</th>\n",
       "      <th>ita-u-1-negation</th>\n",
       "      <th>ita-u-2-inversion</th>\n",
       "      <th>ita-u-3-gender</th>\n",
       "      <th>en-r-1</th>\n",
       "      <th>en-r-2-subordinate</th>\n",
       "      <th>...</th>\n",
       "      <th>en-u-2-inversion</th>\n",
       "      <th>en-u-4-qsubordinate</th>\n",
       "      <th>en-u-3-wh</th>\n",
       "      <th>en_S-r-1</th>\n",
       "      <th>en_S-r-2-subordinate</th>\n",
       "      <th>en_S-r-3-passive</th>\n",
       "      <th>en_S-u-1-negation</th>\n",
       "      <th>en_S-u-2-inversion</th>\n",
       "      <th>en_S-u-4-qsubordinate</th>\n",
       "      <th>en_S-u-3-wh</th>\n",
       "    </tr>\n",
       "  </thead>\n",
       "  <tbody>\n",
       "    <tr>\n",
       "      <th>0</th>\n",
       "      <td>0</td>\n",
       "      <td>il cane colpisce la bottiglia</td>\n",
       "      <td>colpisce la bottiglia</td>\n",
       "      <td>Tom afferma che il cane colpisce la bottiglia</td>\n",
       "      <td>la bottiglia è colpita dal cane</td>\n",
       "      <td>il cane colpisce la no bottiglia</td>\n",
       "      <td>bottiglia la colpisce cane il</td>\n",
       "      <td>la cane colpisce la bottiglia</td>\n",
       "      <td>the dog hits the bottle</td>\n",
       "      <td>Tom states that the dog hits the bottle</td>\n",
       "      <td>...</td>\n",
       "      <td>bottle the hits dog the</td>\n",
       "      <td>Tom states that does the dog hits the bottle?</td>\n",
       "      <td>Did the dog hits the what bottle?</td>\n",
       "      <td>the pundle hufkos the woggle</td>\n",
       "      <td>Tom gnobos that the pundle hufkos the woggle</td>\n",
       "      <td>the woggle is hufkoed by the pundle</td>\n",
       "      <td>the pundle hufkos the doesn't woggle</td>\n",
       "      <td>woggle the hufkos pundle the</td>\n",
       "      <td>Tom states that does the pundle hufkos the wog...</td>\n",
       "      <td>Did the pundle hufkos the what woggle?</td>\n",
       "    </tr>\n",
       "    <tr>\n",
       "      <th>1</th>\n",
       "      <td>0</td>\n",
       "      <td>il cane calcia la bottiglia</td>\n",
       "      <td>calcia la bottiglia</td>\n",
       "      <td>Tom pensa che il cane calcia la bottiglia</td>\n",
       "      <td>la bottiglia è calciata dal cane</td>\n",
       "      <td>il cane calcia la no bottiglia</td>\n",
       "      <td>bottiglia la calcia cane il</td>\n",
       "      <td>la cane calcia la bottiglia</td>\n",
       "      <td>the dog kicks the bottle</td>\n",
       "      <td>Tom thinks that the dog kicks the bottle</td>\n",
       "      <td>...</td>\n",
       "      <td>bottle the kicks dog the</td>\n",
       "      <td>Tom thinks that does the dog kicks the bottle?</td>\n",
       "      <td>Did the dog kicks the why bottle?</td>\n",
       "      <td>the pundle chuskos the woggle</td>\n",
       "      <td>Tom soffles that the pundle chuskos the woggle</td>\n",
       "      <td>the woggle is chuskoed by the pundle</td>\n",
       "      <td>the pundle chuskos the doesn't woggle</td>\n",
       "      <td>woggle the chuskos pundle the</td>\n",
       "      <td>Tom thinks that does the pundle chuskos the wo...</td>\n",
       "      <td>Did the pundle chuskos the why woggle?</td>\n",
       "    </tr>\n",
       "    <tr>\n",
       "      <th>2</th>\n",
       "      <td>0</td>\n",
       "      <td>il cane tocca una bottiglia</td>\n",
       "      <td>tocca una bottiglia</td>\n",
       "      <td>Sheela pensa che il cane tocca una bottiglia</td>\n",
       "      <td>una bottiglia è toccata dal cane</td>\n",
       "      <td>il cane tocca una no bottiglia</td>\n",
       "      <td>bottiglia una tocca cane il</td>\n",
       "      <td>una cane tocca una bottiglia</td>\n",
       "      <td>the dog touches a bottle</td>\n",
       "      <td>Sheela thinks that the dog touches the bottle</td>\n",
       "      <td>...</td>\n",
       "      <td>bottle a touches dog the</td>\n",
       "      <td>Sheela thinks that does the dog touches the bo...</td>\n",
       "      <td>Did the dog touches a when bottle?</td>\n",
       "      <td>the pundle stoffles a woggle</td>\n",
       "      <td>Sheela soffles that the pundle stoffles the wo...</td>\n",
       "      <td>a woggle is stoffled by the pundle</td>\n",
       "      <td>the pundle stoffles a doesn't woggle</td>\n",
       "      <td>woggle a stoffles pundle the</td>\n",
       "      <td>Sheela thinks that does the pundle stoffles th...</td>\n",
       "      <td>Did the pundle stoffles a when woggle?</td>\n",
       "    </tr>\n",
       "    <tr>\n",
       "      <th>3</th>\n",
       "      <td>0</td>\n",
       "      <td>il cane spinge la bottiglia</td>\n",
       "      <td>spinge la bottiglia</td>\n",
       "      <td>John suggerisce che il cane spinge la bottiglia</td>\n",
       "      <td>la bottiglia è spinta dal cane</td>\n",
       "      <td>il cane spinge la no bottiglia</td>\n",
       "      <td>bottiglia la spinge cane il</td>\n",
       "      <td>la cane spinge la bottiglia</td>\n",
       "      <td>the dog pushes the bottle</td>\n",
       "      <td>John suggests that the dog pushes the bottle</td>\n",
       "      <td>...</td>\n",
       "      <td>bottle the pushes dog the</td>\n",
       "      <td>John suggests that does the dog pushes the bot...</td>\n",
       "      <td>Did the dog pushes the when bottle?</td>\n",
       "      <td>the pundle chunges the woggle</td>\n",
       "      <td>John trongos that the pundle chunges the woggle</td>\n",
       "      <td>the woggle is chunged by the pundle</td>\n",
       "      <td>the pundle chunges the doesn't woggle</td>\n",
       "      <td>woggle the chunges pundle the</td>\n",
       "      <td>John suggests that does the pundle chunges the...</td>\n",
       "      <td>Did the pundle chunges the when woggle?</td>\n",
       "    </tr>\n",
       "    <tr>\n",
       "      <th>4</th>\n",
       "      <td>0</td>\n",
       "      <td>il cane colpisce un giornale</td>\n",
       "      <td>colpisce un giornale</td>\n",
       "      <td>Leela crede che il cane colpisce un giornale</td>\n",
       "      <td>un giornale è colpito dal cane</td>\n",
       "      <td>il cane colpisce un no giornale</td>\n",
       "      <td>giornale un colpisce cane il</td>\n",
       "      <td>un cane colpisce un giornale</td>\n",
       "      <td>the dog hits a newspaper</td>\n",
       "      <td>Leela believes that the dog hits the newspaper</td>\n",
       "      <td>...</td>\n",
       "      <td>newspaper a hits dog the</td>\n",
       "      <td>Leela believes that does the dog hits the news...</td>\n",
       "      <td>Did the dog hits a why newspaper?</td>\n",
       "      <td>the pundle hufkos a gongle</td>\n",
       "      <td>Leela herdles that the pundle hufkos the gongle</td>\n",
       "      <td>a gongle is hufkoed by the pundle</td>\n",
       "      <td>the pundle hufkos a doesn't gongle</td>\n",
       "      <td>gongle a hufkos pundle the</td>\n",
       "      <td>Leela believes that does the pundle hufkos the...</td>\n",
       "      <td>Did the pundle hufkos a why gongle?</td>\n",
       "    </tr>\n",
       "    <tr>\n",
       "      <th>...</th>\n",
       "      <td>...</td>\n",
       "      <td>...</td>\n",
       "      <td>...</td>\n",
       "      <td>...</td>\n",
       "      <td>...</td>\n",
       "      <td>...</td>\n",
       "      <td>...</td>\n",
       "      <td>...</td>\n",
       "      <td>...</td>\n",
       "      <td>...</td>\n",
       "      <td>...</td>\n",
       "      <td>...</td>\n",
       "      <td>...</td>\n",
       "      <td>...</td>\n",
       "      <td>...</td>\n",
       "      <td>...</td>\n",
       "      <td>...</td>\n",
       "      <td>...</td>\n",
       "      <td>...</td>\n",
       "      <td>...</td>\n",
       "      <td>...</td>\n",
       "    </tr>\n",
       "    <tr>\n",
       "      <th>1101</th>\n",
       "      <td>0</td>\n",
       "      <td>le scrittrici leggono il poema</td>\n",
       "      <td>leggono il poema</td>\n",
       "      <td>Tom pensa che le scrittrici leggono il poema</td>\n",
       "      <td>il poema è letto dalle scrittrici</td>\n",
       "      <td>le scrittrici leggono il no poema</td>\n",
       "      <td>poema il leggono scrittrici le</td>\n",
       "      <td>il scrittrici leggono il poema</td>\n",
       "      <td>the writers read the poem</td>\n",
       "      <td>Tom thinks that the writers read the poem</td>\n",
       "      <td>...</td>\n",
       "      <td>poem the read writers the</td>\n",
       "      <td>Tom thinks that does the writers read the poem?</td>\n",
       "      <td>Did the writers read the when poem?</td>\n",
       "      <td>the arcuplos gurdle the skerpo</td>\n",
       "      <td>Tom soffles that the arcuplos gurdle the skerpo</td>\n",
       "      <td>the skerpo is gurdled by the arcuplos</td>\n",
       "      <td>the arcuplos gurdle the doesn't skerpo</td>\n",
       "      <td>skerpo the gurdle arcuplos the</td>\n",
       "      <td>Tom thinks that does the arcuplos gurdle the s...</td>\n",
       "      <td>Did the arcuplos gurdle the when skerpo?</td>\n",
       "    </tr>\n",
       "    <tr>\n",
       "      <th>1102</th>\n",
       "      <td>0</td>\n",
       "      <td>le scrittrici leggono il capitolo</td>\n",
       "      <td>leggono il capitolo</td>\n",
       "      <td>Maria crede che le scrittrici leggono il capitolo</td>\n",
       "      <td>il capitolo è letto dalle scrittrici</td>\n",
       "      <td>le scrittrici leggono il no capitolo</td>\n",
       "      <td>capitolo il leggono scrittrici le</td>\n",
       "      <td>il scrittrici leggono il capitolo</td>\n",
       "      <td>the writers read a chapter</td>\n",
       "      <td>Maria believes that the writers read the chapter</td>\n",
       "      <td>...</td>\n",
       "      <td>chapter a read writers the</td>\n",
       "      <td>Maria believes that does the writers read the ...</td>\n",
       "      <td>Did the writers read a which chapter?</td>\n",
       "      <td>the arcuplos gurdle a wrindle</td>\n",
       "      <td>Maria herdles that the arcuplos gurdle the wri...</td>\n",
       "      <td>a wrindle is gurdled by the arcuplos</td>\n",
       "      <td>the arcuplos gurdle a doesn't wrindle</td>\n",
       "      <td>wrindle a gurdle arcuplos the</td>\n",
       "      <td>Maria believes that does the arcuplos gurdle t...</td>\n",
       "      <td>Did the arcuplos gurdle a which wrindle?</td>\n",
       "    </tr>\n",
       "    <tr>\n",
       "      <th>1103</th>\n",
       "      <td>0</td>\n",
       "      <td>le cuoche leggono il libro</td>\n",
       "      <td>leggono il libro</td>\n",
       "      <td>Gomu suggerisce che le cuoche leggono il libro</td>\n",
       "      <td>il libro è letto dalle cuoche</td>\n",
       "      <td>le cuoche leggono il no libro</td>\n",
       "      <td>libro il leggono cuoche le</td>\n",
       "      <td>il cuoche leggono il libro</td>\n",
       "      <td>the cooks read the book</td>\n",
       "      <td>Gomu suggests that the cooks read the book</td>\n",
       "      <td>...</td>\n",
       "      <td>book the read cooks the</td>\n",
       "      <td>Gomu suggests that does the cooks read the book?</td>\n",
       "      <td>Did the cooks read the why book?</td>\n",
       "      <td>the fuzzles gurdle the dringle</td>\n",
       "      <td>Gomu trongos that the fuzzles gurdle the dringle</td>\n",
       "      <td>the dringle is gurdled by the fuzzles</td>\n",
       "      <td>the fuzzles gurdle the doesn't dringle</td>\n",
       "      <td>dringle the gurdle fuzzles the</td>\n",
       "      <td>Gomu suggests that does the fuzzles gurdle the...</td>\n",
       "      <td>Did the fuzzles gurdle the why dringle?</td>\n",
       "    </tr>\n",
       "    <tr>\n",
       "      <th>1104</th>\n",
       "      <td>0</td>\n",
       "      <td>le cuoche leggono il poema</td>\n",
       "      <td>leggono il poema</td>\n",
       "      <td>Sheela pensa che le cuoche leggono il poema</td>\n",
       "      <td>il poema è letto dalle cuoche</td>\n",
       "      <td>le cuoche leggono il no poema</td>\n",
       "      <td>poema il leggono cuoche le</td>\n",
       "      <td>il cuoche leggono il poema</td>\n",
       "      <td>the cooks read the poem</td>\n",
       "      <td>Sheela thinks that the cooks read the poem</td>\n",
       "      <td>...</td>\n",
       "      <td>poem the read cooks the</td>\n",
       "      <td>Sheela thinks that does the cooks read the poem?</td>\n",
       "      <td>Did the cooks read the why poem?</td>\n",
       "      <td>the fuzzles gurdle the skerpo</td>\n",
       "      <td>Sheela soffles that the fuzzles gurdle the skerpo</td>\n",
       "      <td>the skerpo is gurdled by the fuzzles</td>\n",
       "      <td>the fuzzles gurdle the doesn't skerpo</td>\n",
       "      <td>skerpo the gurdle fuzzles the</td>\n",
       "      <td>Sheela thinks that does the fuzzles gurdle the...</td>\n",
       "      <td>Did the fuzzles gurdle the why skerpo?</td>\n",
       "    </tr>\n",
       "    <tr>\n",
       "      <th>1105</th>\n",
       "      <td>0</td>\n",
       "      <td>le cuoche leggono il capitolo</td>\n",
       "      <td>leggono il capitolo</td>\n",
       "      <td>Maria suggerisce che le cuoche leggono il capi...</td>\n",
       "      <td>il capitolo è letto dalle cuoche</td>\n",
       "      <td>le cuoche leggono il no capitolo</td>\n",
       "      <td>capitolo il leggono cuoche le</td>\n",
       "      <td>il cuoche leggono il capitolo</td>\n",
       "      <td>the cooks read a chapter</td>\n",
       "      <td>Maria suggests that the cooks read the chapter</td>\n",
       "      <td>...</td>\n",
       "      <td>chapter a read cooks the</td>\n",
       "      <td>Maria suggests that does the cooks read the ch...</td>\n",
       "      <td>Did the cooks read a who chapter?</td>\n",
       "      <td>the fuzzles gurdle a wrindle</td>\n",
       "      <td>Maria trongos that the fuzzles gurdle the wrindle</td>\n",
       "      <td>a wrindle is gurdled by the fuzzles</td>\n",
       "      <td>the fuzzles gurdle a doesn't wrindle</td>\n",
       "      <td>wrindle a gurdle fuzzles the</td>\n",
       "      <td>Maria suggests that does the fuzzles gurdle th...</td>\n",
       "      <td>Did the fuzzles gurdle a who wrindle?</td>\n",
       "    </tr>\n",
       "  </tbody>\n",
       "</table>\n",
       "<p>1106 rows × 22 columns</p>\n",
       "</div>"
      ],
      "text/plain": [
       "      index                            ita-r-1   ita-r-4-null_subject  \\\n",
       "0         0      il cane colpisce la bottiglia  colpisce la bottiglia   \n",
       "1         0        il cane calcia la bottiglia    calcia la bottiglia   \n",
       "2         0        il cane tocca una bottiglia    tocca una bottiglia   \n",
       "3         0        il cane spinge la bottiglia    spinge la bottiglia   \n",
       "4         0       il cane colpisce un giornale   colpisce un giornale   \n",
       "...     ...                                ...                    ...   \n",
       "1101      0     le scrittrici leggono il poema       leggono il poema   \n",
       "1102      0  le scrittrici leggono il capitolo    leggono il capitolo   \n",
       "1103      0         le cuoche leggono il libro       leggono il libro   \n",
       "1104      0         le cuoche leggono il poema       leggono il poema   \n",
       "1105      0      le cuoche leggono il capitolo    leggono il capitolo   \n",
       "\n",
       "                                    ita-r-2-subordinate  \\\n",
       "0         Tom afferma che il cane colpisce la bottiglia   \n",
       "1             Tom pensa che il cane calcia la bottiglia   \n",
       "2          Sheela pensa che il cane tocca una bottiglia   \n",
       "3       John suggerisce che il cane spinge la bottiglia   \n",
       "4          Leela crede che il cane colpisce un giornale   \n",
       "...                                                 ...   \n",
       "1101       Tom pensa che le scrittrici leggono il poema   \n",
       "1102  Maria crede che le scrittrici leggono il capitolo   \n",
       "1103     Gomu suggerisce che le cuoche leggono il libro   \n",
       "1104        Sheela pensa che le cuoche leggono il poema   \n",
       "1105  Maria suggerisce che le cuoche leggono il capi...   \n",
       "\n",
       "                           ita-r-3-passive  \\\n",
       "0          la bottiglia è colpita dal cane   \n",
       "1         la bottiglia è calciata dal cane   \n",
       "2         una bottiglia è toccata dal cane   \n",
       "3           la bottiglia è spinta dal cane   \n",
       "4           un giornale è colpito dal cane   \n",
       "...                                    ...   \n",
       "1101     il poema è letto dalle scrittrici   \n",
       "1102  il capitolo è letto dalle scrittrici   \n",
       "1103         il libro è letto dalle cuoche   \n",
       "1104         il poema è letto dalle cuoche   \n",
       "1105      il capitolo è letto dalle cuoche   \n",
       "\n",
       "                          ita-u-1-negation                  ita-u-2-inversion  \\\n",
       "0         il cane colpisce la no bottiglia      bottiglia la colpisce cane il   \n",
       "1           il cane calcia la no bottiglia        bottiglia la calcia cane il   \n",
       "2           il cane tocca una no bottiglia        bottiglia una tocca cane il   \n",
       "3           il cane spinge la no bottiglia        bottiglia la spinge cane il   \n",
       "4          il cane colpisce un no giornale       giornale un colpisce cane il   \n",
       "...                                    ...                                ...   \n",
       "1101     le scrittrici leggono il no poema     poema il leggono scrittrici le   \n",
       "1102  le scrittrici leggono il no capitolo  capitolo il leggono scrittrici le   \n",
       "1103         le cuoche leggono il no libro         libro il leggono cuoche le   \n",
       "1104         le cuoche leggono il no poema         poema il leggono cuoche le   \n",
       "1105      le cuoche leggono il no capitolo      capitolo il leggono cuoche le   \n",
       "\n",
       "                         ita-u-3-gender                      en-r-1  \\\n",
       "0         la cane colpisce la bottiglia     the dog hits the bottle   \n",
       "1           la cane calcia la bottiglia    the dog kicks the bottle   \n",
       "2          una cane tocca una bottiglia    the dog touches a bottle   \n",
       "3           la cane spinge la bottiglia   the dog pushes the bottle   \n",
       "4          un cane colpisce un giornale    the dog hits a newspaper   \n",
       "...                                 ...                         ...   \n",
       "1101     il scrittrici leggono il poema   the writers read the poem   \n",
       "1102  il scrittrici leggono il capitolo  the writers read a chapter   \n",
       "1103         il cuoche leggono il libro     the cooks read the book   \n",
       "1104         il cuoche leggono il poema     the cooks read the poem   \n",
       "1105      il cuoche leggono il capitolo    the cooks read a chapter   \n",
       "\n",
       "                                    en-r-2-subordinate  ...  \\\n",
       "0              Tom states that the dog hits the bottle  ...   \n",
       "1             Tom thinks that the dog kicks the bottle  ...   \n",
       "2        Sheela thinks that the dog touches the bottle  ...   \n",
       "3         John suggests that the dog pushes the bottle  ...   \n",
       "4       Leela believes that the dog hits the newspaper  ...   \n",
       "...                                                ...  ...   \n",
       "1101         Tom thinks that the writers read the poem  ...   \n",
       "1102  Maria believes that the writers read the chapter  ...   \n",
       "1103        Gomu suggests that the cooks read the book  ...   \n",
       "1104        Sheela thinks that the cooks read the poem  ...   \n",
       "1105    Maria suggests that the cooks read the chapter  ...   \n",
       "\n",
       "                en-u-2-inversion  \\\n",
       "0        bottle the hits dog the   \n",
       "1       bottle the kicks dog the   \n",
       "2       bottle a touches dog the   \n",
       "3      bottle the pushes dog the   \n",
       "4       newspaper a hits dog the   \n",
       "...                          ...   \n",
       "1101   poem the read writers the   \n",
       "1102  chapter a read writers the   \n",
       "1103     book the read cooks the   \n",
       "1104     poem the read cooks the   \n",
       "1105    chapter a read cooks the   \n",
       "\n",
       "                                    en-u-4-qsubordinate  \\\n",
       "0         Tom states that does the dog hits the bottle?   \n",
       "1        Tom thinks that does the dog kicks the bottle?   \n",
       "2     Sheela thinks that does the dog touches the bo...   \n",
       "3     John suggests that does the dog pushes the bot...   \n",
       "4     Leela believes that does the dog hits the news...   \n",
       "...                                                 ...   \n",
       "1101    Tom thinks that does the writers read the poem?   \n",
       "1102  Maria believes that does the writers read the ...   \n",
       "1103   Gomu suggests that does the cooks read the book?   \n",
       "1104   Sheela thinks that does the cooks read the poem?   \n",
       "1105  Maria suggests that does the cooks read the ch...   \n",
       "\n",
       "                                  en-u-3-wh                        en_S-r-1  \\\n",
       "0         Did the dog hits the what bottle?    the pundle hufkos the woggle   \n",
       "1         Did the dog kicks the why bottle?   the pundle chuskos the woggle   \n",
       "2        Did the dog touches a when bottle?    the pundle stoffles a woggle   \n",
       "3       Did the dog pushes the when bottle?   the pundle chunges the woggle   \n",
       "4         Did the dog hits a why newspaper?      the pundle hufkos a gongle   \n",
       "...                                     ...                             ...   \n",
       "1101    Did the writers read the when poem?  the arcuplos gurdle the skerpo   \n",
       "1102  Did the writers read a which chapter?   the arcuplos gurdle a wrindle   \n",
       "1103       Did the cooks read the why book?  the fuzzles gurdle the dringle   \n",
       "1104       Did the cooks read the why poem?   the fuzzles gurdle the skerpo   \n",
       "1105      Did the cooks read a who chapter?    the fuzzles gurdle a wrindle   \n",
       "\n",
       "                                   en_S-r-2-subordinate  \\\n",
       "0          Tom gnobos that the pundle hufkos the woggle   \n",
       "1        Tom soffles that the pundle chuskos the woggle   \n",
       "2     Sheela soffles that the pundle stoffles the wo...   \n",
       "3       John trongos that the pundle chunges the woggle   \n",
       "4       Leela herdles that the pundle hufkos the gongle   \n",
       "...                                                 ...   \n",
       "1101    Tom soffles that the arcuplos gurdle the skerpo   \n",
       "1102  Maria herdles that the arcuplos gurdle the wri...   \n",
       "1103   Gomu trongos that the fuzzles gurdle the dringle   \n",
       "1104  Sheela soffles that the fuzzles gurdle the skerpo   \n",
       "1105  Maria trongos that the fuzzles gurdle the wrindle   \n",
       "\n",
       "                           en_S-r-3-passive  \\\n",
       "0       the woggle is hufkoed by the pundle   \n",
       "1      the woggle is chuskoed by the pundle   \n",
       "2        a woggle is stoffled by the pundle   \n",
       "3       the woggle is chunged by the pundle   \n",
       "4         a gongle is hufkoed by the pundle   \n",
       "...                                     ...   \n",
       "1101  the skerpo is gurdled by the arcuplos   \n",
       "1102   a wrindle is gurdled by the arcuplos   \n",
       "1103  the dringle is gurdled by the fuzzles   \n",
       "1104   the skerpo is gurdled by the fuzzles   \n",
       "1105    a wrindle is gurdled by the fuzzles   \n",
       "\n",
       "                           en_S-u-1-negation              en_S-u-2-inversion  \\\n",
       "0       the pundle hufkos the doesn't woggle    woggle the hufkos pundle the   \n",
       "1      the pundle chuskos the doesn't woggle   woggle the chuskos pundle the   \n",
       "2       the pundle stoffles a doesn't woggle    woggle a stoffles pundle the   \n",
       "3      the pundle chunges the doesn't woggle   woggle the chunges pundle the   \n",
       "4         the pundle hufkos a doesn't gongle      gongle a hufkos pundle the   \n",
       "...                                      ...                             ...   \n",
       "1101  the arcuplos gurdle the doesn't skerpo  skerpo the gurdle arcuplos the   \n",
       "1102   the arcuplos gurdle a doesn't wrindle   wrindle a gurdle arcuplos the   \n",
       "1103  the fuzzles gurdle the doesn't dringle  dringle the gurdle fuzzles the   \n",
       "1104   the fuzzles gurdle the doesn't skerpo   skerpo the gurdle fuzzles the   \n",
       "1105    the fuzzles gurdle a doesn't wrindle    wrindle a gurdle fuzzles the   \n",
       "\n",
       "                                  en_S-u-4-qsubordinate  \\\n",
       "0     Tom states that does the pundle hufkos the wog...   \n",
       "1     Tom thinks that does the pundle chuskos the wo...   \n",
       "2     Sheela thinks that does the pundle stoffles th...   \n",
       "3     John suggests that does the pundle chunges the...   \n",
       "4     Leela believes that does the pundle hufkos the...   \n",
       "...                                                 ...   \n",
       "1101  Tom thinks that does the arcuplos gurdle the s...   \n",
       "1102  Maria believes that does the arcuplos gurdle t...   \n",
       "1103  Gomu suggests that does the fuzzles gurdle the...   \n",
       "1104  Sheela thinks that does the fuzzles gurdle the...   \n",
       "1105  Maria suggests that does the fuzzles gurdle th...   \n",
       "\n",
       "                                   en_S-u-3-wh  \n",
       "0       Did the pundle hufkos the what woggle?  \n",
       "1       Did the pundle chuskos the why woggle?  \n",
       "2       Did the pundle stoffles a when woggle?  \n",
       "3      Did the pundle chunges the when woggle?  \n",
       "4          Did the pundle hufkos a why gongle?  \n",
       "...                                        ...  \n",
       "1101  Did the arcuplos gurdle the when skerpo?  \n",
       "1102  Did the arcuplos gurdle a which wrindle?  \n",
       "1103   Did the fuzzles gurdle the why dringle?  \n",
       "1104    Did the fuzzles gurdle the why skerpo?  \n",
       "1105     Did the fuzzles gurdle a who wrindle?  \n",
       "\n",
       "[1106 rows x 22 columns]"
      ]
     },
     "execution_count": 489,
     "metadata": {},
     "output_type": "execute_result"
    }
   ],
   "source": [
    "pluralSeed = [{'verb': ['hit', 'kick', 'touch', 'push'],\n",
    "   'subject': ['dogs', 'cats', 'men', 'teachers', 'boys'],\n",
    "   'object': ['bottle', 'newspaper', 'box', 'lightbulb', 'cup']},\n",
    "\n",
    "{'verb': ['drink'],\n",
    "'subject': ['dogs', 'cats', 'men', 'teachers', 'boys'],\n",
    "'object': ['juice', 'tea', 'coffee', 'water', 'tonic']},\n",
    "\n",
    "{'verb': ['eat'],\n",
    "'subject': ['dogs', 'cats', 'men', 'teachers', 'boys'],\n",
    "'object': ['banana', 'pear', 'fruit', 'pizza']},\n",
    "\n",
    "{'verb': ['read'],\n",
    "'subject': ['poets', 'authors', 'writers', 'orators', 'teachers', 'boys'],\n",
    "'object': ['story', 'letter', 'magazine', 'guide', 'postcard', 'novella', 'page', 'poem']}]\n",
    "\n",
    "pluralSeed_female = [{'verb': ['hit', 'kick', 'touch', 'push'],\n",
    "   'subject': ['women', 'girls', 'actresses', 'teachers', 'doctors', 'lawyers', 'architects', 'professors', 'writers', 'cooks'],\n",
    "   'object': ['fish', 'mouse', 'newspaper', 'chalk', 'hat', 'toy']},\n",
    "\n",
    "{'verb': ['drink'],\n",
    " 'subject': ['women', 'girls', 'actresses', 'teachers', 'doctors', 'lawyers', 'architects', 'professors', 'writers', 'cooks'],\n",
    " 'object': ['beverage', 'lemonade', 'milkshake', 'smoothie', 'espresso']},\n",
    "\n",
    "{'verb': ['eat'],\n",
    " 'subject': ['women', 'girls', 'actresses', 'teachers', 'doctors', 'lawyers', 'architects', 'professors', 'writers', 'cooks'],\n",
    " 'object': ['biscuit', 'fish', 'meal', 'cucumber']},\n",
    "\n",
    "{'verb': ['read'],\n",
    " 'subject': ['women', 'girls', 'actresses', 'teachers', 'doctors', 'lawyers', 'architects', 'professors', 'writers', 'cooks'],\n",
    " 'object': ['book', 'poem', 'chapter']}]\n",
    "\n",
    "it_pluralSeed = [ { 'verb' : ['colpiscono', 'calciano', 'toccano', 'spingono'],  \n",
    "             'subject': ['cani', 'gatti', 'uomini', 'insegnanti', 'ragazzi'], \n",
    "             'object': ['bottiglia', 'giornale', 'scatola', 'lampadina', 'tazza']},\n",
    "\n",
    "{ 'verb': ['bevono'], \n",
    " 'subject': ['cani', 'gatti', 'uomini', 'insegnanti', 'ragazzi'], \n",
    " 'object': ['succo', 'tè', 'caffè', 'acqua', 'tonico'] },\n",
    "\n",
    "{ 'verb': ['mangiano'], \n",
    " 'subject' : ['cani', 'gatti', 'uomini', 'insegnanti', 'ragazzi'],\n",
    " 'object': ['banana', 'pera', 'frutta', 'pizza' ]},\n",
    "\n",
    "{'verb': ['leggono'], \n",
    " 'subject' : ['poeti', 'autori', 'scrittori', 'oratori', 'insegnanti', 'ragazzi'], \n",
    " 'object': ['storia', 'lettera', 'rivista', 'guida', 'cartolina', 'novella', 'pagina', 'poesia']} ]\n",
    "\n",
    "it_pluralSeed_female = [ { 'verb' : ['colpiscono', 'calciano', 'toccano', 'spingono'],  \n",
    "                    'subject': ['donne', 'ragazze', 'attrici', 'maestre', 'dottoresse', 'avvocate', 'architette', 'professoresse', 'scrittrici', 'cuoche' ], \n",
    "                    'object': ['pesce', 'topo', 'giornale', 'gesso', 'cappello', 'giocattolo']},\n",
    "\n",
    "{ 'verb': ['bevono'], \n",
    " 'subject': ['donne', 'ragazze', 'attrici', 'maestre', 'dottoresse', 'avvocate', 'architette', 'professoresse', 'scrittrici', 'cuoche' ], \n",
    " 'object': ['bevanda', 'limonata', 'frappè', 'frullato', 'espresso'] },\n",
    "\n",
    "{ 'verb': ['mangiano'], \n",
    " 'subject' : ['donne', 'ragazze', 'attrici', 'maestre', 'dottoresse', 'avvocate', 'architette', 'professoresse', 'scrittrici', 'cuoche' ], \n",
    " 'object': ['biscotto', 'pesce', 'pasto', 'cetriolo']},\n",
    "\n",
    "{'verb': ['leggono'], \n",
    " 'subject' : ['donne', 'ragazze', 'attrici', 'maestre', 'dottoresse', 'avvocate', 'architette', 'professoresse', 'scrittrici', 'cuoche' ], \n",
    " 'object': ['libro', 'poema', 'capitolo']} ]\n",
    "\n",
    "ita_SubordinateSeed = [ { 'verb' : ['pensa', 'dice', 'afferma', 'crede', 'suggerisce'],\n",
    "                        'subject': ['Sheela', 'Leela', 'Maria', 'Gomu', 'John', 'Tom', 'Harry'], }]\n",
    "\n",
    "def make_plural_df(pluralSeed, it_pluralSeed, it_genderDict):\n",
    "    global df\n",
    "    for oidx, obj in enumerate(pluralSeed):\n",
    "        for sidx, subj in enumerate(obj['subject']):\n",
    "            for obidx, ob in enumerate(obj['object']):\n",
    "                for vidx, verb in enumerate(obj['verb']):\n",
    "                    pSubj = random.choice(subordinateSeed[0]['subject'])\n",
    "                    pVerb = random.choice(subordinateSeed[0]['verb'])\n",
    "                    odet = random.choice(['the', 'a'])\n",
    "                    \n",
    "                    ita_Subj = it_pluralSeed[oidx]['subject'][sidx]\n",
    "                    ita_Sdet = it_genderDict[ita_Subj][0]\n",
    "                    it_ob = it_pluralSeed[oidx]['object'][obidx]\n",
    "                    it_odet = it_genderDict[it_ob][0]\n",
    "    \n",
    "                    it_verb = it_pluralSeed[oidx]['verb'][vidx]\n",
    "                    \n",
    "                    it_pVerb = ita_SubordinateSeed[0]['verb'][subordinateSeed[0]['verb'].index(pVerb)]\n",
    "    \n",
    "                    if ita_Sdet == 'i':\n",
    "                        ita_passive_from = 'dai'\n",
    "                    if ita_Sdet == 'le':\n",
    "                        ita_passive_from = 'dalle'\n",
    "                    elif ita_Sdet == \"gli\":\n",
    "                        ita_passive_from = \"dagli'\"\n",
    "\n",
    "                    temp_odet = it_odet\n",
    "                    if it_odet == \"l'\":\n",
    "                        temp_odet = 'il'\n",
    "                    else:\n",
    "                        temp_odet = it_odet\n",
    "\n",
    "                    if not \"'\" in ita_passive_from:\n",
    "                        ita_passive_sentence = f\"{it_odet} {it_ob} {it_passiveSeed[it_verb][temp_odet]} {ita_passive_from} {ita_Subj}\"\n",
    "                    else:\n",
    "                        ita_passive_sentence = f\"{it_odet} {it_ob} {it_passiveSeed[it_verb][temp_odet]} {ita_passive_from}{ita_Subj}\"\n",
    "    \n",
    "                    wh = random.choice(['when', 'what', 'who', 'which', 'why'])\n",
    "                    df = pd.concat([df, pd.DataFrame.from_dict([{\n",
    "                        \"ita-r-1\": f\"{ita_Sdet} {ita_Subj} {it_verb} {it_odet} {it_ob}\", \n",
    "                        \"ita-r-4-null_subject\": f\"{it_verb} {it_odet} {it_ob}\", \n",
    "                        \"ita-r-2-subordinate\": f\"{pSubj} {it_pVerb} che {ita_Sdet} {ita_Subj} {it_verb} {it_odet} {it_ob}\",\n",
    "                        \"ita-r-3-passive\": ita_passive_sentence,\n",
    "                        \"ita-u-1-negation\": f\"{ita_Sdet} {ita_Subj} {it_verb} {it_odet} no {it_ob}\",\n",
    "                        \"ita-u-2-inversion\": \" \".join(f\"{ita_Sdet} {ita_Subj} {it_verb} {it_odet} {it_ob}\".split(\" \")[::-1]), \n",
    "                        \"ita-u-3-gender\": f\"{temp_odet} {ita_Subj} {it_verb} {it_odet} {it_ob}\",\n",
    "                        \"en-r-1\": f\"the {subj} {verb} {odet} {ob}\",\n",
    "                        \"en-r-2-subordinate\": f\"{pSubj} {pVerb} that the {subj} {verb} the {ob}\",\n",
    "                        \"en-r-3-passive\": f\"{odet} {ob} is {passiveSeed[verb]} by the {subj}\",\n",
    "                        \"en-u-1-negation\": f\"the {subj} {verb} {odet} doesn't {ob}\",\n",
    "                        \"en-u-2-inversion\": \" \".join(f\"the {subj} {verb} {odet} {ob}\".split(\" \")[::-1]),\n",
    "                        \"en-u-4-qsubordinate\": f\"{pSubj} {pVerb} that does the {subj} {verb} the {ob}?\",\n",
    "                        \"en-u-3-wh\": f\"Did the {subj} {verb} {odet} {wh} {ob}?\",\n",
    "                        \"en_S-r-1\": f\"the {en_en_S[subj]} {verb_en_S[verb]} {odet} {en_en_S[ob]}\",\n",
    "                        \"en_S-r-2-subordinate\": f\"{pSubj} {verb_en_S[pVerb]} that the {en_en_S[subj]} {verb_en_S[verb]} the {en_en_S[ob]}\",\n",
    "                        \"en_S-r-3-passive\": f\"{odet} {en_en_S[ob]} is {passiveSeed_en_S[verb]} by the {en_en_S[subj]}\",\n",
    "                        \"en_S-u-1-negation\": f\"the {en_en_S[subj]} {verb_en_S[verb]} {odet} doesn't {en_en_S[ob]}\",\n",
    "                        \"en_S-u-2-inversion\": \" \".join(f\"the {en_en_S[subj]} {verb_en_S[verb]} {odet} {en_en_S[ob]}\".split(\" \")[::-1]),\n",
    "                        \"en_S-u-4-qsubordinate\": f\"{pSubj} {pVerb} that does the {en_en_S[subj]} {verb_en_S[verb]} the {en_en_S[ob]}?\",\n",
    "                        \"en_S-u-3-wh\": f\"Did the {en_en_S[subj]} {verb_en_S[verb]} {odet} {wh} {en_en_S[ob]}?\"\n",
    "                    }])])\n",
    "                    if (f\"{odet} {ob} is {passiveSeed[verb]} by the {subj}\" == None):\n",
    "                        print(f\"{odet} {ob} is {passiveSeed[verb]} by the {subj}\", odet, ob, passiveSeed[verb], subj)\n",
    "\n",
    "make_plural_df(pluralSeed, it_pluralSeed, it_genderDict)\n",
    "make_plural_df(pluralSeed_female, it_pluralSeed_female, it_genderDict)\n",
    "\n",
    "df.reset_index()"
   ]
  },
  {
   "cell_type": "markdown",
   "id": "9be0dc48-57d5-4c04-bb13-618135a420d4",
   "metadata": {},
   "source": [
    "## Italian stylized"
   ]
  },
  {
   "cell_type": "code",
   "execution_count": 490,
   "id": "22c7c228-c1d4-41ae-a20f-2bc9e74dcf49",
   "metadata": {
    "tags": []
   },
   "outputs": [
    {
     "data": {
      "application/vnd.jupyter.widget-view+json": {
       "model_id": "32077bc7d64f4aac845a2b99cc064509",
       "version_major": 2,
       "version_minor": 0
      },
      "text/plain": [
       "  0%|          | 0/1106 [00:00<?, ?it/s]"
      ]
     },
     "metadata": {},
     "output_type": "display_data"
    }
   ],
   "source": [
    "def my_lambda(row):\n",
    "    new_words = []\n",
    "    words = row['en_S-r-1'].split(\" \")\n",
    "    if (words[0] == 'the'):\n",
    "        new_words.append(gender_ita_S[words[1]][0])\n",
    "    else:\n",
    "        new_words.append(gender_ita_S[words[1]][1])\n",
    "    new_words += words[1:3]\n",
    "    if (words[3] == 'the'):\n",
    "        new_words.append(gender_ita_S[words[4]][0])\n",
    "    else:\n",
    "        new_words.append(gender_ita_S[words[4]][1])\n",
    "    new_words.append(words[4])\n",
    "    # print(new_words)\n",
    "    return \" \".join(new_words)\n",
    "df['ita_S-r-1'] = df.progress_apply(lambda row: my_lambda(row), axis=1)"
   ]
  },
  {
   "cell_type": "markdown",
   "id": "78979a2e-d6e1-43ed-8d33-989f2ee3b65b",
   "metadata": {
    "tags": []
   },
   "source": [
    "## Italian stylized Real grammar 1 (Null Subject parameter)"
   ]
  },
  {
   "cell_type": "code",
   "execution_count": 491,
   "id": "49742e3b-3e21-4867-90f2-52d369c8d1fa",
   "metadata": {
    "tags": []
   },
   "outputs": [
    {
     "data": {
      "application/vnd.jupyter.widget-view+json": {
       "model_id": "82dbb8ccdda24e4380f52175057d4d1e",
       "version_major": 2,
       "version_minor": 0
      },
      "text/plain": [
       "  0%|          | 0/1106 [00:00<?, ?it/s]"
      ]
     },
     "metadata": {},
     "output_type": "display_data"
    }
   ],
   "source": [
    "df['ita_S-r-4-null_subject'] = df.progress_apply(lambda row: \" \".join(row['ita_S-r-1'].split(\" \")[2:]), axis=1)"
   ]
  },
  {
   "cell_type": "markdown",
   "id": "262a86cb-384c-4f92-8339-aea98ef16d69",
   "metadata": {},
   "source": [
    "## Italian stylized Real Grammar 2 (Passive construction)"
   ]
  },
  {
   "cell_type": "code",
   "execution_count": 492,
   "id": "57fc1c07-8f53-46d1-bead-918ff2fb3ad6",
   "metadata": {},
   "outputs": [
    {
     "data": {
      "application/vnd.jupyter.widget-view+json": {
       "model_id": "373fa4cde9c548ac901be317a773eac1",
       "version_major": 2,
       "version_minor": 0
      },
      "text/plain": [
       "  0%|          | 0/1106 [00:00<?, ?it/s]"
      ]
     },
     "metadata": {},
     "output_type": "display_data"
    }
   ],
   "source": [
    "def my_lambda(row):\n",
    "    new_words = []\n",
    "    words = row['en_S-r-3-passive'].split(\" \")\n",
    "    if (words[0] == 'the'):\n",
    "        new_words.append(gender_ita_S[words[1]][0])\n",
    "    else:\n",
    "        new_words.append(gender_ita_S[words[1]][1])\n",
    "    new_words += words[1:5]\n",
    "    if (words[5] == 'the'):\n",
    "        new_words.append(gender_ita_S[words[-1]][0])\n",
    "    else:\n",
    "        new_words.append(gender_ita_S[words[-1]][1])\n",
    "    new_words.append(words[-1])\n",
    "    # print(new_words)\n",
    "    return \" \".join(new_words)\n",
    "    # [gender_ita_S[row['en_S-r-3-passive'].split(\" \")[1]]] + row['en_S-r-3-passive'].split(\" \")[1:-2] + [gender_ita_S[row['en_S-r-3-passive'].split(\" \")[-1]]] + [row['en_S-r-3-passive'].split(\" \")[-1]]\n",
    "df['ita_S-r-3-passive'] =  df.progress_apply(lambda row: my_lambda(row), axis=1)"
   ]
  },
  {
   "cell_type": "markdown",
   "id": "0ea6098c-3f5f-49aa-97a8-63a7522153d3",
   "metadata": {
    "tags": []
   },
   "source": [
    "## Italian stylized Real Grammar 3 (Subordinate construction)"
   ]
  },
  {
   "cell_type": "code",
   "execution_count": 493,
   "id": "af2d81a7-f02b-48fe-96b8-2680c8ce5f83",
   "metadata": {
    "tags": []
   },
   "outputs": [
    {
     "data": {
      "application/vnd.jupyter.widget-view+json": {
       "model_id": "ea372eaf6f8943489d99f5e1c6551630",
       "version_major": 2,
       "version_minor": 0
      },
      "text/plain": [
       "  0%|          | 0/1106 [00:00<?, ?it/s]"
      ]
     },
     "metadata": {},
     "output_type": "display_data"
    }
   ],
   "source": [
    "def my_lambda(row):\n",
    "    new_words = []\n",
    "    words = row['en_S-r-2-subordinate'].split(\" \")\n",
    "    new_words += words[:3]\n",
    "    if (words[4] == 'the'):\n",
    "        new_words.append(gender_ita_S[words[4]][1])\n",
    "    else:\n",
    "        try:\n",
    "            new_words.append(gender_ita_S[words[4]][0])\n",
    "        except:\n",
    "            print(words[4], gender_ita_S[words[4]])\n",
    "            new_words.append(gender_ita_S[words[4]][0])\n",
    "    new_words += words[4:6]\n",
    "    if (words[6] == 'the'):\n",
    "        new_words.append(gender_ita_S[words[-1]][0])\n",
    "    else:\n",
    "        new_words.append(gender_ita_S[words[-1]][1])\n",
    "    new_words.append(words[-1])\n",
    "    # print(new_words)\n",
    "    return \" \".join(new_words)\n",
    "df['ita_S-r-2-subordinate'] =  df.progress_apply(lambda row: my_lambda(row), axis=1)"
   ]
  },
  {
   "cell_type": "markdown",
   "id": "964f66be-11e3-4556-9844-698a820e5695",
   "metadata": {},
   "source": [
    "## Italian stylized Unreal Grammar 1: Add a negation after the 3rd word in the nullified subject sentence"
   ]
  },
  {
   "cell_type": "code",
   "execution_count": 494,
   "id": "21780485-b168-4b20-94e5-cf9e6b1ca62f",
   "metadata": {
    "tags": []
   },
   "outputs": [
    {
     "data": {
      "application/vnd.jupyter.widget-view+json": {
       "model_id": "0c81767aaff34fc487b0754ce4ca44f1",
       "version_major": 2,
       "version_minor": 0
      },
      "text/plain": [
       "  0%|          | 0/1106 [00:00<?, ?it/s]"
      ]
     },
     "metadata": {},
     "output_type": "display_data"
    }
   ],
   "source": [
    "df['ita_S-u-1-negation'] = df.progress_apply(lambda row: \" \".join(row['ita_S-r-1'].split(\" \")[:4] + [ \"no\" ] + row['en_S-r-1'].split(\" \")[4:]), axis=1)"
   ]
  },
  {
   "cell_type": "markdown",
   "id": "5e158ec2-8ad6-41a2-a6db-6bb92ac577c7",
   "metadata": {},
   "source": [
    "## Italian stylized Unreal Grammar 2: Invert italian sentence"
   ]
  },
  {
   "cell_type": "code",
   "execution_count": 495,
   "id": "43827877-bfe5-4d89-b36f-cf98169aa498",
   "metadata": {
    "tags": []
   },
   "outputs": [
    {
     "data": {
      "application/vnd.jupyter.widget-view+json": {
       "model_id": "2cf972f010ca4e3b968a11b12a98fd0a",
       "version_major": 2,
       "version_minor": 0
      },
      "text/plain": [
       "  0%|          | 0/1106 [00:00<?, ?it/s]"
      ]
     },
     "metadata": {},
     "output_type": "display_data"
    }
   ],
   "source": [
    "df['ita_S-u-2-inversion'] = df.progress_apply(lambda row: \" \".join(row['ita_S-r-1'].split(\" \")[::-1]), axis=1)"
   ]
  },
  {
   "cell_type": "markdown",
   "id": "755739f0-da0b-4ee7-bfa0-0c3b5be91dcb",
   "metadata": {
    "tags": []
   },
   "source": [
    "## Italian stylized Unreal Grammar 3: Same gender for subject and object"
   ]
  },
  {
   "cell_type": "code",
   "execution_count": 496,
   "id": "90e71d70-b1d7-41c0-974b-1bc2f46fbb58",
   "metadata": {
    "tags": []
   },
   "outputs": [
    {
     "data": {
      "application/vnd.jupyter.widget-view+json": {
       "model_id": "0d5d617459ae477ead704b2d2b4ebf37",
       "version_major": 2,
       "version_minor": 0
      },
      "text/plain": [
       "  0%|          | 0/1106 [00:00<?, ?it/s]"
      ]
     },
     "metadata": {},
     "output_type": "display_data"
    }
   ],
   "source": [
    "df['ita_S-u-3-gender'] = df.progress_apply(lambda row: \" \".join(row['ita_S-r-1'].split(\" \")[:3] + [row['ita_S-r-1'].split(\" \")[0]] + [row['ita_S-r-1'].split(\" \")[-1]]), axis=1)"
   ]
  },
  {
   "cell_type": "markdown",
   "id": "0b67d1e1-41a5-47fa-84d2-eedd6144214c",
   "metadata": {},
   "source": [
    "# Japanese"
   ]
  },
  {
   "cell_type": "markdown",
   "id": "e52bd3f8-dc3b-4323-8d09-09bda87acbd1",
   "metadata": {},
   "source": [
    "## Japanese  real grammar 1 (Wa after subj, o after obj, verb)"
   ]
  },
  {
   "cell_type": "code",
   "execution_count": 497,
   "id": "3ff818b9-e3f6-4b13-8088-80c8dfa09b42",
   "metadata": {
    "tags": []
   },
   "outputs": [
    {
     "data": {
      "application/vnd.jupyter.widget-view+json": {
       "model_id": "af13b61682064ba78c9592c5334981cb",
       "version_major": 2,
       "version_minor": 0
      },
      "text/plain": [
       "  0%|          | 0/1106 [00:00<?, ?it/s]"
      ]
     },
     "metadata": {},
     "output_type": "display_data"
    },
    {
     "data": {
      "application/vnd.jupyter.widget-view+json": {
       "model_id": "b1c702c4330542fdabc0aff34bba9341",
       "version_major": 2,
       "version_minor": 0
      },
      "text/plain": [
       "  0%|          | 0/1106 [00:00<?, ?it/s]"
      ]
     },
     "metadata": {},
     "output_type": "display_data"
    }
   ],
   "source": [
    "df['jap_S-r-1'] = df.progress_apply(lambda row: \" \".join(row[\"en_S-r-1\"].split(\" \")[:2]) + \" wa \" + \" \".join(row[\"en_S-r-1\"].split(\" \")[-2:]) + \" o \" + row[\"en_S-r-1\"].split(\" \")[2], axis=1)\n",
    "\n",
    "df['jp-r-1-sov'] = df.progress_apply(lambda row: \" \".join(row[\"en-r-1\"].split(\" \")[:2]) + \" wa \" + \" \".join(row[\"en-r-1\"].split(\" \")[-2:]) + \" o \" + row[\"en-r-1\"].split(\" \")[2], axis=1)"
   ]
  },
  {
   "cell_type": "code",
   "execution_count": 498,
   "id": "25ebfed9-b6c8-488d-90bf-963eeaa1020f",
   "metadata": {},
   "outputs": [
    {
     "data": {
      "application/vnd.jupyter.widget-view+json": {
       "model_id": "f4015956c6224e0ab19d9d1e87c0b262",
       "version_major": 2,
       "version_minor": 0
      },
      "text/plain": [
       "  0%|          | 0/1106 [00:00<?, ?it/s]"
      ]
     },
     "metadata": {},
     "output_type": "display_data"
    }
   ],
   "source": [
    "df['jap-r-1'] = df.progress_apply(lambda row: f'{nounDict_jp[row[\"jp-r-1-sov\"].split(\" \")[1]]} {particleDict_jp[\"wa\"]} {nounDict_jp[row[\"jp-r-1-sov\"].split(\" \")[4]]} {particleDict_jp[\"o\"]} {verbDict_jp[row[\"jp-r-1-sov\"].split(\" \")[-1]]}' , axis=1)"
   ]
  },
  {
   "cell_type": "markdown",
   "id": "26b28552-babc-4c14-bb86-c256f434841f",
   "metadata": {},
   "source": [
    "## JP  real grammar 2 (Passive construction)"
   ]
  },
  {
   "cell_type": "code",
   "execution_count": 499,
   "id": "7a286d57-0020-454e-98e8-3f7f490ce44b",
   "metadata": {
    "tags": []
   },
   "outputs": [
    {
     "data": {
      "application/vnd.jupyter.widget-view+json": {
       "model_id": "753fa20367ea4a9bbb693262a0189d62",
       "version_major": 2,
       "version_minor": 0
      },
      "text/plain": [
       "  0%|          | 0/1106 [00:00<?, ?it/s]"
      ]
     },
     "metadata": {},
     "output_type": "display_data"
    },
    {
     "data": {
      "application/vnd.jupyter.widget-view+json": {
       "model_id": "dd247a0762314502b1d7333c6e531957",
       "version_major": 2,
       "version_minor": 0
      },
      "text/plain": [
       "  0%|          | 0/1106 [00:00<?, ?it/s]"
      ]
     },
     "metadata": {},
     "output_type": "display_data"
    },
    {
     "data": {
      "application/vnd.jupyter.widget-view+json": {
       "model_id": "b0ba360355624bfc9dddc77213289eac",
       "version_major": 2,
       "version_minor": 0
      },
      "text/plain": [
       "  0%|          | 0/1106 [00:00<?, ?it/s]"
      ]
     },
     "metadata": {},
     "output_type": "display_data"
    }
   ],
   "source": [
    "df['jap_S-r-3-passive'] = df.progress_apply(lambda row: \" \".join(row[\"en_S-r-1\"].split(\" \")[3:5]) + \" wa \" + \" \".join(row[\"en_S-r-1\"].split(\" \")[:2]) + \" ni \" + infinitive_en_S[row[\"en-r-1\"].split(\" \")[2]] + \" reru\", axis=1)\n",
    "df['jp-r-2-passive'] = df.progress_apply(lambda row: \" \".join(row[\"en-r-1\"].split(\" \")[3:5]) + \" wa \" + \" \".join(row[\"en-r-1\"].split(\" \")[:2]) + \" ni \" + infinitive[row[\"en-r-1\"].split(\" \")[2]] + \" reru\", axis=1)\n",
    "\n",
    "df['jap-r-3-passive'] = df.progress_apply(lambda row: f'{nounDict_jp[row[\"jp-r-2-passive\"].split(\" \")[1]]} {particleDict_jp[\"wa\"]} {nounDict_jp[row[\"jp-r-2-passive\"].split(\" \")[4]]} {particleDict_jp[\"ni\"]} {passiveDict_jp[verbDict_jp[row[\"jp-r-2-passive\"].split(\" \")[-2]]]}' , axis=1)"
   ]
  },
  {
   "cell_type": "markdown",
   "id": "5672710b-a709-48ce-aa09-a24bdd283b72",
   "metadata": {
    "tags": []
   },
   "source": [
    "## JP  real grammar 3 (Subordinate construction)"
   ]
  },
  {
   "cell_type": "code",
   "execution_count": 500,
   "id": "f7f58728-c4f5-44af-8393-9c3f09637cc5",
   "metadata": {
    "tags": []
   },
   "outputs": [
    {
     "data": {
      "application/vnd.jupyter.widget-view+json": {
       "model_id": "8a3212d423b6400a8e415f36c93413fd",
       "version_major": 2,
       "version_minor": 0
      },
      "text/plain": [
       "  0%|          | 0/1106 [00:00<?, ?it/s]"
      ]
     },
     "metadata": {},
     "output_type": "display_data"
    },
    {
     "data": {
      "application/vnd.jupyter.widget-view+json": {
       "model_id": "fa4318e813eb41f5b2be2dd5f5ed04af",
       "version_major": 2,
       "version_minor": 0
      },
      "text/plain": [
       "  0%|          | 0/1106 [00:00<?, ?it/s]"
      ]
     },
     "metadata": {},
     "output_type": "display_data"
    },
    {
     "data": {
      "application/vnd.jupyter.widget-view+json": {
       "model_id": "a3cd926b57b5423680c201d102f1a83e",
       "version_major": 2,
       "version_minor": 0
      },
      "text/plain": [
       "  0%|          | 0/1106 [00:00<?, ?it/s]"
      ]
     },
     "metadata": {},
     "output_type": "display_data"
    }
   ],
   "source": [
    "df['jap_S-r-2-subordinate'] = df.progress_apply(lambda row: \" \".join([row[\"en_S-r-2-subordinate\"].split(\" \")[0]] + [\"wa\"] + row[\"en_S-r-2-subordinate\"].split(\" \")[3:5] + [\"ga\"] + row[\"en_S-r-2-subordinate\"].split(\" \")[-2:]  + [\"o\"] + [row[\"en_S-r-2-subordinate\"].split(\" \")[5]] + [\"to\"] + [row[\"en_S-r-2-subordinate\"].split(\" \")[1][:-1]]), axis=1)\n",
    "df['jp-r-3-subordinate'] = df.progress_apply(lambda row: \" \".join([row[\"en-r-2-subordinate\"].split(\" \")[0]] + [\"wa\"] + row[\"en-r-2-subordinate\"].split(\" \")[3:5] + [\"ga\"] + row[\"en-r-2-subordinate\"].split(\" \")[-2:]  + [\"o\"] + [row[\"en-r-2-subordinate\"].split(\" \")[5]] + [\"to\"] + [row[\"en-r-2-subordinate\"].split(\" \")[1][:-1]]), axis=1)\n",
    "\n",
    "df['jap-r-2-subordinate'] = df.progress_apply(lambda row: f'{nameDict_jp[row[\"jp-r-3-subordinate\"].split(\" \")[0]]} {particleDict_jp[\"wa\"]} {row[\"jap-r-1\"].replace(particleDict_jp[\"wa\"],particleDict_jp[\"ga\"])} {particleDict_jp[\"to\"]} {subordinateDict_jp[\" \".join(row[\"jp-r-3-subordinate\"].split(\" \")[-2:])]}' , axis=1)"
   ]
  },
  {
   "cell_type": "markdown",
   "id": "10b3afbd-946f-4acd-abc9-a89b87979aa9",
   "metadata": {},
   "source": [
    "## JP - Unreal grammar 1:Add a negation at the end of the object in the real-jp-1 sentence"
   ]
  },
  {
   "cell_type": "code",
   "execution_count": 501,
   "id": "8a4b2f4c-908d-4fee-88cf-50afa8baacca",
   "metadata": {
    "tags": []
   },
   "outputs": [
    {
     "data": {
      "application/vnd.jupyter.widget-view+json": {
       "model_id": "eef38944ac44422bb1b21d298b39b3e3",
       "version_major": 2,
       "version_minor": 0
      },
      "text/plain": [
       "  0%|          | 0/1106 [00:00<?, ?it/s]"
      ]
     },
     "metadata": {},
     "output_type": "display_data"
    },
    {
     "data": {
      "application/vnd.jupyter.widget-view+json": {
       "model_id": "8b4da555783a4265a5b3d130645f3871",
       "version_major": 2,
       "version_minor": 0
      },
      "text/plain": [
       "  0%|          | 0/1106 [00:00<?, ?it/s]"
      ]
     },
     "metadata": {},
     "output_type": "display_data"
    },
    {
     "data": {
      "application/vnd.jupyter.widget-view+json": {
       "model_id": "919fd6c80c9043b796d8288aaf5b1856",
       "version_major": 2,
       "version_minor": 0
      },
      "text/plain": [
       "  0%|          | 0/1106 [00:00<?, ?it/s]"
      ]
     },
     "metadata": {},
     "output_type": "display_data"
    }
   ],
   "source": [
    "df['jap_S-u-1-negation'] = df.progress_apply(lambda row: \" \".join(row['jap_S-r-1'].split(\" \")[:5]) + \" nai \" + \" \".join(row['jap_S-r-1'].split(\" \")[5:]), axis=1)\n",
    "df['jp-u-1-negation'] = df.progress_apply(lambda row: \" \".join(row['jp-r-1-sov'].split(\" \")[:5]) + \" no \" + \" \".join(row['jp-r-1-sov'].split(\" \")[5:]), axis=1)\n",
    "\n",
    "df['jap-u-1-negation'] = df.progress_apply(lambda row: f'{\" \".join(row[\"jap-r-1\"].split(\" \")[:3])} {particleDict_jp[\"nai\"]} {\" \".join(row[\"jap-r-1\"].split(\" \")[3:])}', axis=1)"
   ]
  },
  {
   "cell_type": "markdown",
   "id": "becccaf9-943a-4ab0-80b8-f103a08501ab",
   "metadata": {},
   "source": [
    "## JP - Unreal grammar 2: Invert jp-real-1 sentence"
   ]
  },
  {
   "cell_type": "code",
   "execution_count": 502,
   "id": "ad7dfdff-8bf8-4ec9-94d5-feadb85763c7",
   "metadata": {
    "tags": []
   },
   "outputs": [
    {
     "data": {
      "application/vnd.jupyter.widget-view+json": {
       "model_id": "ac5045aeb91b44dab310926322a160b3",
       "version_major": 2,
       "version_minor": 0
      },
      "text/plain": [
       "  0%|          | 0/1106 [00:00<?, ?it/s]"
      ]
     },
     "metadata": {},
     "output_type": "display_data"
    },
    {
     "data": {
      "application/vnd.jupyter.widget-view+json": {
       "model_id": "00a0ad4657764cec9c0f33a296b8d775",
       "version_major": 2,
       "version_minor": 0
      },
      "text/plain": [
       "  0%|          | 0/1106 [00:00<?, ?it/s]"
      ]
     },
     "metadata": {},
     "output_type": "display_data"
    },
    {
     "data": {
      "application/vnd.jupyter.widget-view+json": {
       "model_id": "6f0eafba56a14974a3fe2bd485d74f83",
       "version_major": 2,
       "version_minor": 0
      },
      "text/plain": [
       "  0%|          | 0/1106 [00:00<?, ?it/s]"
      ]
     },
     "metadata": {},
     "output_type": "display_data"
    }
   ],
   "source": [
    "df['jap_S-u-2-inversion'] = df.progress_apply(lambda row: \" \".join(row['jap_S-r-1'].split(\" \")[::-1]), axis=1)\n",
    "df['jp-u-2-invert'] = df.progress_apply(lambda row: \" \".join(row['jp-r-1-sov'].split(\" \")[::-1]), axis=1)\n",
    "\n",
    "df['jap-u-2-inversion'] = df.progress_apply(lambda row: \" \".join(row['jap-r-1'].split(\" \")[::-1]), axis=1)"
   ]
  },
  {
   "cell_type": "markdown",
   "id": "8df0a772-2a18-4438-b792-0462a6f2b256",
   "metadata": {},
   "source": [
    "## JP - Unreal grammar add a after o + past tense"
   ]
  },
  {
   "cell_type": "code",
   "execution_count": 504,
   "id": "a950e85b-1d27-4165-91cb-9ad4222e5aae",
   "metadata": {},
   "outputs": [
    {
     "data": {
      "application/vnd.jupyter.widget-view+json": {
       "model_id": "1477ada36fa546899804dbc689b11752",
       "version_major": 2,
       "version_minor": 0
      },
      "text/plain": [
       "  0%|          | 0/1106 [00:00<?, ?it/s]"
      ]
     },
     "metadata": {},
     "output_type": "display_data"
    },
    {
     "data": {
      "application/vnd.jupyter.widget-view+json": {
       "model_id": "0fab6f87257f47d9a2c310630b95c4a0",
       "version_major": 2,
       "version_minor": 0
      },
      "text/plain": [
       "  0%|          | 0/1106 [00:00<?, ?it/s]"
      ]
     },
     "metadata": {},
     "output_type": "display_data"
    },
    {
     "data": {
      "application/vnd.jupyter.widget-view+json": {
       "model_id": "ad4dc065e31d4d65bc3acedda7bd9d5c",
       "version_major": 2,
       "version_minor": 0
      },
      "text/plain": [
       "  0%|          | 0/1106 [00:00<?, ?it/s]"
      ]
     },
     "metadata": {},
     "output_type": "display_data"
    }
   ],
   "source": [
    "df['jap_S-u-3-past-tense'] = df.progress_apply(lambda row: \" \".join(row['jap_S-r-1'].split(\" \")[:-2]) + ' o-ta ' + \" \".join([infinitive_en_S[row['jp-r-1-sov'].split(\" \")[-1]]]), axis=1)\n",
    "df['jp-u-3-past-tense'] = df.progress_apply(lambda row: \" \".join(row['jp-r-1-sov'].split(\" \")[:-2]) + ' o-ta ' + \" \".join([infinitive[row['jp-r-1-sov'].split(\" \")[-1]]]), axis=1)\n",
    "df['jap-u-3-past-tense'] = df.progress_apply(lambda row: f'{\" \".join(row['jap-r-1'].split(\" \")[:-2])} {particleDict_jp['o']}{particleDict_jp['ta']} {row['jap-r-1'].split(\" \")[-1]}', axis=1)"
   ]
  },
  {
   "cell_type": "code",
   "execution_count": 505,
   "id": "8eb038ea-f146-426d-b840-56119bf6598a",
   "metadata": {},
   "outputs": [
    {
     "data": {
      "text/html": [
       "<div>\n",
       "<style scoped>\n",
       "    .dataframe tbody tr th:only-of-type {\n",
       "        vertical-align: middle;\n",
       "    }\n",
       "\n",
       "    .dataframe tbody tr th {\n",
       "        vertical-align: top;\n",
       "    }\n",
       "\n",
       "    .dataframe thead th {\n",
       "        text-align: right;\n",
       "    }\n",
       "</style>\n",
       "<table border=\"1\" class=\"dataframe\">\n",
       "  <thead>\n",
       "    <tr style=\"text-align: right;\">\n",
       "      <th></th>\n",
       "      <th>en_S-r-1</th>\n",
       "      <th>jap_S-r-1</th>\n",
       "      <th>jap_S-r-2-subordinate</th>\n",
       "      <th>jap_S-r-3-passive</th>\n",
       "      <th>jap_S-u-1-negation</th>\n",
       "      <th>jap_S-u-2-inversion</th>\n",
       "      <th>jap_S-u-3-past-tense</th>\n",
       "    </tr>\n",
       "  </thead>\n",
       "  <tbody>\n",
       "    <tr>\n",
       "      <th>0</th>\n",
       "      <td>the pundle hufkos the woggle</td>\n",
       "      <td>the pundle wa the woggle o hufkos</td>\n",
       "      <td>Tom wa the pundle ga the woggle o hufkos to gnobo</td>\n",
       "      <td>the woggle wa the pundle ni to hufko reru</td>\n",
       "      <td>the pundle wa the woggle nai o hufkos</td>\n",
       "      <td>hufkos o woggle the wa pundle the</td>\n",
       "      <td>the pundle wa the woggle o-ta to hufko</td>\n",
       "    </tr>\n",
       "    <tr>\n",
       "      <th>0</th>\n",
       "      <td>the pundle chuskos the woggle</td>\n",
       "      <td>the pundle wa the woggle o chuskos</td>\n",
       "      <td>Tom wa the pundle ga the woggle o chuskos to s...</td>\n",
       "      <td>the woggle wa the pundle ni to chusko reru</td>\n",
       "      <td>the pundle wa the woggle nai o chuskos</td>\n",
       "      <td>chuskos o woggle the wa pundle the</td>\n",
       "      <td>the pundle wa the woggle o-ta to chusko</td>\n",
       "    </tr>\n",
       "    <tr>\n",
       "      <th>0</th>\n",
       "      <td>the pundle stoffles a woggle</td>\n",
       "      <td>the pundle wa a woggle o stoffles</td>\n",
       "      <td>Sheela wa the pundle ga the woggle o stoffles ...</td>\n",
       "      <td>a woggle wa the pundle ni to stoffle reru</td>\n",
       "      <td>the pundle wa a woggle nai o stoffles</td>\n",
       "      <td>stoffles o woggle a wa pundle the</td>\n",
       "      <td>the pundle wa a woggle o-ta to stoffle</td>\n",
       "    </tr>\n",
       "    <tr>\n",
       "      <th>0</th>\n",
       "      <td>the pundle chunges the woggle</td>\n",
       "      <td>the pundle wa the woggle o chunges</td>\n",
       "      <td>John wa the pundle ga the woggle o chunges to ...</td>\n",
       "      <td>the woggle wa the pundle ni to chunge reru</td>\n",
       "      <td>the pundle wa the woggle nai o chunges</td>\n",
       "      <td>chunges o woggle the wa pundle the</td>\n",
       "      <td>the pundle wa the woggle o-ta to chunge</td>\n",
       "    </tr>\n",
       "    <tr>\n",
       "      <th>0</th>\n",
       "      <td>the pundle hufkos a gongle</td>\n",
       "      <td>the pundle wa a gongle o hufkos</td>\n",
       "      <td>Leela wa the pundle ga the gongle o hufkos to ...</td>\n",
       "      <td>a gongle wa the pundle ni to hufko reru</td>\n",
       "      <td>the pundle wa a gongle nai o hufkos</td>\n",
       "      <td>hufkos o gongle a wa pundle the</td>\n",
       "      <td>the pundle wa a gongle o-ta to hufko</td>\n",
       "    </tr>\n",
       "    <tr>\n",
       "      <th>...</th>\n",
       "      <td>...</td>\n",
       "      <td>...</td>\n",
       "      <td>...</td>\n",
       "      <td>...</td>\n",
       "      <td>...</td>\n",
       "      <td>...</td>\n",
       "      <td>...</td>\n",
       "    </tr>\n",
       "    <tr>\n",
       "      <th>0</th>\n",
       "      <td>the arcuplos gurdle the skerpo</td>\n",
       "      <td>the arcuplos wa the skerpo o gurdle</td>\n",
       "      <td>Tom wa the arcuplos ga the skerpo o gurdle to ...</td>\n",
       "      <td>the skerpo wa the arcuplos ni to gurdle reru</td>\n",
       "      <td>the arcuplos wa the skerpo nai o gurdle</td>\n",
       "      <td>gurdle o skerpo the wa arcuplos the</td>\n",
       "      <td>the arcuplos wa the skerpo o-ta to gurdle</td>\n",
       "    </tr>\n",
       "    <tr>\n",
       "      <th>0</th>\n",
       "      <td>the arcuplos gurdle a wrindle</td>\n",
       "      <td>the arcuplos wa a wrindle o gurdle</td>\n",
       "      <td>Maria wa the arcuplos ga the wrindle o gurdle ...</td>\n",
       "      <td>a wrindle wa the arcuplos ni to gurdle reru</td>\n",
       "      <td>the arcuplos wa a wrindle nai o gurdle</td>\n",
       "      <td>gurdle o wrindle a wa arcuplos the</td>\n",
       "      <td>the arcuplos wa a wrindle o-ta to gurdle</td>\n",
       "    </tr>\n",
       "    <tr>\n",
       "      <th>0</th>\n",
       "      <td>the fuzzles gurdle the dringle</td>\n",
       "      <td>the fuzzles wa the dringle o gurdle</td>\n",
       "      <td>Gomu wa the fuzzles ga the dringle o gurdle to...</td>\n",
       "      <td>the dringle wa the fuzzles ni to gurdle reru</td>\n",
       "      <td>the fuzzles wa the dringle nai o gurdle</td>\n",
       "      <td>gurdle o dringle the wa fuzzles the</td>\n",
       "      <td>the fuzzles wa the dringle o-ta to gurdle</td>\n",
       "    </tr>\n",
       "    <tr>\n",
       "      <th>0</th>\n",
       "      <td>the fuzzles gurdle the skerpo</td>\n",
       "      <td>the fuzzles wa the skerpo o gurdle</td>\n",
       "      <td>Sheela wa the fuzzles ga the skerpo o gurdle t...</td>\n",
       "      <td>the skerpo wa the fuzzles ni to gurdle reru</td>\n",
       "      <td>the fuzzles wa the skerpo nai o gurdle</td>\n",
       "      <td>gurdle o skerpo the wa fuzzles the</td>\n",
       "      <td>the fuzzles wa the skerpo o-ta to gurdle</td>\n",
       "    </tr>\n",
       "    <tr>\n",
       "      <th>0</th>\n",
       "      <td>the fuzzles gurdle a wrindle</td>\n",
       "      <td>the fuzzles wa a wrindle o gurdle</td>\n",
       "      <td>Maria wa the fuzzles ga the wrindle o gurdle t...</td>\n",
       "      <td>a wrindle wa the fuzzles ni to gurdle reru</td>\n",
       "      <td>the fuzzles wa a wrindle nai o gurdle</td>\n",
       "      <td>gurdle o wrindle a wa fuzzles the</td>\n",
       "      <td>the fuzzles wa a wrindle o-ta to gurdle</td>\n",
       "    </tr>\n",
       "  </tbody>\n",
       "</table>\n",
       "<p>1106 rows × 7 columns</p>\n",
       "</div>"
      ],
      "text/plain": [
       "                          en_S-r-1                            jap_S-r-1  \\\n",
       "0     the pundle hufkos the woggle    the pundle wa the woggle o hufkos   \n",
       "0    the pundle chuskos the woggle   the pundle wa the woggle o chuskos   \n",
       "0     the pundle stoffles a woggle    the pundle wa a woggle o stoffles   \n",
       "0    the pundle chunges the woggle   the pundle wa the woggle o chunges   \n",
       "0       the pundle hufkos a gongle      the pundle wa a gongle o hufkos   \n",
       "..                             ...                                  ...   \n",
       "0   the arcuplos gurdle the skerpo  the arcuplos wa the skerpo o gurdle   \n",
       "0    the arcuplos gurdle a wrindle   the arcuplos wa a wrindle o gurdle   \n",
       "0   the fuzzles gurdle the dringle  the fuzzles wa the dringle o gurdle   \n",
       "0    the fuzzles gurdle the skerpo   the fuzzles wa the skerpo o gurdle   \n",
       "0     the fuzzles gurdle a wrindle    the fuzzles wa a wrindle o gurdle   \n",
       "\n",
       "                                jap_S-r-2-subordinate  \\\n",
       "0   Tom wa the pundle ga the woggle o hufkos to gnobo   \n",
       "0   Tom wa the pundle ga the woggle o chuskos to s...   \n",
       "0   Sheela wa the pundle ga the woggle o stoffles ...   \n",
       "0   John wa the pundle ga the woggle o chunges to ...   \n",
       "0   Leela wa the pundle ga the gongle o hufkos to ...   \n",
       "..                                                ...   \n",
       "0   Tom wa the arcuplos ga the skerpo o gurdle to ...   \n",
       "0   Maria wa the arcuplos ga the wrindle o gurdle ...   \n",
       "0   Gomu wa the fuzzles ga the dringle o gurdle to...   \n",
       "0   Sheela wa the fuzzles ga the skerpo o gurdle t...   \n",
       "0   Maria wa the fuzzles ga the wrindle o gurdle t...   \n",
       "\n",
       "                               jap_S-r-3-passive  \\\n",
       "0      the woggle wa the pundle ni to hufko reru   \n",
       "0     the woggle wa the pundle ni to chusko reru   \n",
       "0      a woggle wa the pundle ni to stoffle reru   \n",
       "0     the woggle wa the pundle ni to chunge reru   \n",
       "0        a gongle wa the pundle ni to hufko reru   \n",
       "..                                           ...   \n",
       "0   the skerpo wa the arcuplos ni to gurdle reru   \n",
       "0    a wrindle wa the arcuplos ni to gurdle reru   \n",
       "0   the dringle wa the fuzzles ni to gurdle reru   \n",
       "0    the skerpo wa the fuzzles ni to gurdle reru   \n",
       "0     a wrindle wa the fuzzles ni to gurdle reru   \n",
       "\n",
       "                         jap_S-u-1-negation  \\\n",
       "0     the pundle wa the woggle nai o hufkos   \n",
       "0    the pundle wa the woggle nai o chuskos   \n",
       "0     the pundle wa a woggle nai o stoffles   \n",
       "0    the pundle wa the woggle nai o chunges   \n",
       "0       the pundle wa a gongle nai o hufkos   \n",
       "..                                      ...   \n",
       "0   the arcuplos wa the skerpo nai o gurdle   \n",
       "0    the arcuplos wa a wrindle nai o gurdle   \n",
       "0   the fuzzles wa the dringle nai o gurdle   \n",
       "0    the fuzzles wa the skerpo nai o gurdle   \n",
       "0     the fuzzles wa a wrindle nai o gurdle   \n",
       "\n",
       "                    jap_S-u-2-inversion  \\\n",
       "0     hufkos o woggle the wa pundle the   \n",
       "0    chuskos o woggle the wa pundle the   \n",
       "0     stoffles o woggle a wa pundle the   \n",
       "0    chunges o woggle the wa pundle the   \n",
       "0       hufkos o gongle a wa pundle the   \n",
       "..                                  ...   \n",
       "0   gurdle o skerpo the wa arcuplos the   \n",
       "0    gurdle o wrindle a wa arcuplos the   \n",
       "0   gurdle o dringle the wa fuzzles the   \n",
       "0    gurdle o skerpo the wa fuzzles the   \n",
       "0     gurdle o wrindle a wa fuzzles the   \n",
       "\n",
       "                         jap_S-u-3-past-tense  \n",
       "0      the pundle wa the woggle o-ta to hufko  \n",
       "0     the pundle wa the woggle o-ta to chusko  \n",
       "0      the pundle wa a woggle o-ta to stoffle  \n",
       "0     the pundle wa the woggle o-ta to chunge  \n",
       "0        the pundle wa a gongle o-ta to hufko  \n",
       "..                                        ...  \n",
       "0   the arcuplos wa the skerpo o-ta to gurdle  \n",
       "0    the arcuplos wa a wrindle o-ta to gurdle  \n",
       "0   the fuzzles wa the dringle o-ta to gurdle  \n",
       "0    the fuzzles wa the skerpo o-ta to gurdle  \n",
       "0     the fuzzles wa a wrindle o-ta to gurdle  \n",
       "\n",
       "[1106 rows x 7 columns]"
      ]
     },
     "execution_count": 505,
     "metadata": {},
     "output_type": "execute_result"
    }
   ],
   "source": [
    "df[['en_S-r-1', 'jap_S-r-1', 'jap_S-r-2-subordinate', 'jap_S-r-3-passive', 'jap_S-u-1-negation', 'jap_S-u-2-inversion', 'jap_S-u-3-past-tense']]"
   ]
  },
  {
   "cell_type": "markdown",
   "id": "d7b45dd0-1023-4b8d-aa57-5a8284d89e97",
   "metadata": {},
   "source": [
    "# Non-grammatical sentences"
   ]
  },
  {
   "cell_type": "code",
   "execution_count": null,
   "id": "1a75acd3-c084-47ce-92c1-fb4410adee9b",
   "metadata": {},
   "outputs": [],
   "source": [
    "# import re\n",
    "# def swap_words(sentence, col):\n",
    "#     # print(col, sentence)\n",
    "    \n",
    "\n",
    "#     swapProhibited = {\n",
    "#         'en': [ [0,3], [1,4] ],\n",
    "#         'en-r-1-subordinate': [ [0,4], [0,-1], [4,-1], [3,-2], [1,5] ],\n",
    "#         'en-r-2-passive': [ [0,-2], [1,-1] ],\n",
    "#         'en-u-1-negation': [ [0,3], [1,5] ],\n",
    "#         'en-u-2-inversion': [ [0,-2], [1,-1] ],\n",
    "#         'en-u-3-qsubordinate': [ [4,7], [5,8], [1,6], [0,4], [0, 7] ],\n",
    "#         'en-u-3-wh': [ [1,4], [2,-1] ],\n",
    "#         'it': [ [0,3], [1,4] ],\n",
    "#         'it-r-1-null_subject': [ ],\n",
    "#         'it-r-2-passive': [ [0,5], [1,6] ],\n",
    "#         'it-r-3-subordinate': [ [0,5], [1,6] ],\n",
    "#         'it-u-1-negation': [ [0,3], [1,5] ],\n",
    "#         'it-u-2-invert': [ [0,3], [1,4] ],\n",
    "#         'it-u-3-gender': [ [0,3], [1,4] ],\n",
    "#         'ita-r-1': [ [1,-1], [0,-2] ],\n",
    "#         'ita-r-1-null_subject': [ ],\n",
    "#         'ita-r-2-subordinate': [ [0,4], [0,-1], [4,-1], [3,-2], [1,-3] ],\n",
    "#         'ita-r-3-passive': [ [1,-1] ],\n",
    "#         'ita-u-1-negation': [ [0,3], [1,-1] ],\n",
    "#         'ita-u-2-invert': [ [0,-2], [1,-1] ],\n",
    "#         'ita-u-3-gender': [ [0,-2], [1,-1] ],\n",
    "#         'jp-r-1-sov': [ [0,3], [1,4] ],\n",
    "#         'jp-r-2-passive': [ [0,3], [1,4] ],\n",
    "#         'jp-r-3-subordinate': [ [0,3], [0,6], [3,6] ],\n",
    "#         'jp-u-1-negation': [ [0,4], [1,5] ],\n",
    "#         'jp-u-2-invert': [ [3,6], [2,5] ],\n",
    "#         'jp-u-3-past-tense': [ [0,3], [1,4] ],\n",
    "#         'jap-r-1': [ [0,2] ],\n",
    "#         'jap-r-3-passive': [ [0,2]],\n",
    "#         'jap-r-2-subordinate': [ [0,2], [0,4], [2,4], [6,-1] ],\n",
    "#         'jap-u-1-negation': [ [0,2] ],\n",
    "#         'jap-u-2-inversion': [ [2,-1] ],\n",
    "#         'jap-u-3-past-tense': [ [0,2] ]\n",
    "#     }\n",
    "#     # if (col == 'jap-r-1'):\n",
    "#     #     print(sentence, len(sentence), len(sentence.split(\" \")))\n",
    "#     if col == 'en-u-1-negation':\n",
    "#         sentence = re.split(\" \", sentence)\n",
    "#     else:\n",
    "#         sentence = re.split(\"'| \", sentence)\n",
    "        \n",
    "#     # if (col == 'jap-r-1'):\n",
    "#     #     print(sentence, len(sentence))\n",
    "#     numWords = len(sentence)\n",
    "#     # toSwap = random.sample(range(0, numWords), 2)\n",
    "#     toSwap = [-1,-2]\n",
    "#     toSwapWords = set([sentence[toSwap[0]],sentence[toSwap[1]]])\n",
    "#     # prohibitedWords = [set([sentence[pos[0]],sentence[pos[1]]]) for pos in swapProhibited[col]]\n",
    "#     # while toSwapWords in prohibitedWords:\n",
    "#     #     toSwap = random.sample(range(0, numWords), 2)\n",
    "#     #     toSwapWords = set([sentence[toSwap[0]],sentence[toSwap[1]]])\n",
    "#     swap1 = sentence[toSwap[0]]\n",
    "#     swap2 = sentence[toSwap[1]]\n",
    "#     sentence[toSwap[0]] = swap2\n",
    "#     sentence[toSwap[1]] = swap1\n",
    "#     sentence = \" \".join(sentence)\n",
    "#     if '?' in sentence and sentence.index('?') != len(sentence) - 1:\n",
    "#         sentence = sentence.replace('?', '')\n",
    "#         sentence = sentence +'?'\n",
    "#     return sentence\n",
    "\n",
    "# for col in list(df.columns):\n",
    "#     print(' Now processing.... ', col)\n",
    "#     df[f'ng-{col}'] = df.progress_apply(lambda row: swap_words(row[col], col), axis=1)\n",
    "\n",
    "# df['ng-it-u-3-gender'] = df['it']\n",
    "# df['ng-ita-u-3-gender'] = df['ita-r-1']\n",
    "# df['ng-it-u-1-negation'] = df['it']\n",
    "# df['ng-ita-u-1-negation'] = df['ita-r-1']\n",
    "# df['ng-jap-u-1-negation'] = df['jap-r-1']\n",
    "# df['ng-jap-u-3-past-tense'] = df['jap-r-1']\n",
    "# df['ng-jp-u-1-negation'] = df['jp-r-1-sov']\n",
    "# df['ng-jp-u-3-past-tense'] = df['jp-r-1-sov']\n",
    "# df['ng-en-u-1-negation'] = df['en']\n",
    "# df['ng-en-u-4-wh'] = df['en']\n",
    "\n",
    "\n",
    "# # df['ng-it-u-1-negation'] = df.apply(lambda row: row['it'].replace(\" no \", \" \") + \" no\", axis=1)\n",
    "# # df['ng-ita-u-1-negation'] = df.apply(lambda row: row['ita-r-1'].replace(\" no \", \" \") + \" no\", axis=1)\n",
    "# # df['ng-jap-u-1-negation'] = df.apply(lambda row: row['jap-u-1-negation'].replace(f\" {particleDict_jp[\"nai\"]} \", \" \") + f\" {particleDict_jp[\"nai\"]}\", axis=1)\n",
    "# # df['ng-jap-u-3-past-tense'] = df.progress_apply(lambda row: row['jap-u-3-past-tense'].replace(f\" {particleDict_jp['o']}{particleDict_jp['ta']} \", \" \") + f\" {particleDict_jp['o']}{particleDict_jp['ta']}\", axis=1)\n",
    "# # df['ng-jp-u-1-negation'] = df.apply(lambda row: row['jp-u-1-negation'].replace(f\" nai \", \" \") + f\" nai\", axis=1)\n",
    "# # df['ng-jp-u-3-past-tense'] = df.progress_apply(lambda row: row['jp-u-3-past-tense'].replace(f\" o-ta \", \" \") + f\" o-ta\", axis=1)\n",
    "# # df['ng-en-u-1-negation'] = df.apply(lambda row: row['en-u-1-negation'].replace(\" doesn't \", \" \") + \" doesn't\", axis=1)\n",
    "# # df['ng-en-u-4-wh'] = df.apply(lambda row: row['en-u-3-wh'].replace(f\" {row['en-u-3-wh'].split(' ')[5]} \", \" \")[:-1] + f\" {row['en-u-3-wh'].split(' ')[5]}?\", axis=1) \n"
   ]
  },
  {
   "cell_type": "markdown",
   "id": "7bb510d3-4875-4cc8-9bc5-a9924b9aac5c",
   "metadata": {},
   "source": [
    "## Non grammatical sentences random shuffles"
   ]
  },
  {
   "cell_type": "code",
   "execution_count": 506,
   "id": "66b0845b-79c1-4822-9611-08b8322b8412",
   "metadata": {},
   "outputs": [
    {
     "name": "stdout",
     "output_type": "stream",
     "text": [
      " Now processing....  ita-r-1\n"
     ]
    },
    {
     "data": {
      "application/vnd.jupyter.widget-view+json": {
       "model_id": "6f282674487f4af19dd756548a7ca0ce",
       "version_major": 2,
       "version_minor": 0
      },
      "text/plain": [
       "  0%|          | 0/1106 [00:00<?, ?it/s]"
      ]
     },
     "metadata": {},
     "output_type": "display_data"
    },
    {
     "name": "stdout",
     "output_type": "stream",
     "text": [
      " Now processing....  ita-r-4-null_subject\n"
     ]
    },
    {
     "data": {
      "application/vnd.jupyter.widget-view+json": {
       "model_id": "0211de66aa3547e1932f3f7963dffde3",
       "version_major": 2,
       "version_minor": 0
      },
      "text/plain": [
       "  0%|          | 0/1106 [00:00<?, ?it/s]"
      ]
     },
     "metadata": {},
     "output_type": "display_data"
    },
    {
     "name": "stdout",
     "output_type": "stream",
     "text": [
      " Now processing....  ita-r-2-subordinate\n"
     ]
    },
    {
     "data": {
      "application/vnd.jupyter.widget-view+json": {
       "model_id": "6378cbda3deb4d7887c1b1884306c8cb",
       "version_major": 2,
       "version_minor": 0
      },
      "text/plain": [
       "  0%|          | 0/1106 [00:00<?, ?it/s]"
      ]
     },
     "metadata": {},
     "output_type": "display_data"
    },
    {
     "name": "stdout",
     "output_type": "stream",
     "text": [
      " Now processing....  ita-r-3-passive\n"
     ]
    },
    {
     "data": {
      "application/vnd.jupyter.widget-view+json": {
       "model_id": "b77e97d515bc496eac9d5e71aa62bbe9",
       "version_major": 2,
       "version_minor": 0
      },
      "text/plain": [
       "  0%|          | 0/1106 [00:00<?, ?it/s]"
      ]
     },
     "metadata": {},
     "output_type": "display_data"
    },
    {
     "name": "stdout",
     "output_type": "stream",
     "text": [
      " Now processing....  ita-u-1-negation\n"
     ]
    },
    {
     "data": {
      "application/vnd.jupyter.widget-view+json": {
       "model_id": "fb6f8e7ac5b34c12b0c7adebe01394f0",
       "version_major": 2,
       "version_minor": 0
      },
      "text/plain": [
       "  0%|          | 0/1106 [00:00<?, ?it/s]"
      ]
     },
     "metadata": {},
     "output_type": "display_data"
    },
    {
     "name": "stdout",
     "output_type": "stream",
     "text": [
      " Now processing....  ita-u-2-inversion\n"
     ]
    },
    {
     "data": {
      "application/vnd.jupyter.widget-view+json": {
       "model_id": "3bade226823c4b81891e9e680755b79f",
       "version_major": 2,
       "version_minor": 0
      },
      "text/plain": [
       "  0%|          | 0/1106 [00:00<?, ?it/s]"
      ]
     },
     "metadata": {},
     "output_type": "display_data"
    },
    {
     "name": "stdout",
     "output_type": "stream",
     "text": [
      " Now processing....  ita-u-3-gender\n"
     ]
    },
    {
     "data": {
      "application/vnd.jupyter.widget-view+json": {
       "model_id": "9e0f907139d8489ea2ae30ff193b8a81",
       "version_major": 2,
       "version_minor": 0
      },
      "text/plain": [
       "  0%|          | 0/1106 [00:00<?, ?it/s]"
      ]
     },
     "metadata": {},
     "output_type": "display_data"
    },
    {
     "name": "stdout",
     "output_type": "stream",
     "text": [
      " Now processing....  en-r-1\n"
     ]
    },
    {
     "data": {
      "application/vnd.jupyter.widget-view+json": {
       "model_id": "db23e90089de4b0da1033215e8ff87ac",
       "version_major": 2,
       "version_minor": 0
      },
      "text/plain": [
       "  0%|          | 0/1106 [00:00<?, ?it/s]"
      ]
     },
     "metadata": {},
     "output_type": "display_data"
    },
    {
     "name": "stdout",
     "output_type": "stream",
     "text": [
      " Now processing....  en-r-2-subordinate\n"
     ]
    },
    {
     "data": {
      "application/vnd.jupyter.widget-view+json": {
       "model_id": "d91418b7f5dd49d1be7c0f784f3b2ee2",
       "version_major": 2,
       "version_minor": 0
      },
      "text/plain": [
       "  0%|          | 0/1106 [00:00<?, ?it/s]"
      ]
     },
     "metadata": {},
     "output_type": "display_data"
    },
    {
     "name": "stdout",
     "output_type": "stream",
     "text": [
      " Now processing....  en-r-3-passive\n"
     ]
    },
    {
     "data": {
      "application/vnd.jupyter.widget-view+json": {
       "model_id": "b4871446841b44e58952cfb574fb2ed6",
       "version_major": 2,
       "version_minor": 0
      },
      "text/plain": [
       "  0%|          | 0/1106 [00:00<?, ?it/s]"
      ]
     },
     "metadata": {},
     "output_type": "display_data"
    },
    {
     "name": "stdout",
     "output_type": "stream",
     "text": [
      " Now processing....  en-u-1-negation\n"
     ]
    },
    {
     "data": {
      "application/vnd.jupyter.widget-view+json": {
       "model_id": "b11ee29e6d0d4cd8bf52b99fcf28c365",
       "version_major": 2,
       "version_minor": 0
      },
      "text/plain": [
       "  0%|          | 0/1106 [00:00<?, ?it/s]"
      ]
     },
     "metadata": {},
     "output_type": "display_data"
    },
    {
     "name": "stdout",
     "output_type": "stream",
     "text": [
      " Now processing....  en-u-2-inversion\n"
     ]
    },
    {
     "data": {
      "application/vnd.jupyter.widget-view+json": {
       "model_id": "b7a15fb241de4c089c541aa523286dd8",
       "version_major": 2,
       "version_minor": 0
      },
      "text/plain": [
       "  0%|          | 0/1106 [00:00<?, ?it/s]"
      ]
     },
     "metadata": {},
     "output_type": "display_data"
    },
    {
     "name": "stdout",
     "output_type": "stream",
     "text": [
      " Now processing....  en-u-4-qsubordinate\n"
     ]
    },
    {
     "data": {
      "application/vnd.jupyter.widget-view+json": {
       "model_id": "fa9f4044097d40088da3ed36b98d3546",
       "version_major": 2,
       "version_minor": 0
      },
      "text/plain": [
       "  0%|          | 0/1106 [00:00<?, ?it/s]"
      ]
     },
     "metadata": {},
     "output_type": "display_data"
    },
    {
     "name": "stdout",
     "output_type": "stream",
     "text": [
      " Now processing....  en-u-3-wh\n"
     ]
    },
    {
     "data": {
      "application/vnd.jupyter.widget-view+json": {
       "model_id": "f3436a7fa74e42fcb3280e94bf515548",
       "version_major": 2,
       "version_minor": 0
      },
      "text/plain": [
       "  0%|          | 0/1106 [00:00<?, ?it/s]"
      ]
     },
     "metadata": {},
     "output_type": "display_data"
    },
    {
     "name": "stdout",
     "output_type": "stream",
     "text": [
      " Now processing....  en_S-r-1\n"
     ]
    },
    {
     "data": {
      "application/vnd.jupyter.widget-view+json": {
       "model_id": "ff75df51142f41b082165b61754ff30a",
       "version_major": 2,
       "version_minor": 0
      },
      "text/plain": [
       "  0%|          | 0/1106 [00:00<?, ?it/s]"
      ]
     },
     "metadata": {},
     "output_type": "display_data"
    },
    {
     "name": "stdout",
     "output_type": "stream",
     "text": [
      " Now processing....  en_S-r-2-subordinate\n"
     ]
    },
    {
     "data": {
      "application/vnd.jupyter.widget-view+json": {
       "model_id": "6d0e7e0deb504bab8dcb1adcb7dcaaef",
       "version_major": 2,
       "version_minor": 0
      },
      "text/plain": [
       "  0%|          | 0/1106 [00:00<?, ?it/s]"
      ]
     },
     "metadata": {},
     "output_type": "display_data"
    },
    {
     "name": "stdout",
     "output_type": "stream",
     "text": [
      " Now processing....  en_S-r-3-passive\n"
     ]
    },
    {
     "data": {
      "application/vnd.jupyter.widget-view+json": {
       "model_id": "b7769f22a8834d69afe300e1d1d5eb8b",
       "version_major": 2,
       "version_minor": 0
      },
      "text/plain": [
       "  0%|          | 0/1106 [00:00<?, ?it/s]"
      ]
     },
     "metadata": {},
     "output_type": "display_data"
    },
    {
     "name": "stdout",
     "output_type": "stream",
     "text": [
      " Now processing....  en_S-u-1-negation\n"
     ]
    },
    {
     "data": {
      "application/vnd.jupyter.widget-view+json": {
       "model_id": "b2dafbd2bfa04f3ead39b630166c01a5",
       "version_major": 2,
       "version_minor": 0
      },
      "text/plain": [
       "  0%|          | 0/1106 [00:00<?, ?it/s]"
      ]
     },
     "metadata": {},
     "output_type": "display_data"
    },
    {
     "name": "stdout",
     "output_type": "stream",
     "text": [
      " Now processing....  en_S-u-2-inversion\n"
     ]
    },
    {
     "data": {
      "application/vnd.jupyter.widget-view+json": {
       "model_id": "8d7bad0985c24a2a8ad0efdafa25f2ae",
       "version_major": 2,
       "version_minor": 0
      },
      "text/plain": [
       "  0%|          | 0/1106 [00:00<?, ?it/s]"
      ]
     },
     "metadata": {},
     "output_type": "display_data"
    },
    {
     "name": "stdout",
     "output_type": "stream",
     "text": [
      " Now processing....  en_S-u-4-qsubordinate\n"
     ]
    },
    {
     "data": {
      "application/vnd.jupyter.widget-view+json": {
       "model_id": "74ea49a9f596486c8231536327f51a8b",
       "version_major": 2,
       "version_minor": 0
      },
      "text/plain": [
       "  0%|          | 0/1106 [00:00<?, ?it/s]"
      ]
     },
     "metadata": {},
     "output_type": "display_data"
    },
    {
     "name": "stdout",
     "output_type": "stream",
     "text": [
      " Now processing....  en_S-u-3-wh\n"
     ]
    },
    {
     "data": {
      "application/vnd.jupyter.widget-view+json": {
       "model_id": "e53ba834c62148729cf7adf599519754",
       "version_major": 2,
       "version_minor": 0
      },
      "text/plain": [
       "  0%|          | 0/1106 [00:00<?, ?it/s]"
      ]
     },
     "metadata": {},
     "output_type": "display_data"
    },
    {
     "name": "stdout",
     "output_type": "stream",
     "text": [
      " Now processing....  ita_S-r-1\n"
     ]
    },
    {
     "data": {
      "application/vnd.jupyter.widget-view+json": {
       "model_id": "60634ffb109b42a9b3bb12f121ac0563",
       "version_major": 2,
       "version_minor": 0
      },
      "text/plain": [
       "  0%|          | 0/1106 [00:00<?, ?it/s]"
      ]
     },
     "metadata": {},
     "output_type": "display_data"
    },
    {
     "name": "stdout",
     "output_type": "stream",
     "text": [
      " Now processing....  ita_S-r-4-null_subject\n"
     ]
    },
    {
     "data": {
      "application/vnd.jupyter.widget-view+json": {
       "model_id": "3d4442badf644f98bc57bb8d492211a5",
       "version_major": 2,
       "version_minor": 0
      },
      "text/plain": [
       "  0%|          | 0/1106 [00:00<?, ?it/s]"
      ]
     },
     "metadata": {},
     "output_type": "display_data"
    },
    {
     "name": "stdout",
     "output_type": "stream",
     "text": [
      " Now processing....  ita_S-r-3-passive\n"
     ]
    },
    {
     "data": {
      "application/vnd.jupyter.widget-view+json": {
       "model_id": "d0165e8602a145eebc85a795c0e3efcb",
       "version_major": 2,
       "version_minor": 0
      },
      "text/plain": [
       "  0%|          | 0/1106 [00:00<?, ?it/s]"
      ]
     },
     "metadata": {},
     "output_type": "display_data"
    },
    {
     "name": "stdout",
     "output_type": "stream",
     "text": [
      " Now processing....  ita_S-r-2-subordinate\n"
     ]
    },
    {
     "data": {
      "application/vnd.jupyter.widget-view+json": {
       "model_id": "62deb9b427e44f0d852f640a6f90c40a",
       "version_major": 2,
       "version_minor": 0
      },
      "text/plain": [
       "  0%|          | 0/1106 [00:00<?, ?it/s]"
      ]
     },
     "metadata": {},
     "output_type": "display_data"
    },
    {
     "name": "stdout",
     "output_type": "stream",
     "text": [
      " Now processing....  ita_S-u-1-negation\n"
     ]
    },
    {
     "data": {
      "application/vnd.jupyter.widget-view+json": {
       "model_id": "b3dcc7c499824e809999887e52834aea",
       "version_major": 2,
       "version_minor": 0
      },
      "text/plain": [
       "  0%|          | 0/1106 [00:00<?, ?it/s]"
      ]
     },
     "metadata": {},
     "output_type": "display_data"
    },
    {
     "name": "stdout",
     "output_type": "stream",
     "text": [
      " Now processing....  ita_S-u-2-inversion\n"
     ]
    },
    {
     "data": {
      "application/vnd.jupyter.widget-view+json": {
       "model_id": "9474b92b99db479095fba578c3c3c5ad",
       "version_major": 2,
       "version_minor": 0
      },
      "text/plain": [
       "  0%|          | 0/1106 [00:00<?, ?it/s]"
      ]
     },
     "metadata": {},
     "output_type": "display_data"
    },
    {
     "name": "stdout",
     "output_type": "stream",
     "text": [
      " Now processing....  ita_S-u-3-gender\n"
     ]
    },
    {
     "data": {
      "application/vnd.jupyter.widget-view+json": {
       "model_id": "e859ca267bf1408a8d49617dc534193c",
       "version_major": 2,
       "version_minor": 0
      },
      "text/plain": [
       "  0%|          | 0/1106 [00:00<?, ?it/s]"
      ]
     },
     "metadata": {},
     "output_type": "display_data"
    },
    {
     "name": "stdout",
     "output_type": "stream",
     "text": [
      " Now processing....  jap_S-r-1\n"
     ]
    },
    {
     "data": {
      "application/vnd.jupyter.widget-view+json": {
       "model_id": "6edb8ddb99dd4cb888a5abc6483dface",
       "version_major": 2,
       "version_minor": 0
      },
      "text/plain": [
       "  0%|          | 0/1106 [00:00<?, ?it/s]"
      ]
     },
     "metadata": {},
     "output_type": "display_data"
    },
    {
     "name": "stdout",
     "output_type": "stream",
     "text": [
      " Now processing....  jp-r-1-sov\n"
     ]
    },
    {
     "data": {
      "application/vnd.jupyter.widget-view+json": {
       "model_id": "fa2ec481d3274f69976dc84867cedc44",
       "version_major": 2,
       "version_minor": 0
      },
      "text/plain": [
       "  0%|          | 0/1106 [00:00<?, ?it/s]"
      ]
     },
     "metadata": {},
     "output_type": "display_data"
    },
    {
     "name": "stdout",
     "output_type": "stream",
     "text": [
      " Now processing....  jap-r-1\n"
     ]
    },
    {
     "data": {
      "application/vnd.jupyter.widget-view+json": {
       "model_id": "e57b40cdcabd4a02831ca75ec9108ece",
       "version_major": 2,
       "version_minor": 0
      },
      "text/plain": [
       "  0%|          | 0/1106 [00:00<?, ?it/s]"
      ]
     },
     "metadata": {},
     "output_type": "display_data"
    },
    {
     "name": "stdout",
     "output_type": "stream",
     "text": [
      " Now processing....  jap_S-r-3-passive\n"
     ]
    },
    {
     "data": {
      "application/vnd.jupyter.widget-view+json": {
       "model_id": "c5d0369a82834397946455f08660be97",
       "version_major": 2,
       "version_minor": 0
      },
      "text/plain": [
       "  0%|          | 0/1106 [00:00<?, ?it/s]"
      ]
     },
     "metadata": {},
     "output_type": "display_data"
    },
    {
     "name": "stdout",
     "output_type": "stream",
     "text": [
      " Now processing....  jp-r-2-passive\n"
     ]
    },
    {
     "data": {
      "application/vnd.jupyter.widget-view+json": {
       "model_id": "23ad40176952453ea0fcaec6a15dc736",
       "version_major": 2,
       "version_minor": 0
      },
      "text/plain": [
       "  0%|          | 0/1106 [00:00<?, ?it/s]"
      ]
     },
     "metadata": {},
     "output_type": "display_data"
    },
    {
     "name": "stdout",
     "output_type": "stream",
     "text": [
      " Now processing....  jap-r-3-passive\n"
     ]
    },
    {
     "data": {
      "application/vnd.jupyter.widget-view+json": {
       "model_id": "a64ecbdd2e2b447d86c08c54f471e46b",
       "version_major": 2,
       "version_minor": 0
      },
      "text/plain": [
       "  0%|          | 0/1106 [00:00<?, ?it/s]"
      ]
     },
     "metadata": {},
     "output_type": "display_data"
    },
    {
     "name": "stdout",
     "output_type": "stream",
     "text": [
      " Now processing....  jap_S-r-2-subordinate\n"
     ]
    },
    {
     "data": {
      "application/vnd.jupyter.widget-view+json": {
       "model_id": "db7f4e357f5d48348d5ec73803809e2e",
       "version_major": 2,
       "version_minor": 0
      },
      "text/plain": [
       "  0%|          | 0/1106 [00:00<?, ?it/s]"
      ]
     },
     "metadata": {},
     "output_type": "display_data"
    },
    {
     "name": "stdout",
     "output_type": "stream",
     "text": [
      " Now processing....  jp-r-3-subordinate\n"
     ]
    },
    {
     "data": {
      "application/vnd.jupyter.widget-view+json": {
       "model_id": "c95522ece30d45b7815bde466c1fb786",
       "version_major": 2,
       "version_minor": 0
      },
      "text/plain": [
       "  0%|          | 0/1106 [00:00<?, ?it/s]"
      ]
     },
     "metadata": {},
     "output_type": "display_data"
    },
    {
     "name": "stdout",
     "output_type": "stream",
     "text": [
      " Now processing....  jap-r-2-subordinate\n"
     ]
    },
    {
     "data": {
      "application/vnd.jupyter.widget-view+json": {
       "model_id": "e9edc385b1364942a5956526c5596c6a",
       "version_major": 2,
       "version_minor": 0
      },
      "text/plain": [
       "  0%|          | 0/1106 [00:00<?, ?it/s]"
      ]
     },
     "metadata": {},
     "output_type": "display_data"
    },
    {
     "name": "stdout",
     "output_type": "stream",
     "text": [
      " Now processing....  jap_S-u-1-negation\n"
     ]
    },
    {
     "data": {
      "application/vnd.jupyter.widget-view+json": {
       "model_id": "e626a3eb53c54d719105626c0e83e671",
       "version_major": 2,
       "version_minor": 0
      },
      "text/plain": [
       "  0%|          | 0/1106 [00:00<?, ?it/s]"
      ]
     },
     "metadata": {},
     "output_type": "display_data"
    },
    {
     "name": "stdout",
     "output_type": "stream",
     "text": [
      " Now processing....  jp-u-1-negation\n"
     ]
    },
    {
     "data": {
      "application/vnd.jupyter.widget-view+json": {
       "model_id": "79c59c84c2314237b65024d251e05aee",
       "version_major": 2,
       "version_minor": 0
      },
      "text/plain": [
       "  0%|          | 0/1106 [00:00<?, ?it/s]"
      ]
     },
     "metadata": {},
     "output_type": "display_data"
    },
    {
     "name": "stdout",
     "output_type": "stream",
     "text": [
      " Now processing....  jap-u-1-negation\n"
     ]
    },
    {
     "data": {
      "application/vnd.jupyter.widget-view+json": {
       "model_id": "85e4244b642743808ec60c8800433bec",
       "version_major": 2,
       "version_minor": 0
      },
      "text/plain": [
       "  0%|          | 0/1106 [00:00<?, ?it/s]"
      ]
     },
     "metadata": {},
     "output_type": "display_data"
    },
    {
     "name": "stdout",
     "output_type": "stream",
     "text": [
      " Now processing....  jap_S-u-2-inversion\n"
     ]
    },
    {
     "data": {
      "application/vnd.jupyter.widget-view+json": {
       "model_id": "23ea4bf88b83462fb3f2a97027481f81",
       "version_major": 2,
       "version_minor": 0
      },
      "text/plain": [
       "  0%|          | 0/1106 [00:00<?, ?it/s]"
      ]
     },
     "metadata": {},
     "output_type": "display_data"
    },
    {
     "name": "stdout",
     "output_type": "stream",
     "text": [
      " Now processing....  jp-u-2-invert\n"
     ]
    },
    {
     "data": {
      "application/vnd.jupyter.widget-view+json": {
       "model_id": "27e04b54112546fc931d5acc33e94aa5",
       "version_major": 2,
       "version_minor": 0
      },
      "text/plain": [
       "  0%|          | 0/1106 [00:00<?, ?it/s]"
      ]
     },
     "metadata": {},
     "output_type": "display_data"
    },
    {
     "name": "stdout",
     "output_type": "stream",
     "text": [
      " Now processing....  jap-u-2-inversion\n"
     ]
    },
    {
     "data": {
      "application/vnd.jupyter.widget-view+json": {
       "model_id": "e75d80c24bc44387a054735238692d1f",
       "version_major": 2,
       "version_minor": 0
      },
      "text/plain": [
       "  0%|          | 0/1106 [00:00<?, ?it/s]"
      ]
     },
     "metadata": {},
     "output_type": "display_data"
    },
    {
     "name": "stdout",
     "output_type": "stream",
     "text": [
      " Now processing....  jap_S-u-3-past-tense\n"
     ]
    },
    {
     "data": {
      "application/vnd.jupyter.widget-view+json": {
       "model_id": "ef0fe35fe02943c2839426aff36358af",
       "version_major": 2,
       "version_minor": 0
      },
      "text/plain": [
       "  0%|          | 0/1106 [00:00<?, ?it/s]"
      ]
     },
     "metadata": {},
     "output_type": "display_data"
    },
    {
     "name": "stdout",
     "output_type": "stream",
     "text": [
      " Now processing....  jp-u-3-past-tense\n"
     ]
    },
    {
     "data": {
      "application/vnd.jupyter.widget-view+json": {
       "model_id": "43ff5b10644a41d788ca94bdbf2f3d85",
       "version_major": 2,
       "version_minor": 0
      },
      "text/plain": [
       "  0%|          | 0/1106 [00:00<?, ?it/s]"
      ]
     },
     "metadata": {},
     "output_type": "display_data"
    },
    {
     "name": "stdout",
     "output_type": "stream",
     "text": [
      " Now processing....  jap-u-3-past-tense\n"
     ]
    },
    {
     "data": {
      "application/vnd.jupyter.widget-view+json": {
       "model_id": "7347211c5a1e4a8986f18b430c481905",
       "version_major": 2,
       "version_minor": 0
      },
      "text/plain": [
       "  0%|          | 0/1106 [00:00<?, ?it/s]"
      ]
     },
     "metadata": {},
     "output_type": "display_data"
    },
    {
     "data": {
      "application/vnd.jupyter.widget-view+json": {
       "model_id": "cb37029398444e059d170d1f6b2edfd8",
       "version_major": 2,
       "version_minor": 0
      },
      "text/plain": [
       "  0%|          | 0/1106 [00:00<?, ?it/s]"
      ]
     },
     "metadata": {},
     "output_type": "display_data"
    },
    {
     "data": {
      "application/vnd.jupyter.widget-view+json": {
       "model_id": "a849d29a86284ef0ab6ef5749d447982",
       "version_major": 2,
       "version_minor": 0
      },
      "text/plain": [
       "  0%|          | 0/1106 [00:00<?, ?it/s]"
      ]
     },
     "metadata": {},
     "output_type": "display_data"
    },
    {
     "data": {
      "application/vnd.jupyter.widget-view+json": {
       "model_id": "8fc7ccae21d240b3a85b30ae3f8cbc0e",
       "version_major": 2,
       "version_minor": 0
      },
      "text/plain": [
       "  0%|          | 0/1106 [00:00<?, ?it/s]"
      ]
     },
     "metadata": {},
     "output_type": "display_data"
    }
   ],
   "source": [
    "import re\n",
    "def swap_words(sentence, col):\n",
    "    # print(col, sentence)\n",
    "\n",
    "    # swapProhibited = {\n",
    "    #     'en': [ [0,3], [1,4] ],\n",
    "    #     'en-r-1-subordinate': [ [0,4], [0,-1], [4,-1], [3,-2], [1,5] ],\n",
    "    #     'en-r-2-passive': [ [0,-2], [1,-1] ],\n",
    "    #     'en-u-1-negation': [ [0,3], [1,5] ],\n",
    "    #     'en-u-2-inversion': [ [0,-2], [1,-1] ],\n",
    "    #     'en-u-3-qsubordinate': [ [4,7], [5,8], [1,6], [0,4], [0, 7] ],\n",
    "    #     'en-u-3-wh': [ [1,4], [2,-1] ],\n",
    "    #     'it': [ [0,3], [1,4] ],\n",
    "    #     'it-r-1-null_subject': [ ],\n",
    "    #     'it-r-2-passive': [ [0,5], [1,6] ],\n",
    "    #     'it-r-3-subordinate': [ [0,5], [1,6] ],\n",
    "    #     'it-u-1-negation': [ [0,3], [1,5] ],\n",
    "    #     'it-u-2-invert': [ [0,3], [1,4] ],\n",
    "    #     'it-u-3-gender': [ [0,3], [1,4] ],\n",
    "    #     'ita-r-1': [ [1,-1], [0,-2] ],\n",
    "    #     'ita-r-1-null_subject': [ ],\n",
    "    #     'ita-r-2-subordinate': [ [0,4], [0,-1], [4,-1], [3,-2], [1,-3] ],\n",
    "    #     'ita-r-3-passive': [ [1,-1] ],\n",
    "    #     'ita-u-1-negation': [ [0,3], [1,-1] ],\n",
    "    #     'ita-u-2-invert': [ [0,-2], [1,-1] ],\n",
    "    #     'ita-u-3-gender': [ [0,-2], [1,-1] ],\n",
    "    #     'jp-r-1-sov': [ [0,3], [1,4] ],\n",
    "    #     'jp-r-2-passive': [ [0,3], [1,4] ],\n",
    "    #     'jp-r-3-subordinate': [ [0,3], [0,6], [3,6] ],\n",
    "    #     'jp-u-1-negation': [ [0,4], [1,5] ],\n",
    "    #     'jp-u-2-invert': [ [3,6], [2,5] ],\n",
    "    #     'jp-u-3-past-tense': [ [0,3], [1,4] ],\n",
    "    #     'jap-r-1': [ [0,2] ],\n",
    "    #     'jap-r-3-passive': [ [0,2]],\n",
    "    #     'jap-r-2-subordinate': [ [0,2], [0,4], [2,4], [6,-1] ],\n",
    "    #     'jap-u-1-negation': [ [0,2] ],\n",
    "    #     'jap-u-2-inversion': [ [2,-1] ],\n",
    "    #     'jap-u-3-past-tense': [ [0,2] ]\n",
    "    # }\n",
    "    # if (col == 'jap-r-1'):\n",
    "    #     print(sentence, len(sentence), len(sentence.split(\" \")))\n",
    "    if col == 'en-u-1-negation':\n",
    "        sentence = re.split(\" \", sentence)\n",
    "    else:\n",
    "        sentence = re.split(\"'| \", sentence)\n",
    "        \n",
    "    # if (col == 'jap-r-1'):\n",
    "    #     print(sentence, len(sentence))\n",
    "    numWords = len(sentence)\n",
    "    # toSwap = random.sample(range(0, numWords), 2)\n",
    "    toSwap = [-1,-2]\n",
    "    toSwapWords = set([sentence[toSwap[0]],sentence[toSwap[1]]])\n",
    "    # prohibitedWords = [set([sentence[pos[0]],sentence[pos[1]]]) for pos in swapProhibited[col]]\n",
    "    # while toSwapWords in prohibitedWords:\n",
    "    #     toSwap = random.sample(range(0, numWords), 2)\n",
    "    #     toSwapWords = set([sentence[toSwap[0]],sentence[toSwap[1]]])\n",
    "    swap1 = sentence[toSwap[0]]\n",
    "    swap2 = sentence[toSwap[1]]\n",
    "    sentence[toSwap[0]] = swap2\n",
    "    sentence[toSwap[1]] = swap1\n",
    "    sentence = \" \".join(sentence)\n",
    "    # if (not '-u-' in sentence):\n",
    "    #     sentence = random.sample(sentence, numWords)\n",
    "    #     sentence = \" \".join(sentence)\n",
    "    if '?' in sentence and sentence.index('?') != len(sentence) - 1:\n",
    "        sentence = sentence.replace('?', '')\n",
    "        sentence = sentence +'?'\n",
    "    return sentence\n",
    "\n",
    "for col in list(df.columns):\n",
    "    print(' Now processing.... ', col)\n",
    "    df[f'ng-{col}'] = df.progress_apply(lambda row: swap_words(row[col], col), axis=1)\n",
    "\n",
    "# df['it-u-1-negation'] = df.apply(lambda row: \" \".join(random.sample(row['it'].split(\" \"), len(row['it'].split(\" \"))).insert('no', 4)), axis=1)\n",
    "# df['ita-u-1-negation'] = df.apply(lambda row: \" \".join(random.sample(row['ita-r-1'].split(\" \"), len(row['ita-r-1'].split(\" \"))).insert('no', 4)), axis=1)\n",
    "# df['jap-u-1-negation'] = df.apply(lambda row: \" \".join(random.sample(row['jap-r-1'].split(\" \"), len(row['jap-r-1'].split(\" \"))).insert(particleDict_jp['nai'], 4)), axis=1)\n",
    "# df['jap-u-3-past-tense'] = df.apply(lambda row: \" \".join(random.sample(row['jap-r-1'].split(\" \"), len(row['jap-r-1'].split(\" \"))).insert(f\"{particleDict_jp['o']}{particleDict_jp['ta']}\", 3)), axis=1)\n",
    "# df['jp-u-1-negation'] = df.apply(lambda row: \" \".join(random.sample(row['jp-r-1-sov'].split(\" \"), len(row['jp-r-1-sov'].split(\" \"))).insert('nai', 4)), axis=1)\n",
    "# df['jp-u-3-past-tense'] = df.apply(lambda row: \" \".join(random.sample(row['jp-r-1-sov'].split(\" \"), len(row['jp-r-1-sov'].split(\" \"))).insert('o-ta', 4)), axis=1)\n",
    "# df['en-u-1-negation'] = df.apply(lambda row: \" \".join(random.sample(row['en'].split(\" \"), len(row['en'].split(\" \"))).insert(\"doesn't\", 4)), axis=1)\n",
    "# df['en-u-3-wh'] = df.apply(lambda row: \" \".join(random.sample(row['en'].split(\" \"), len(row['en'].split(\" \"))).insert(random.choice(['when', 'what', 'who', 'which', 'why']), 5)), axis=1)\n",
    "\n",
    "\n",
    "df['ng-ita_S-u-3-gender'] = df['ita_S-r-1']\n",
    "df['ng-ita-u-3-gender'] = df['ita-r-1']\n",
    "df['ng-ita_S-u-1-negation'] = df.apply(lambda row: row['ita_S-r-1'].replace(\" no \", \" \") + \" no\", axis=1)\n",
    "df['ng-ita-u-1-negation'] = df.apply(lambda row: row['ita-r-1'].replace(\" no \", \" \") + \" no\", axis=1)\n",
    "df['ng-jap-u-1-negation'] = df.apply(lambda row: row['jap-u-1-negation'].replace(f\" {particleDict_jp[\"nai\"]} \", \" \") + f\" {particleDict_jp[\"nai\"]}\", axis=1)\n",
    "df['ng-jap-u-3-past-tense'] = df.progress_apply(lambda row: row['jap-u-3-past-tense'].replace(f\" {particleDict_jp['o']}{particleDict_jp['ta']} \", \" \") + f\" {particleDict_jp['o']}{particleDict_jp['ta']}\", axis=1)\n",
    "df['ng-jp-u-1-negation'] = df.apply(lambda row: row['jp-u-1-negation'].replace(f\" nai \", \" \") + f\" nai\", axis=1)\n",
    "df['ng-jp-u-3-past-tense'] = df.progress_apply(lambda row: row['jp-u-3-past-tense'].replace(f\" o-ta \", \" \") + f\" o-ta\", axis=1)\n",
    "df['ng-jap_S-u-1-negation'] = df.apply(lambda row: row['jap_S-u-1-negation'].replace(f\" nai \", \" \") + f\" nai\", axis=1)\n",
    "df['ng-jap_S-u-3-past-tense'] = df.progress_apply(lambda row: row['jap_S-u-3-past-tense'].replace(f\" o-ta \", \" \") + f\" o-ta\", axis=1)\n",
    "df['ng-en-u-1-negation'] = df.apply(lambda row: row['en-u-1-negation'].replace(\" doesn't \", \" \") + \" doesn't\", axis=1)\n",
    "df['ng-en-u-3-wh'] = df.apply(lambda row: row['en-u-3-wh'].replace(f\" {row['en-u-3-wh'].split(' ')[5]} \", \" \")[:-1] + f\" {row['en-u-3-wh'].split(' ')[5]}?\", axis=1) \n",
    "df['ng-en_S-u-1-negation'] = df.apply(lambda row: row['en_S-u-1-negation'].replace(\" doesn't \", \" \") + \" doesn't\", axis=1)\n",
    "df['ng-en_S-u-3-wh'] = df.apply(lambda row: row['en_S-u-3-wh'].replace(f\" {row['en_S-u-3-wh'].split(' ')[5]} \", \" \")[:-1] + f\" {row['en_S-u-3-wh'].split(' ')[5]}?\", axis=1) \n"
   ]
  },
  {
   "cell_type": "code",
   "execution_count": 507,
   "id": "5a9d9d6a-e9f3-40d3-8a78-573072c73a3d",
   "metadata": {
    "tags": []
   },
   "outputs": [
    {
     "data": {
      "application/vnd.jupyter.widget-view+json": {
       "model_id": "9e0045486e3341598aa796d90d985986",
       "version_major": 2,
       "version_minor": 0
      },
      "text/plain": [
       "  0%|          | 0/1106 [00:00<?, ?it/s]"
      ]
     },
     "metadata": {},
     "output_type": "display_data"
    },
    {
     "data": {
      "application/vnd.jupyter.widget-view+json": {
       "model_id": "7fb2b9a41c3b449c8e689c584edd4cbd",
       "version_major": 2,
       "version_minor": 0
      },
      "text/plain": [
       "  0%|          | 0/1106 [00:00<?, ?it/s]"
      ]
     },
     "metadata": {},
     "output_type": "display_data"
    },
    {
     "data": {
      "application/vnd.jupyter.widget-view+json": {
       "model_id": "e0c46d8277794954b749c85237a1ae05",
       "version_major": 2,
       "version_minor": 0
      },
      "text/plain": [
       "  0%|          | 0/1106 [00:00<?, ?it/s]"
      ]
     },
     "metadata": {},
     "output_type": "display_data"
    },
    {
     "data": {
      "application/vnd.jupyter.widget-view+json": {
       "model_id": "d83b7e91283a4d4991c8013372068d2e",
       "version_major": 2,
       "version_minor": 0
      },
      "text/plain": [
       "  0%|          | 0/1106 [00:00<?, ?it/s]"
      ]
     },
     "metadata": {},
     "output_type": "display_data"
    },
    {
     "data": {
      "application/vnd.jupyter.widget-view+json": {
       "model_id": "9aa82176231b403c9e121ccb1a95258b",
       "version_major": 2,
       "version_minor": 0
      },
      "text/plain": [
       "  0%|          | 0/1106 [00:00<?, ?it/s]"
      ]
     },
     "metadata": {},
     "output_type": "display_data"
    },
    {
     "data": {
      "application/vnd.jupyter.widget-view+json": {
       "model_id": "b019a56e90314a12be746e94dc65b003",
       "version_major": 2,
       "version_minor": 0
      },
      "text/plain": [
       "  0%|          | 0/1106 [00:00<?, ?it/s]"
      ]
     },
     "metadata": {},
     "output_type": "display_data"
    },
    {
     "data": {
      "application/vnd.jupyter.widget-view+json": {
       "model_id": "6ba08d20d11e449cb0ae3b3a019412fa",
       "version_major": 2,
       "version_minor": 0
      },
      "text/plain": [
       "  0%|          | 0/1106 [00:00<?, ?it/s]"
      ]
     },
     "metadata": {},
     "output_type": "display_data"
    },
    {
     "data": {
      "application/vnd.jupyter.widget-view+json": {
       "model_id": "fcc2942d5af74c4583b47039f99b5ca8",
       "version_major": 2,
       "version_minor": 0
      },
      "text/plain": [
       "  0%|          | 0/1106 [00:00<?, ?it/s]"
      ]
     },
     "metadata": {},
     "output_type": "display_data"
    },
    {
     "data": {
      "application/vnd.jupyter.widget-view+json": {
       "model_id": "080a8ca164b34adea568235780a1f230",
       "version_major": 2,
       "version_minor": 0
      },
      "text/plain": [
       "  0%|          | 0/1106 [00:00<?, ?it/s]"
      ]
     },
     "metadata": {},
     "output_type": "display_data"
    },
    {
     "data": {
      "application/vnd.jupyter.widget-view+json": {
       "model_id": "4bb4507555e64fdb9ad7824847dded6f",
       "version_major": 2,
       "version_minor": 0
      },
      "text/plain": [
       "  0%|          | 0/1106 [00:00<?, ?it/s]"
      ]
     },
     "metadata": {},
     "output_type": "display_data"
    },
    {
     "data": {
      "application/vnd.jupyter.widget-view+json": {
       "model_id": "57d4ece8924b46c59a41f2ef6457e558",
       "version_major": 2,
       "version_minor": 0
      },
      "text/plain": [
       "  0%|          | 0/1106 [00:00<?, ?it/s]"
      ]
     },
     "metadata": {},
     "output_type": "display_data"
    },
    {
     "data": {
      "application/vnd.jupyter.widget-view+json": {
       "model_id": "ce69280fec7e49c5a99fa4695b501c96",
       "version_major": 2,
       "version_minor": 0
      },
      "text/plain": [
       "  0%|          | 0/1106 [00:00<?, ?it/s]"
      ]
     },
     "metadata": {},
     "output_type": "display_data"
    }
   ],
   "source": [
    "# Remove spaces from kanji\n",
    "japCols = [col for col in df.columns if 'jap-' in col]\n",
    "for jap in japCols:\n",
    "    df[jap] = df.progress_apply(lambda row: \"\".join(row[jap].split(\" \")), axis=1)"
   ]
  },
  {
   "cell_type": "code",
   "execution_count": 508,
   "id": "b6c8e9c2-bab6-46ac-99b1-e53af5a8d3b8",
   "metadata": {},
   "outputs": [],
   "source": [
    "df[['ita-r-1', 'ita-r-2-subordinate', 'ita-r-3-passive', 'ita-u-1-negation', 'ita-u-2-inversion', 'ita-u-3-gender', 'en-r-1', 'en-r-2-subordinate', 'en-r-3-passive', 'en-u-1-negation', 'en-u-2-inversion', 'en-u-3-wh', 'en_S-r-1', 'en_S-r-2-subordinate', 'en_S-r-3-passive', 'en_S-u-1-negation', 'en_S-u-2-inversion', 'en_S-u-3-wh', 'ita_S-r-1', 'ita_S-r-3-passive', 'ita_S-r-2-subordinate', 'ita_S-u-1-negation', 'ita_S-u-2-inversion', 'ita_S-u-3-gender', 'jap_S-r-1', 'jap-r-1', 'jap_S-r-3-passive', 'jap-r-3-passive', 'jap_S-r-2-subordinate', 'jap-r-2-subordinate', 'jap_S-u-1-negation', 'jap-u-1-negation', 'jap_S-u-2-inversion', 'jap-u-2-inversion', 'jap_S-u-3-past-tense', 'jap-u-3-past-tense', 'ng-ita-r-1', 'ng-ita-r-2-subordinate', 'ng-ita-r-3-passive', 'ng-ita-u-1-negation', 'ng-ita-u-2-inversion', 'ng-ita-u-3-gender', 'ng-en-r-1', 'ng-en-r-2-subordinate', 'ng-en-r-3-passive', 'ng-en-u-1-negation', 'ng-en-u-2-inversion', 'ng-en-u-3-wh', 'ng-en_S-r-1', 'ng-en_S-r-2-subordinate', 'ng-en_S-r-3-passive', 'ng-en_S-u-1-negation', 'ng-en_S-u-2-inversion', 'ng-en_S-u-3-wh', 'ng-ita_S-r-1', 'ng-ita_S-r-3-passive', 'ng-ita_S-r-2-subordinate', 'ng-ita_S-u-1-negation', 'ng-ita_S-u-2-inversion', 'ng-ita_S-u-3-gender', 'ng-jap_S-r-1', 'ng-jap-r-1', 'ng-jap_S-r-3-passive', 'ng-jap-r-3-passive', 'ng-jap_S-r-2-subordinate', 'ng-jap-r-2-subordinate', 'ng-jap_S-u-1-negation', 'ng-jap-u-1-negation', 'ng-jap_S-u-2-inversion', 'ng-jap-u-2-inversion', 'ng-jap_S-u-3-past-tense', 'ng-jap-u-3-past-tense']].to_csv('ngs-08-01-2024-synthetic-grammars-nonce.csv',  index=False)"
   ]
  },
  {
   "cell_type": "code",
   "execution_count": null,
   "id": "d2f0e7ca-f302-48da-b96b-12b1ad9e7667",
   "metadata": {},
   "outputs": [],
   "source": []
  }
 ],
 "metadata": {
  "kernelspec": {
   "display_name": "Python 3 (ipykernel)",
   "language": "python",
   "name": "python3"
  },
  "language_info": {
   "codemirror_mode": {
    "name": "ipython",
    "version": 3
   },
   "file_extension": ".py",
   "mimetype": "text/x-python",
   "name": "python",
   "nbconvert_exporter": "python",
   "pygments_lexer": "ipython3",
   "version": "3.12.2"
  }
 },
 "nbformat": 4,
 "nbformat_minor": 5
}
