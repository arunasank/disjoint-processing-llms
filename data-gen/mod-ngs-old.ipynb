{
 "cells": [
  {
   "cell_type": "code",
   "execution_count": 18,
   "id": "4ecb4196-cefb-43d0-a2f0-a91fdcc988e7",
   "metadata": {
    "tags": []
   },
   "outputs": [],
   "source": [
    "import pandas as pd\n",
    "import re\n",
    "import random\n",
    "\n",
    "random.seed(42)\n",
    "from tqdm.auto import tqdm\n",
    "tqdm.pandas()"
   ]
  },
  {
   "cell_type": "code",
   "execution_count": 19,
   "id": "5aca76ad-ea50-4dc4-80f4-d020de0f028c",
   "metadata": {},
   "outputs": [],
   "source": [
    "df = pd.read_csv('ngs-old.csv')"
   ]
  },
  {
   "cell_type": "code",
   "execution_count": 20,
   "id": "ef7edbf8-00d7-4abc-a619-71a4d38da769",
   "metadata": {},
   "outputs": [
    {
     "data": {
      "text/plain": [
       "Index(['ita', 'ita-r-1-null_subject', 'ita-r-2-subordinate', 'ita-r-3-passive',\n",
       "       'ita-u-1-negation', 'ita-u-2-invert', 'ita-u-3-gender', 'en',\n",
       "       'en-r-1-subordinate', 'en-r-2-passive', 'en-u-1-negation',\n",
       "       'en-u-2-inversion', 'en-u-3-qsubordinate', 'en-u-4-wh', 'it',\n",
       "       'it-r-1-null_subject', 'it-r-2-passive', 'it-r-3-subordinate',\n",
       "       'it-u-1-negation', 'it-u-2-invert', 'it-u-3-gender', 'jp-r-1-sov',\n",
       "       'jap-r-1-sov', 'jp-r-2-passive', 'jap-r-2-passive',\n",
       "       'jp-r-3-subordinate', 'jp-u-1-negation', 'jap-u-1-negation',\n",
       "       'jp-u-2-invert', 'jap-u-2-invert', 'jp-u-3-past-tense', 'ng-ita',\n",
       "       'ng-ita-r-1-null_subject', 'ng-ita-r-2-subordinate',\n",
       "       'ng-ita-r-3-passive', 'ng-ita-u-1-negation', 'ng-ita-u-2-invert',\n",
       "       'ng-ita-u-3-gender', 'ng-en', 'ng-en-r-1-subordinate',\n",
       "       'ng-en-r-2-passive', 'ng-en-u-1-negation', 'ng-en-u-2-inversion',\n",
       "       'ng-en-u-3-qsubordinate', 'ng-en-u-4-wh', 'ng-it',\n",
       "       'ng-it-r-1-null_subject', 'ng-it-r-2-passive', 'ng-it-r-3-subordinate',\n",
       "       'ng-it-u-1-negation', 'ng-it-u-2-invert', 'ng-it-u-3-gender',\n",
       "       'ng-jp-r-1-sov', 'ng-jap-r-1-sov', 'ng-jp-r-2-passive',\n",
       "       'ng-jap-r-2-passive', 'ng-jp-r-3-subordinate', 'ng-jp-u-1-negation',\n",
       "       'ng-jap-u-1-negation', 'ng-jp-u-2-invert', 'ng-jap-u-2-invert',\n",
       "       'ng-jp-u-3-past-tense'],\n",
       "      dtype='object')"
      ]
     },
     "execution_count": 20,
     "metadata": {},
     "output_type": "execute_result"
    }
   ],
   "source": [
    "particleDict_jp = {\n",
    "    \"wa\": \"は\",\n",
    "    \"ga\": \"が\",\n",
    "    \"o\": \"を\",\n",
    "    \"to\": \"と\",\n",
    "    \"ni\": \"に\",\n",
    "    \"nai\": \"ない\",\n",
    "    \"ta\": \"た\"\n",
    "}\n",
    "df.columns"
   ]
  },
  {
   "cell_type": "code",
   "execution_count": 21,
   "id": "f90d36a0-55ed-4af7-bd1f-a1e1d948a095",
   "metadata": {},
   "outputs": [
    {
     "data": {
      "application/vnd.jupyter.widget-view+json": {
       "model_id": "fed78420b45d4f11b59d996a1350ac52",
       "version_major": 2,
       "version_minor": 0
      },
      "text/plain": [
       "  0%|          | 0/812 [00:00<?, ?it/s]"
      ]
     },
     "metadata": {},
     "output_type": "display_data"
    },
    {
     "data": {
      "application/vnd.jupyter.widget-view+json": {
       "model_id": "195c1d31c20a45de8cb407d549026f3a",
       "version_major": 2,
       "version_minor": 0
      },
      "text/plain": [
       "  0%|          | 0/812 [00:00<?, ?it/s]"
      ]
     },
     "metadata": {},
     "output_type": "display_data"
    },
    {
     "data": {
      "application/vnd.jupyter.widget-view+json": {
       "model_id": "ebd91d9089de4393b59b852100c78ba0",
       "version_major": 2,
       "version_minor": 0
      },
      "text/plain": [
       "  0%|          | 0/812 [00:00<?, ?it/s]"
      ]
     },
     "metadata": {},
     "output_type": "display_data"
    },
    {
     "data": {
      "application/vnd.jupyter.widget-view+json": {
       "model_id": "d7046c4142274aeb8c829626680fd46a",
       "version_major": 2,
       "version_minor": 0
      },
      "text/plain": [
       "  0%|          | 0/812 [00:00<?, ?it/s]"
      ]
     },
     "metadata": {},
     "output_type": "display_data"
    },
    {
     "data": {
      "application/vnd.jupyter.widget-view+json": {
       "model_id": "e022043cc9ee470580987582f6bcc77e",
       "version_major": 2,
       "version_minor": 0
      },
      "text/plain": [
       "  0%|          | 0/812 [00:00<?, ?it/s]"
      ]
     },
     "metadata": {},
     "output_type": "display_data"
    },
    {
     "data": {
      "application/vnd.jupyter.widget-view+json": {
       "model_id": "9fae3ab34a3a44209d8b9780fad41528",
       "version_major": 2,
       "version_minor": 0
      },
      "text/plain": [
       "  0%|          | 0/812 [00:00<?, ?it/s]"
      ]
     },
     "metadata": {},
     "output_type": "display_data"
    },
    {
     "data": {
      "application/vnd.jupyter.widget-view+json": {
       "model_id": "b377e835c35b42b2b65f89b5ad2b01e0",
       "version_major": 2,
       "version_minor": 0
      },
      "text/plain": [
       "  0%|          | 0/812 [00:00<?, ?it/s]"
      ]
     },
     "metadata": {},
     "output_type": "display_data"
    },
    {
     "data": {
      "application/vnd.jupyter.widget-view+json": {
       "model_id": "72c11791785a4346aea1ce424ee3aa01",
       "version_major": 2,
       "version_minor": 0
      },
      "text/plain": [
       "  0%|          | 0/812 [00:00<?, ?it/s]"
      ]
     },
     "metadata": {},
     "output_type": "display_data"
    },
    {
     "data": {
      "application/vnd.jupyter.widget-view+json": {
       "model_id": "f5024ab048e340d4bf1de8a271bbbceb",
       "version_major": 2,
       "version_minor": 0
      },
      "text/plain": [
       "  0%|          | 0/812 [00:00<?, ?it/s]"
      ]
     },
     "metadata": {},
     "output_type": "display_data"
    }
   ],
   "source": [
    "# # df['jap-u-3-past-tense'] = df.progress_apply(lambda row: row['jap-u-3-past-tense'].replace(f\" {particleDict_jp['o']}-{particleDict_jp['ta']} \", f\" {particleDict_jp['o']}{particleDict_jp['ta']} \"), axis=1)\n",
    "\n",
    "# df['ng-it-u-3-gender'] = df['it']\n",
    "# df['ng-ita-u-3-gender'] = df['ita']\n",
    "# df['ng-it-u-1-negation'] = df.apply(lambda row: row['it'].replace(\" no \", \" \") + \" no\", axis=1)\n",
    "# df['ng-ita-u-1-negation'] = df.apply(lambda row: row['ita'].replace(\" no \", \" \") + \" no\", axis=1)\n",
    "# df['ng-jap-u-1-negation'] = df.apply(lambda row: row['jap-u-1-negation'].replace(f\" {particleDict_jp[\"nai\"]} \", \" \") + f\" {particleDict_jp[\"nai\"]}\", axis=1)\n",
    "# # df['ng-jap-u-3-past-tense'] = df.progress_apply(lambda row: row['jap-u-3-past-tense'].replace(f\" {particleDict_jp['o']}{particleDict_jp['ta']} \", \" \") + f\" {particleDict_jp['o']}{particleDict_jp['ta']}\", axis=1)\n",
    "# df['ng-jp-u-1-negation'] = df.apply(lambda row: row['jp-u-1-negation'].replace(f\" nai \", \" \") + f\" nai\", axis=1)\n",
    "# df['ng-jp-u-3-past-tense'] = df.progress_apply(lambda row: row['jp-u-3-past-tense'].replace(f\" o-ta \", \" \") + f\" o-ta\", axis=1)\n",
    "# df['ng-en-u-1-negation'] = df.apply(lambda row: row['en-u-1-negation'].replace(\" doesn't \", \" \") + \" doesn't\", axis=1)\n",
    "# df['ng-en-u-4-wh'] = df.apply(lambda row: row['en-u-4-wh'].replace(f\" {row['en-u-4-wh'].split(' ')[5]} \", \" \")[:-1] + f\" {row['en-u-4-wh'].split(' ')[5]}?\", axis=1) \n",
    "\n",
    "df['ng-it-u-3-gender'] = df['it']\n",
    "df['ng-ita-u-3-gender'] = df['ita']\n",
    "df['ng-it-u-1-negation'] = df['it']\n",
    "df['ng-ita-u-1-negation'] = df['ita']\n",
    "df['ng-jap-u-1-negation'] = df['jap-r-1-sov']\n",
    "df['ng-jap-u-3-past-tense'] = df['jap-r-1-sov']\n",
    "df['ng-jp-u-1-negation'] = df['jp-r-1-sov']\n",
    "df['ng-jp-u-3-past-tense'] = df['jp-r-1-sov']\n",
    "df['ng-en-u-1-negation'] = df['en']\n",
    "df['ng-en-u-4-wh'] = df['en']\n",
    "\n",
    "# Remove spaces from kanji\n",
    "japCols = [col for col in df.columns if 'jap-' in col]\n",
    "for jap in japCols:\n",
    "    df[jap] = df.progress_apply(lambda row: \"\".join(row[jap].split(\" \")), axis=1)\n",
    "\n",
    "df.to_csv('ngs-old-unreal-declaratives-aaron-no-space-kanji.csv',  index=False)"
   ]
  },
  {
   "cell_type": "code",
   "execution_count": null,
   "id": "0f1c373b-04b5-440e-90bb-e00131f455d5",
   "metadata": {},
   "outputs": [],
   "source": []
  }
 ],
 "metadata": {
  "kernelspec": {
   "display_name": "Python 3 (ipykernel)",
   "language": "python",
   "name": "python3"
  },
  "language_info": {
   "codemirror_mode": {
    "name": "ipython",
    "version": 3
   },
   "file_extension": ".py",
   "mimetype": "text/x-python",
   "name": "python",
   "nbconvert_exporter": "python",
   "pygments_lexer": "ipython3",
   "version": "3.12.0"
  }
 },
 "nbformat": 4,
 "nbformat_minor": 5
}
