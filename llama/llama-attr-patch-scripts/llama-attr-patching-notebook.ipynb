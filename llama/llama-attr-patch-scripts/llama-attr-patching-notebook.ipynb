{
 "cells": [
  {
   "cell_type": "code",
   "execution_count": 6,
   "id": "51c3fff4-0db2-4de7-a053-f248357c053b",
   "metadata": {},
   "outputs": [],
   "source": [
    "from nnsight import LanguageModel\n",
    "import torch\n",
    "import pandas as pd\n",
    "from tqdm import tqdm\n",
    "import numpy as np\n",
    "import pickle\n",
    "import sys"
   ]
  },
  {
   "cell_type": "code",
   "execution_count": 8,
   "id": "6759f3bc-ceba-49f5-b1c0-432253776baa",
   "metadata": {},
   "outputs": [
    {
     "name": "stdout",
     "output_type": "stream",
     "text": [
      "Index(['Unnamed: 0', 'sentence', 'subordinate-sentence', 'passive-sentence',\n",
      "       'it', 'it-r-1-null_subject', 'it-r-2-passive', 'it-r-3-subordinate',\n",
      "       'it-u-1-negation', 'it-u-2-invert', 'it-u-3-gender', 'jp-r-1-sov',\n",
      "       'jp-r-2-passive', 'jp-r-3-subordinate', 'jp-u-1-negation',\n",
      "       'jp-u-2-invert', 'jp-u-3-past-tense', 'ng-sentence',\n",
      "       'ng-subordinate-sentence', 'ng-passive-sentence', 'ng-it',\n",
      "       'ng-it-r-1-null_subject', 'ng-it-r-2-passive', 'ng-it-r-3-subordinate',\n",
      "       'ng-it-u-1-negation', 'ng-it-u-2-invert', 'ng-it-u-3-gender',\n",
      "       'ng-jp-r-1-sov', 'ng-jp-r-2-passive', 'ng-jp-r-3-subordinate',\n",
      "       'ng-jp-u-1-negation', 'ng-jp-u-2-invert', 'ng-jp-u-3-past-tense'],\n",
      "      dtype='object')\n"
     ]
    }
   ],
   "source": [
    "og = pd.read_csv('/home/gridsan/arunas/broca/ngs.csv')\n",
    "print(og.columns)"
   ]
  },
  {
   "cell_type": "code",
   "execution_count": 9,
   "id": "f1029db2-886f-48b7-9f69-207607f7caf7",
   "metadata": {},
   "outputs": [
    {
     "data": {
      "application/vnd.jupyter.widget-view+json": {
       "model_id": "361cb89f9db04e2d88b95d90fb0b368e",
       "version_major": 2,
       "version_minor": 0
      },
      "text/plain": [
       "Loading checkpoint shards:   0%|          | 0/6 [00:00<?, ?it/s]"
      ]
     },
     "metadata": {},
     "output_type": "display_data"
    }
   ],
   "source": [
    "device='cuda:0'\n",
    "model = LanguageModel(\"/home/gridsan/arunas/models/mistralai/Mistral-7B-v0.1/\",  load_in_4bit=True, dispatch=True, device_map=device) # Load the model"
   ]
  },
  {
   "cell_type": "code",
   "execution_count": 12,
   "id": "a8d89221-9e96-42ce-9607-0da6171c4538",
   "metadata": {},
   "outputs": [],
   "source": [
    "def get_prompt_from_df(filename):\n",
    "    data = list(pd.read_csv(filename)['prompt'])\n",
    "    data = [sentence.strip() for sentence in data]\n",
    "    data = [sentence for sentence in data if not sentence == '']\n",
    "    data = [sentence.replace('</s>', '\\n') for sentence in data]\n",
    "    golds = [sentence.strip().split(\"\\n\")[-1].strip().split('A:')[-1].strip() for sentence in data]\n",
    "    data = [sentence[: -len(golds[idx])].strip() for idx, sentence in enumerate(data)]\n",
    "    return data, golds\n",
    "\n",
    "types = ['it', 'jp-r-2-passive', 'it-r-1-null_subject', 'jp-r-3-subordinate', 'it-r-2-passive', 'jp-u-1-negation', 'it-r-3-subordinate', 'jp-u-2-invert', 'it-u-1-negation', 'jp-u-3-past-tense', 'it-u-2-invert', 'passive-sentence', 'it-u-3-gender', 'sentence', 'jp-r-1-sov', 'subordinate-sentence']\n",
    "sType=types[int(sys.argv[1])]\n",
    "\n",
    "mlp_effects_cache = torch.zeros((model.config.num_hidden_layers, model.config.hidden_size)).to(\"cuda\")\n",
    "attn_effects_cache = torch.zeros((model.config.num_hidden_layers, model.config.hidden_size)).to(\"cuda\")"
   ]
  },
  {
   "cell_type": "code",
   "execution_count": 40,
   "id": "4e5b7c34-62f7-42d7-b0b2-1cb45c45e845",
   "metadata": {},
   "outputs": [],
   "source": [
    "sys.argv = []\n",
    "def attrPatching(fullPrompt, gold):\n",
    "    attn_layer_cache_prompt = {}\n",
    "    mlp_layer_cache_prompt = {}\n",
    "\n",
    "    attn_layer_cache_patch = {}\n",
    "    mlp_layer_cache_patch = {}\n",
    "    assert (gold == 'Yes' or gold == 'No')\n",
    "    if (gold == 'Yes'):\n",
    "        predictionExample = fullPrompt[fullPrompt[:-2].rfind(':')+1:-2].strip()\n",
    "        patch = og[og[sType] == predictionExample][f\"ng-{sType}\"].iloc[0]\n",
    "        patchPrompt = fullPrompt.replace(predictionExample, patch)\n",
    "    else:\n",
    "        patchPrompt = fullPrompt\n",
    "        patch = fullPrompt[fullPrompt[:-2].rfind(':')+1:-2].strip()\n",
    "        predictionExample = og[og[f\"ng-{sType}\"] == patch][sType].iloc[0]\n",
    "        fullPrompt = patchPrompt.replace(patch, predictionExample)\n",
    "        gold = \"Yes\"\n",
    "\n",
    "    notGold = \"No\"\n",
    "    gold = model.tokenizer(gold)[\"input_ids\"]\n",
    "    notGold = model.tokenizer(notGold)[\"input_ids\"]\n",
    "    with model.forward(inference=False) as runner:\n",
    "        with runner.invoke(fullPrompt) as invoker:\n",
    "            for layer in range(len(model.model.layers)):\n",
    "                self_attn = model.model.layers[layer].self_attn.o_proj.output\n",
    "                mlp = model.model.layers[layer].mlp.down_proj.output\n",
    "\n",
    "                attn_layer_cache_prompt[layer] = {\"forward\": self_attn.detach().save(), \"backward\": self_attn.grad.detach().save()}\n",
    "                mlp_layer_cache_prompt[layer] = {\"forward\": mlp.detach().save(), \"backward\": mlp.grad.detach().save()}\n",
    "\n",
    "            logits = model.lm_head.output[:, -1, notGold] - model.lm_head.output[:, -1, gold]\n",
    "            loss = logits.sum()\n",
    "            loss.backward(retain_graph=False)\n",
    "\n",
    "    with model.forward(inference=False) as runner:\n",
    "        with runner.invoke(patchPrompt) as invoker:\n",
    "            for layer in range(len(model.model.layers)):\n",
    "                self_attn = model.model.layers[layer].self_attn.o_proj.output\n",
    "                mlp = model.model.layers[layer].mlp.down_proj.output\n",
    "\n",
    "                attn_layer_cache_patch[layer] = {\"forward\": self_attn.detach().save()}\n",
    "                mlp_layer_cache_patch[layer] = {\"forward\": mlp.detach().save()}\n",
    "\n",
    "    for layer in range(len(model.model.layers)):\n",
    "        mlp_effects = mlp_layer_cache_prompt[layer][\"backward\"].value * (mlp_layer_cache_patch[layer][\"forward\"].value - mlp_layer_cache_prompt[layer][\"forward\"].value)\n",
    "        attn_effects = attn_layer_cache_prompt[layer][\"backward\"].value * (attn_layer_cache_patch[layer][\"forward\"].value - attn_layer_cache_prompt[layer][\"forward\"].value)\n",
    "\n",
    "        mlp_effects = mlp_effects[:, -1, :] # batch, token, hidden_states\n",
    "        attn_effects = attn_effects[:, -1, :] # batch, token, hidden_states\n",
    "\n",
    "        mlp_effects_cache[layer] += mlp_effects[0]\n",
    "        attn_effects_cache[layer] += attn_effects[0]\n",
    "\n",
    "prompts, golds = get_prompt_from_df(f'/home/gridsan/arunas/broca/llama/llama-prompt-outputs/llama-classification-train-test-det-{sType}-new.csv')\n"
   ]
  },
  {
   "cell_type": "code",
   "execution_count": 41,
   "id": "a1a29000-5318-4e7f-82ed-c91d963404e3",
   "metadata": {},
   "outputs": [
    {
     "name": "stderr",
     "output_type": "stream",
     "text": [
      "0it [00:00, ?it/s]"
     ]
    },
    {
     "name": "stdout",
     "output_type": "stream",
     "text": [
      "Q: Is this sentence grammatical? Yes or No: kon kon reads boy chapter\n",
      "A: No\n",
      "\n",
      "Q: Is this sentence grammatical? Yes or No: kon cat holds kon mouse\n",
      "A: Yes\n",
      "\n",
      "Q: Is this sentence grammatical? Yes or No: kons teachers hold kar bottle\n",
      "A: Yes\n",
      "\n",
      "Q: Is this sentence grammatical? Yes or No: kons teachers carry kar bottle\n",
      "A: Yes\n",
      "\n",
      "Q: Is this sentence grammatical? Yes or No: kon man eats kar pizza\n",
      "A: Yes\n",
      "\n",
      "Q: Is this sentence grammatical? Yes or No: kon carries cat kon mouse\n",
      "A: No\n",
      "\n",
      "Q: Is this sentence grammatical? Yes or No: carry teachers kons kon cap\n",
      "A: No\n",
      "\n",
      "Q: Is this sentence grammatical? Yes or No: kons cats bring kar bottle\n",
      "A: Yes\n",
      "\n",
      "Q: Is this sentence grammatical? Yes or No: cats kons climb kar tree\n",
      "A: No\n",
      "\n",
      "Q: Is this sentence grammatical? Yes or No: kons boys take kar box\n",
      "A:\n"
     ]
    },
    {
     "name": "stderr",
     "output_type": "stream",
     "text": [
      "1it [00:17, 17.59s/it]"
     ]
    },
    {
     "name": "stdout",
     "output_type": "stream",
     "text": [
      "Q: Is this sentence grammatical? Yes or No: kons boys take bulb kar\n",
      "A: No\n",
      "\n",
      "Q: Is this sentence grammatical? Yes or No: kon cat holds toy kon\n",
      "A: No\n",
      "\n",
      "Q: Is this sentence grammatical? Yes or No: cats kons hold kon fish\n",
      "A: No\n",
      "\n",
      "Q: Is this sentence grammatical? Yes or No: kons men eat kon fish\n",
      "A: Yes\n",
      "\n",
      "Q: Is this sentence grammatical? Yes or No: kons cats take kon mouse\n",
      "A: Yes\n",
      "\n",
      "Q: Is this sentence grammatical? Yes or No: kons teachers toy kon carry\n",
      "A: No\n",
      "\n",
      "Q: Is this sentence grammatical? Yes or No: kon poet reads kon chapter\n",
      "A: Yes\n",
      "\n",
      "Q: Is this sentence grammatical? Yes or No: man kon carries kar box\n",
      "A: No\n",
      "\n",
      "Q: Is this sentence grammatical? Yes or No: kars climb girls kar mountain\n",
      "A: No\n",
      "\n",
      "Q: Is this sentence grammatical? Yes or No: roof dogs climb kon kons\n",
      "A:\n"
     ]
    },
    {
     "name": "stderr",
     "output_type": "stream",
     "text": [
      "2it [00:35, 17.64s/it]"
     ]
    },
    {
     "name": "stdout",
     "output_type": "stream",
     "text": [
      "Q: Is this sentence grammatical? Yes or No: boys kons hold kar box\n",
      "A: No\n",
      "\n",
      "Q: Is this sentence grammatical? Yes or No: kons men bring kon fish\n",
      "A: Yes\n",
      "\n",
      "Q: Is this sentence grammatical? Yes or No: woman kar climbs kon roof\n",
      "A: No\n",
      "\n",
      "Q: Is this sentence grammatical? Yes or No: brings girl kar kar bulb\n",
      "A: No\n",
      "\n",
      "Q: Is this sentence grammatical? Yes or No: kons boys carry kar box\n",
      "A: Yes\n",
      "\n",
      "Q: Is this sentence grammatical? Yes or No: carry dogs kons kon mouse\n",
      "A: No\n",
      "\n",
      "Q: Is this sentence grammatical? Yes or No: kars kar eat girls pear\n",
      "A: No\n",
      "\n",
      "Q: Is this sentence grammatical? Yes or No: kar girl holds kar bulb\n",
      "A: Yes\n",
      "\n",
      "Q: Is this sentence grammatical? Yes or No: kon teacher brings kar box\n",
      "A: Yes\n",
      "\n",
      "Q: Is this sentence grammatical? Yes or No: kars women hold kon newspaper\n",
      "A:\n"
     ]
    },
    {
     "name": "stderr",
     "output_type": "stream",
     "text": [
      "3it [00:52, 17.62s/it]"
     ]
    },
    {
     "name": "stdout",
     "output_type": "stream",
     "text": [
      "Q: Is this sentence grammatical? Yes or No: kon cat eats kon meal\n",
      "A: Yes\n",
      "\n",
      "Q: Is this sentence grammatical? Yes or No: kars women bring toy kon\n",
      "A: No\n",
      "\n",
      "Q: Is this sentence grammatical? Yes or No: kar girl reads kon chapter\n",
      "A: Yes\n",
      "\n",
      "Q: Is this sentence grammatical? Yes or No: kons dogs kon hold toy\n",
      "A: No\n",
      "\n",
      "Q: Is this sentence grammatical? Yes or No: takes man kon kar bottle\n",
      "A: No\n",
      "\n",
      "Q: Is this sentence grammatical? Yes or No: kars women climb mountain kar\n",
      "A: No\n",
      "\n",
      "Q: Is this sentence grammatical? Yes or No: kons take teachers kon cap\n",
      "A: No\n",
      "\n",
      "Q: Is this sentence grammatical? Yes or No: girl kar brings kar bottle\n",
      "A: No\n",
      "\n",
      "Q: Is this sentence grammatical? Yes or No: kons men bottle kar bring\n",
      "A: No\n",
      "\n",
      "Q: Is this sentence grammatical? Yes or No: kar girl brings kar cup\n",
      "A:\n"
     ]
    },
    {
     "name": "stderr",
     "output_type": "stream",
     "text": [
      "3it [00:56, 18.80s/it]\n"
     ]
    },
    {
     "ename": "KeyboardInterrupt",
     "evalue": "",
     "output_type": "error",
     "traceback": [
      "\u001b[0;31m---------------------------------------------------------------------------\u001b[0m",
      "\u001b[0;31mKeyboardInterrupt\u001b[0m                         Traceback (most recent call last)",
      "Cell \u001b[0;32mIn[41], line 4\u001b[0m\n\u001b[1;32m      2\u001b[0m \u001b[38;5;28;01mfor\u001b[39;00m prompt,gold \u001b[38;5;129;01min\u001b[39;00m tqdm(\u001b[38;5;28mzip\u001b[39m(prompts, golds)):\n\u001b[1;32m      3\u001b[0m     count \u001b[38;5;241m+\u001b[39m\u001b[38;5;241m=\u001b[39m \u001b[38;5;241m1\u001b[39m\n\u001b[0;32m----> 4\u001b[0m     \u001b[43mattrPatching\u001b[49m\u001b[43m(\u001b[49m\u001b[43mprompt\u001b[49m\u001b[43m,\u001b[49m\u001b[43m \u001b[49m\u001b[43mgold\u001b[49m\u001b[43m)\u001b[49m\n",
      "Cell \u001b[0;32mIn[40], line 24\u001b[0m, in \u001b[0;36mattrPatching\u001b[0;34m(fullPrompt, gold)\u001b[0m\n\u001b[1;32m     22\u001b[0m gold \u001b[38;5;241m=\u001b[39m model\u001b[38;5;241m.\u001b[39mtokenizer(gold)[\u001b[38;5;124m\"\u001b[39m\u001b[38;5;124minput_ids\u001b[39m\u001b[38;5;124m\"\u001b[39m]\n\u001b[1;32m     23\u001b[0m notGold \u001b[38;5;241m=\u001b[39m model\u001b[38;5;241m.\u001b[39mtokenizer(notGold)[\u001b[38;5;124m\"\u001b[39m\u001b[38;5;124minput_ids\u001b[39m\u001b[38;5;124m\"\u001b[39m]\n\u001b[0;32m---> 24\u001b[0m \u001b[38;5;28;01mwith\u001b[39;00m model\u001b[38;5;241m.\u001b[39mforward(inference\u001b[38;5;241m=\u001b[39m\u001b[38;5;28;01mFalse\u001b[39;00m) \u001b[38;5;28;01mas\u001b[39;00m runner:\n\u001b[1;32m     25\u001b[0m     \u001b[38;5;28;01mwith\u001b[39;00m runner\u001b[38;5;241m.\u001b[39minvoke(fullPrompt) \u001b[38;5;28;01mas\u001b[39;00m invoker:\n\u001b[1;32m     26\u001b[0m         \u001b[38;5;28;01mfor\u001b[39;00m layer \u001b[38;5;129;01min\u001b[39;00m \u001b[38;5;28mrange\u001b[39m(\u001b[38;5;28mlen\u001b[39m(model\u001b[38;5;241m.\u001b[39mmodel\u001b[38;5;241m.\u001b[39mlayers)):\n",
      "File \u001b[0;32m~/.local/lib/python3.10/site-packages/nnsight/contexts/Runner.py:69\u001b[0m, in \u001b[0;36mRunner.__exit__\u001b[0;34m(self, exc_type, exc_val, exc_tb)\u001b[0m\n\u001b[1;32m     67\u001b[0m \u001b[38;5;250m\u001b[39m\u001b[38;5;124;03m\"\"\"On exit, run and generate using the model whether locally or on the server.\"\"\"\u001b[39;00m\n\u001b[1;32m     68\u001b[0m \u001b[38;5;28;01mif\u001b[39;00m \u001b[38;5;28misinstance\u001b[39m(exc_val, \u001b[38;5;167;01mBaseException\u001b[39;00m):\n\u001b[0;32m---> 69\u001b[0m     \u001b[38;5;28;01mraise\u001b[39;00m exc_val\n\u001b[1;32m     70\u001b[0m \u001b[38;5;28;01mif\u001b[39;00m \u001b[38;5;28mself\u001b[39m\u001b[38;5;241m.\u001b[39mremote:\n\u001b[1;32m     71\u001b[0m     \u001b[38;5;28mself\u001b[39m\u001b[38;5;241m.\u001b[39mrun_server()\n",
      "Cell \u001b[0;32mIn[40], line 25\u001b[0m, in \u001b[0;36mattrPatching\u001b[0;34m(fullPrompt, gold)\u001b[0m\n\u001b[1;32m     23\u001b[0m notGold \u001b[38;5;241m=\u001b[39m model\u001b[38;5;241m.\u001b[39mtokenizer(notGold)[\u001b[38;5;124m\"\u001b[39m\u001b[38;5;124minput_ids\u001b[39m\u001b[38;5;124m\"\u001b[39m]\n\u001b[1;32m     24\u001b[0m \u001b[38;5;28;01mwith\u001b[39;00m model\u001b[38;5;241m.\u001b[39mforward(inference\u001b[38;5;241m=\u001b[39m\u001b[38;5;28;01mFalse\u001b[39;00m) \u001b[38;5;28;01mas\u001b[39;00m runner:\n\u001b[0;32m---> 25\u001b[0m     \u001b[38;5;28;01mwith\u001b[39;00m runner\u001b[38;5;241m.\u001b[39minvoke(fullPrompt) \u001b[38;5;28;01mas\u001b[39;00m invoker:\n\u001b[1;32m     26\u001b[0m         \u001b[38;5;28;01mfor\u001b[39;00m layer \u001b[38;5;129;01min\u001b[39;00m \u001b[38;5;28mrange\u001b[39m(\u001b[38;5;28mlen\u001b[39m(model\u001b[38;5;241m.\u001b[39mmodel\u001b[38;5;241m.\u001b[39mlayers)):\n\u001b[1;32m     27\u001b[0m             self_attn \u001b[38;5;241m=\u001b[39m model\u001b[38;5;241m.\u001b[39mmodel\u001b[38;5;241m.\u001b[39mlayers[layer]\u001b[38;5;241m.\u001b[39mself_attn\u001b[38;5;241m.\u001b[39mo_proj\u001b[38;5;241m.\u001b[39moutput\n",
      "File \u001b[0;32m~/.local/lib/python3.10/site-packages/nnsight/contexts/Invoker.py:79\u001b[0m, in \u001b[0;36mInvoker.__exit__\u001b[0;34m(self, exc_type, exc_val, exc_tb)\u001b[0m\n\u001b[1;32m     77\u001b[0m \u001b[38;5;28;01mdef\u001b[39;00m \u001b[38;5;21m__exit__\u001b[39m(\u001b[38;5;28mself\u001b[39m, exc_type, exc_val, exc_tb) \u001b[38;5;241m-\u001b[39m\u001b[38;5;241m>\u001b[39m \u001b[38;5;28;01mNone\u001b[39;00m:\n\u001b[1;32m     78\u001b[0m     \u001b[38;5;28;01mif\u001b[39;00m \u001b[38;5;28misinstance\u001b[39m(exc_val, \u001b[38;5;167;01mBaseException\u001b[39;00m):\n\u001b[0;32m---> 79\u001b[0m         \u001b[38;5;28;01mraise\u001b[39;00m exc_val\n",
      "Cell \u001b[0;32mIn[40], line 30\u001b[0m, in \u001b[0;36mattrPatching\u001b[0;34m(fullPrompt, gold)\u001b[0m\n\u001b[1;32m     27\u001b[0m     self_attn \u001b[38;5;241m=\u001b[39m model\u001b[38;5;241m.\u001b[39mmodel\u001b[38;5;241m.\u001b[39mlayers[layer]\u001b[38;5;241m.\u001b[39mself_attn\u001b[38;5;241m.\u001b[39mo_proj\u001b[38;5;241m.\u001b[39moutput\n\u001b[1;32m     28\u001b[0m     mlp \u001b[38;5;241m=\u001b[39m model\u001b[38;5;241m.\u001b[39mmodel\u001b[38;5;241m.\u001b[39mlayers[layer]\u001b[38;5;241m.\u001b[39mmlp\u001b[38;5;241m.\u001b[39mdown_proj\u001b[38;5;241m.\u001b[39moutput\n\u001b[0;32m---> 30\u001b[0m     attn_layer_cache_prompt[layer] \u001b[38;5;241m=\u001b[39m {\u001b[38;5;124m\"\u001b[39m\u001b[38;5;124mforward\u001b[39m\u001b[38;5;124m\"\u001b[39m: self_attn\u001b[38;5;241m.\u001b[39mdetach()\u001b[38;5;241m.\u001b[39msave(), \u001b[38;5;124m\"\u001b[39m\u001b[38;5;124mbackward\u001b[39m\u001b[38;5;124m\"\u001b[39m: \u001b[43mself_attn\u001b[49m\u001b[38;5;241;43m.\u001b[39;49m\u001b[43mgrad\u001b[49m\u001b[38;5;241m.\u001b[39mdetach()\u001b[38;5;241m.\u001b[39msave()}\n\u001b[1;32m     31\u001b[0m     mlp_layer_cache_prompt[layer] \u001b[38;5;241m=\u001b[39m {\u001b[38;5;124m\"\u001b[39m\u001b[38;5;124mforward\u001b[39m\u001b[38;5;124m\"\u001b[39m: mlp\u001b[38;5;241m.\u001b[39mdetach()\u001b[38;5;241m.\u001b[39msave(), \u001b[38;5;124m\"\u001b[39m\u001b[38;5;124mbackward\u001b[39m\u001b[38;5;124m\"\u001b[39m: mlp\u001b[38;5;241m.\u001b[39mgrad\u001b[38;5;241m.\u001b[39mdetach()\u001b[38;5;241m.\u001b[39msave()}\n\u001b[1;32m     33\u001b[0m logits \u001b[38;5;241m=\u001b[39m model\u001b[38;5;241m.\u001b[39mlm_head\u001b[38;5;241m.\u001b[39moutput[:, \u001b[38;5;241m-\u001b[39m\u001b[38;5;241m1\u001b[39m, notGold] \u001b[38;5;241m-\u001b[39m model\u001b[38;5;241m.\u001b[39mlm_head\u001b[38;5;241m.\u001b[39moutput[:, \u001b[38;5;241m-\u001b[39m\u001b[38;5;241m1\u001b[39m, gold]\n",
      "File \u001b[0;32m~/.local/lib/python3.10/site-packages/nnsight/intervention.py:95\u001b[0m, in \u001b[0;36mInterventionProxy.grad\u001b[0;34m(self)\u001b[0m\n\u001b[1;32m     87\u001b[0m \u001b[38;5;250m\u001b[39m\u001b[38;5;124;03m\"\"\"\u001b[39;00m\n\u001b[1;32m     88\u001b[0m \u001b[38;5;124;03mCalling denotes the user wishes to get the grad of proxy tensor and therefore we create a Proxy of that request.\u001b[39;00m\n\u001b[1;32m     89\u001b[0m \u001b[38;5;124;03mOnly generates a proxy the first time it is references otherwise return the already set one.\u001b[39;00m\n\u001b[0;32m   (...)\u001b[0m\n\u001b[1;32m     92\u001b[0m \u001b[38;5;124;03m    Proxy: Grad proxy.\u001b[39;00m\n\u001b[1;32m     93\u001b[0m \u001b[38;5;124;03m\"\"\"\u001b[39;00m\n\u001b[1;32m     94\u001b[0m \u001b[38;5;28;01mif\u001b[39;00m \u001b[38;5;28mself\u001b[39m\u001b[38;5;241m.\u001b[39m_grad \u001b[38;5;129;01mis\u001b[39;00m \u001b[38;5;28;01mNone\u001b[39;00m:\n\u001b[0;32m---> 95\u001b[0m     \u001b[38;5;28mself\u001b[39m\u001b[38;5;241m.\u001b[39m_grad \u001b[38;5;241m=\u001b[39m \u001b[38;5;28;43mself\u001b[39;49m\u001b[38;5;241;43m.\u001b[39;49m\u001b[43mnode\u001b[49m\u001b[38;5;241;43m.\u001b[39;49m\u001b[43mgraph\u001b[49m\u001b[38;5;241;43m.\u001b[39;49m\u001b[43madd\u001b[49m\u001b[43m(\u001b[49m\n\u001b[1;32m     96\u001b[0m \u001b[43m        \u001b[49m\u001b[43mvalue\u001b[49m\u001b[38;5;241;43m=\u001b[39;49m\u001b[38;5;28;43mself\u001b[39;49m\u001b[38;5;241;43m.\u001b[39;49m\u001b[43mnode\u001b[49m\u001b[38;5;241;43m.\u001b[39;49m\u001b[43mproxy_value\u001b[49m\u001b[43m,\u001b[49m\u001b[43m \u001b[49m\u001b[43mtarget\u001b[49m\u001b[38;5;241;43m=\u001b[39;49m\u001b[38;5;124;43m\"\u001b[39;49m\u001b[38;5;124;43mgrad\u001b[39;49m\u001b[38;5;124;43m\"\u001b[39;49m\u001b[43m,\u001b[49m\u001b[43m \u001b[49m\u001b[43margs\u001b[49m\u001b[38;5;241;43m=\u001b[39;49m\u001b[43m[\u001b[49m\u001b[38;5;28;43mself\u001b[39;49m\u001b[38;5;241;43m.\u001b[39;49m\u001b[43mnode\u001b[49m\u001b[43m]\u001b[49m\n\u001b[1;32m     97\u001b[0m \u001b[43m    \u001b[49m\u001b[43m)\u001b[49m\n\u001b[1;32m     99\u001b[0m \u001b[38;5;28;01mreturn\u001b[39;00m \u001b[38;5;28mself\u001b[39m\u001b[38;5;241m.\u001b[39m_grad\n",
      "File \u001b[0;32m~/.local/lib/python3.10/site-packages/nnsight/tracing/Graph.py:235\u001b[0m, in \u001b[0;36mGraph.add\u001b[0;34m(self, target, value, args, kwargs, name)\u001b[0m\n\u001b[1;32m    231\u001b[0m     name \u001b[38;5;241m=\u001b[39m \u001b[38;5;124mf\u001b[39m\u001b[38;5;124m\"\u001b[39m\u001b[38;5;132;01m{\u001b[39;00mtarget_name\u001b[38;5;132;01m}\u001b[39;00m\u001b[38;5;124m_\u001b[39m\u001b[38;5;132;01m{\u001b[39;00m\u001b[38;5;28mself\u001b[39m\u001b[38;5;241m.\u001b[39mname_idx[target_name]\u001b[38;5;132;01m}\u001b[39;00m\u001b[38;5;124m\"\u001b[39m\n\u001b[1;32m    233\u001b[0m \u001b[38;5;28mself\u001b[39m\u001b[38;5;241m.\u001b[39mname_idx[target_name] \u001b[38;5;241m+\u001b[39m\u001b[38;5;241m=\u001b[39m \u001b[38;5;241m1\u001b[39m\n\u001b[0;32m--> 235\u001b[0m stack \u001b[38;5;241m=\u001b[39m \u001b[43minspect\u001b[49m\u001b[38;5;241;43m.\u001b[39;49m\u001b[43mstack\u001b[49m\u001b[43m(\u001b[49m\u001b[43m)\u001b[49m\n\u001b[1;32m    236\u001b[0m proxy_frame \u001b[38;5;241m=\u001b[39m stack[\u001b[38;5;241m2\u001b[39m]\n\u001b[1;32m    238\u001b[0m node \u001b[38;5;241m=\u001b[39m Node(\n\u001b[1;32m    239\u001b[0m     name\u001b[38;5;241m=\u001b[39mname,\n\u001b[1;32m    240\u001b[0m     graph\u001b[38;5;241m=\u001b[39m\u001b[38;5;28mself\u001b[39m,\n\u001b[0;32m   (...)\u001b[0m\n\u001b[1;32m    245\u001b[0m     meta\u001b[38;5;241m=\u001b[39m{\u001b[38;5;124m\"\u001b[39m\u001b[38;5;124mline\u001b[39m\u001b[38;5;124m\"\u001b[39m: proxy_frame\u001b[38;5;241m.\u001b[39mlineno, \u001b[38;5;124m\"\u001b[39m\u001b[38;5;124mfile\u001b[39m\u001b[38;5;124m\"\u001b[39m: proxy_frame\u001b[38;5;241m.\u001b[39mfilename},\n\u001b[1;32m    246\u001b[0m )\n",
      "File \u001b[0;32m/state/partition1/llgrid/pkg/anaconda/python-LLM-2023b/lib/python3.10/inspect.py:1673\u001b[0m, in \u001b[0;36mstack\u001b[0;34m(context)\u001b[0m\n\u001b[1;32m   1671\u001b[0m \u001b[38;5;28;01mdef\u001b[39;00m \u001b[38;5;21mstack\u001b[39m(context\u001b[38;5;241m=\u001b[39m\u001b[38;5;241m1\u001b[39m):\n\u001b[1;32m   1672\u001b[0m \u001b[38;5;250m    \u001b[39m\u001b[38;5;124;03m\"\"\"Return a list of records for the stack above the caller's frame.\"\"\"\u001b[39;00m\n\u001b[0;32m-> 1673\u001b[0m     \u001b[38;5;28;01mreturn\u001b[39;00m \u001b[43mgetouterframes\u001b[49m\u001b[43m(\u001b[49m\u001b[43msys\u001b[49m\u001b[38;5;241;43m.\u001b[39;49m\u001b[43m_getframe\u001b[49m\u001b[43m(\u001b[49m\u001b[38;5;241;43m1\u001b[39;49m\u001b[43m)\u001b[49m\u001b[43m,\u001b[49m\u001b[43m \u001b[49m\u001b[43mcontext\u001b[49m\u001b[43m)\u001b[49m\n",
      "File \u001b[0;32m/state/partition1/llgrid/pkg/anaconda/python-LLM-2023b/lib/python3.10/inspect.py:1650\u001b[0m, in \u001b[0;36mgetouterframes\u001b[0;34m(frame, context)\u001b[0m\n\u001b[1;32m   1648\u001b[0m framelist \u001b[38;5;241m=\u001b[39m []\n\u001b[1;32m   1649\u001b[0m \u001b[38;5;28;01mwhile\u001b[39;00m frame:\n\u001b[0;32m-> 1650\u001b[0m     frameinfo \u001b[38;5;241m=\u001b[39m (frame,) \u001b[38;5;241m+\u001b[39m \u001b[43mgetframeinfo\u001b[49m\u001b[43m(\u001b[49m\u001b[43mframe\u001b[49m\u001b[43m,\u001b[49m\u001b[43m \u001b[49m\u001b[43mcontext\u001b[49m\u001b[43m)\u001b[49m\n\u001b[1;32m   1651\u001b[0m     framelist\u001b[38;5;241m.\u001b[39mappend(FrameInfo(\u001b[38;5;241m*\u001b[39mframeinfo))\n\u001b[1;32m   1652\u001b[0m     frame \u001b[38;5;241m=\u001b[39m frame\u001b[38;5;241m.\u001b[39mf_back\n",
      "File \u001b[0;32m/state/partition1/llgrid/pkg/anaconda/python-LLM-2023b/lib/python3.10/inspect.py:1620\u001b[0m, in \u001b[0;36mgetframeinfo\u001b[0;34m(frame, context)\u001b[0m\n\u001b[1;32m   1617\u001b[0m \u001b[38;5;28;01mif\u001b[39;00m \u001b[38;5;129;01mnot\u001b[39;00m isframe(frame):\n\u001b[1;32m   1618\u001b[0m     \u001b[38;5;28;01mraise\u001b[39;00m \u001b[38;5;167;01mTypeError\u001b[39;00m(\u001b[38;5;124m'\u001b[39m\u001b[38;5;132;01m{!r}\u001b[39;00m\u001b[38;5;124m is not a frame or traceback object\u001b[39m\u001b[38;5;124m'\u001b[39m\u001b[38;5;241m.\u001b[39mformat(frame))\n\u001b[0;32m-> 1620\u001b[0m filename \u001b[38;5;241m=\u001b[39m \u001b[43mgetsourcefile\u001b[49m\u001b[43m(\u001b[49m\u001b[43mframe\u001b[49m\u001b[43m)\u001b[49m \u001b[38;5;129;01mor\u001b[39;00m getfile(frame)\n\u001b[1;32m   1621\u001b[0m \u001b[38;5;28;01mif\u001b[39;00m context \u001b[38;5;241m>\u001b[39m \u001b[38;5;241m0\u001b[39m:\n\u001b[1;32m   1622\u001b[0m     start \u001b[38;5;241m=\u001b[39m lineno \u001b[38;5;241m-\u001b[39m \u001b[38;5;241m1\u001b[39m \u001b[38;5;241m-\u001b[39m context\u001b[38;5;241m/\u001b[39m\u001b[38;5;241m/\u001b[39m\u001b[38;5;241m2\u001b[39m\n",
      "File \u001b[0;32m/state/partition1/llgrid/pkg/anaconda/python-LLM-2023b/lib/python3.10/inspect.py:829\u001b[0m, in \u001b[0;36mgetsourcefile\u001b[0;34m(object)\u001b[0m\n\u001b[1;32m    827\u001b[0m     \u001b[38;5;28;01mreturn\u001b[39;00m filename\n\u001b[1;32m    828\u001b[0m \u001b[38;5;66;03m# only return a non-existent filename if the module has a PEP 302 loader\u001b[39;00m\n\u001b[0;32m--> 829\u001b[0m module \u001b[38;5;241m=\u001b[39m \u001b[43mgetmodule\u001b[49m\u001b[43m(\u001b[49m\u001b[38;5;28;43mobject\u001b[39;49m\u001b[43m,\u001b[49m\u001b[43m \u001b[49m\u001b[43mfilename\u001b[49m\u001b[43m)\u001b[49m\n\u001b[1;32m    830\u001b[0m \u001b[38;5;28;01mif\u001b[39;00m \u001b[38;5;28mgetattr\u001b[39m(module, \u001b[38;5;124m'\u001b[39m\u001b[38;5;124m__loader__\u001b[39m\u001b[38;5;124m'\u001b[39m, \u001b[38;5;28;01mNone\u001b[39;00m) \u001b[38;5;129;01mis\u001b[39;00m \u001b[38;5;129;01mnot\u001b[39;00m \u001b[38;5;28;01mNone\u001b[39;00m:\n\u001b[1;32m    831\u001b[0m     \u001b[38;5;28;01mreturn\u001b[39;00m filename\n",
      "File \u001b[0;32m/state/partition1/llgrid/pkg/anaconda/python-LLM-2023b/lib/python3.10/inspect.py:869\u001b[0m, in \u001b[0;36mgetmodule\u001b[0;34m(object, _filename)\u001b[0m\n\u001b[1;32m    866\u001b[0m \u001b[38;5;66;03m# Update the filename to module name cache and check yet again\u001b[39;00m\n\u001b[1;32m    867\u001b[0m \u001b[38;5;66;03m# Copy sys.modules in order to cope with changes while iterating\u001b[39;00m\n\u001b[1;32m    868\u001b[0m \u001b[38;5;28;01mfor\u001b[39;00m modname, module \u001b[38;5;129;01min\u001b[39;00m sys\u001b[38;5;241m.\u001b[39mmodules\u001b[38;5;241m.\u001b[39mcopy()\u001b[38;5;241m.\u001b[39mitems():\n\u001b[0;32m--> 869\u001b[0m     \u001b[38;5;28;01mif\u001b[39;00m \u001b[43mismodule\u001b[49m\u001b[43m(\u001b[49m\u001b[43mmodule\u001b[49m\u001b[43m)\u001b[49m \u001b[38;5;129;01mand\u001b[39;00m \u001b[38;5;28mhasattr\u001b[39m(module, \u001b[38;5;124m'\u001b[39m\u001b[38;5;124m__file__\u001b[39m\u001b[38;5;124m'\u001b[39m):\n\u001b[1;32m    870\u001b[0m         f \u001b[38;5;241m=\u001b[39m module\u001b[38;5;241m.\u001b[39m\u001b[38;5;18m__file__\u001b[39m\n\u001b[1;32m    871\u001b[0m         \u001b[38;5;28;01mif\u001b[39;00m f \u001b[38;5;241m==\u001b[39m _filesbymodname\u001b[38;5;241m.\u001b[39mget(modname, \u001b[38;5;28;01mNone\u001b[39;00m):\n\u001b[1;32m    872\u001b[0m             \u001b[38;5;66;03m# Have already mapped this module, so skip it\u001b[39;00m\n",
      "File \u001b[0;32m/state/partition1/llgrid/pkg/anaconda/python-LLM-2023b/lib/python3.10/inspect.py:182\u001b[0m, in \u001b[0;36mismodule\u001b[0;34m(object)\u001b[0m\n\u001b[1;32m    178\u001b[0m     \u001b[38;5;28;01mreturn\u001b[39;00m return_value\n\u001b[1;32m    181\u001b[0m \u001b[38;5;66;03m# ----------------------------------------------------------- type-checking\u001b[39;00m\n\u001b[0;32m--> 182\u001b[0m \u001b[38;5;28;01mdef\u001b[39;00m \u001b[38;5;21mismodule\u001b[39m(\u001b[38;5;28mobject\u001b[39m):\n\u001b[1;32m    183\u001b[0m \u001b[38;5;250m    \u001b[39m\u001b[38;5;124;03m\"\"\"Return true if the object is a module.\u001b[39;00m\n\u001b[1;32m    184\u001b[0m \n\u001b[1;32m    185\u001b[0m \u001b[38;5;124;03m    Module objects provide these attributes:\u001b[39;00m\n\u001b[1;32m    186\u001b[0m \u001b[38;5;124;03m        __cached__      pathname to byte compiled file\u001b[39;00m\n\u001b[1;32m    187\u001b[0m \u001b[38;5;124;03m        __doc__         documentation string\u001b[39;00m\n\u001b[1;32m    188\u001b[0m \u001b[38;5;124;03m        __file__        filename (missing for built-in modules)\"\"\"\u001b[39;00m\n\u001b[1;32m    189\u001b[0m     \u001b[38;5;28;01mreturn\u001b[39;00m \u001b[38;5;28misinstance\u001b[39m(\u001b[38;5;28mobject\u001b[39m, types\u001b[38;5;241m.\u001b[39mModuleType)\n",
      "\u001b[0;31mKeyboardInterrupt\u001b[0m: "
     ]
    }
   ],
   "source": [
    "count  = 0\n",
    "for prompt,gold in tqdm(zip(prompts, golds)):\n",
    "    count += 1\n",
    "    attrPatching(prompt, gold)"
   ]
  },
  {
   "cell_type": "code",
   "execution_count": null,
   "id": "53eb8fe1-b776-4410-bec9-fdb65918b25f",
   "metadata": {},
   "outputs": [],
   "source": [
    "mlp_effects_cache /= len(prompts)\n",
    "attn_effects_cache /= len(prompts)\n",
    "\n",
    "mlp_effects_cache = torch.nan_to_num(mlp_effects_cache)\n",
    "attn_effects_cache = torch.nan_to_num(attn_effects_cache)\n",
    "\n",
    "flattened_effects_cache = mlp_effects_cache.view(-1)\n",
    "top_neurons = flattened_effects_cache.topk(k=40)\n",
    "two_d_indices = torch.cat((((top_neurons[1] // mlp_effects_cache.shape[1]).unsqueeze(1)), ((top_neurons[1] % mlp_effects_cache.shape[1]).unsqueeze(1))), dim=1)\n",
    "\n",
    "with open(f'/home/gridsan/arunas/broca/llama/llama-attr-patch-scripts/mlp/{sType}.pkl', 'wb') as f:\n",
    "    pickle.dump(two_d_indices, f)\n",
    "\n",
    "flattened_effects_cache = attn_effects_cache.view(-1)\n",
    "top_neurons = flattened_effects_cache.topk(k=40)\n",
    "two_d_indices = torch.cat((((top_neurons[1] // attn_effects_cache.shape[1]).unsqueeze(1)), ((top_neurons[1] % attn_effects_cache.shape[1]).unsqueeze(1))), dim=1)\n",
    "\n",
    "with open(f'/home/gridsan/arunas/broca/llama/llama-attr-patch-scripts/attn/{sType}.pkl', 'wb') as f:\n",
    "    pickle.dump(two_d_indices, f)"
   ]
  }
 ],
 "metadata": {
  "kernelspec": {
   "display_name": "Python 3 (ipykernel)",
   "language": "python",
   "name": "python3"
  },
  "language_info": {
   "codemirror_mode": {
    "name": "ipython",
    "version": 3
   },
   "file_extension": ".py",
   "mimetype": "text/x-python",
   "name": "python",
   "nbconvert_exporter": "python",
   "pygments_lexer": "ipython3",
   "version": "3.10.12"
  }
 },
 "nbformat": 4,
 "nbformat_minor": 5
}
