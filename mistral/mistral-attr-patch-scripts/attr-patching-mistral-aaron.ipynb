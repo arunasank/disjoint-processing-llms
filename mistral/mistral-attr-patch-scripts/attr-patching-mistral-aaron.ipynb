{
 "cells": [
  {
   "cell_type": "markdown",
   "id": "a900da82-e783-4757-b886-8c82bcb90924",
   "metadata": {},
   "source": [
    "## Mistral Attribution Patching"
   ]
  },
  {
   "cell_type": "code",
   "execution_count": 1,
   "id": "47a6e939-c1ca-44b6-a6a3-d3a0a35c77ca",
   "metadata": {},
   "outputs": [],
   "source": [
    "from nnsight import LanguageModel\n",
    "import torch\n",
    "import pandas as pd\n",
    "from tqdm import tqdm\n",
    "import numpy as np\n",
    "import pickle\n",
    "import sys\n",
    "from accelerate import infer_auto_device_map\n",
    "import matplotlib.pyplot as plt"
   ]
  },
  {
   "cell_type": "code",
   "execution_count": 2,
   "id": "e608719b-53be-4dc8-b76e-d6a85812b7d7",
   "metadata": {},
   "outputs": [
    {
     "data": {
      "application/vnd.jupyter.widget-view+json": {
       "model_id": "c4ea41d3b17646409505962c773bfcec",
       "version_major": 2,
       "version_minor": 0
      },
      "text/plain": [
       "Loading checkpoint shards:   0%|          | 0/6 [00:00<?, ?it/s]"
      ]
     },
     "metadata": {},
     "output_type": "display_data"
    }
   ],
   "source": [
    "model = LanguageModel(\"/home/gridsan/arunas/models/mistralai/Mistral-7B-v0.1/\",  load_in_8bit=True, dispatch=True, device_map='auto') # Load the model"
   ]
  },
  {
   "cell_type": "code",
   "execution_count": 3,
   "id": "5cd983e9-557f-4589-830a-cc15d5b738b5",
   "metadata": {},
   "outputs": [
    {
     "data": {
      "text/plain": [
       "Index(['ita', 'ita-r-1-null_subject', 'ita-r-2-subordinate', 'ita-r-3-passive',\n",
       "       'ita-u-1-negation', 'ita-u-2-invert', 'ita-u-3-gender', 'en',\n",
       "       'en-r-1-subordinate', 'en-r-2-passive', 'en-u-1-negation',\n",
       "       'en-u-2-inversion', 'en-u-3-qsubordinate', 'en-u-4-wh', 'it',\n",
       "       'it-r-1-null_subject', 'it-r-2-passive', 'it-r-3-subordinate',\n",
       "       'it-u-1-negation', 'it-u-2-invert', 'it-u-3-gender', 'jp-r-1-sov',\n",
       "       'jap-r-1-sov', 'jp-r-2-passive', 'jap-r-2-passive',\n",
       "       'jp-r-3-subordinate', 'jp-u-1-negation', 'jap-u-1-negation',\n",
       "       'jp-u-2-invert', 'jap-u-2-invert', 'jp-u-3-past-tense', 'ng-ita',\n",
       "       'ng-ita-r-1-null_subject', 'ng-ita-r-2-subordinate',\n",
       "       'ng-ita-r-3-passive', 'ng-ita-u-1-negation', 'ng-ita-u-2-invert',\n",
       "       'ng-ita-u-3-gender', 'ng-en', 'ng-en-r-1-subordinate',\n",
       "       'ng-en-r-2-passive', 'ng-en-u-1-negation', 'ng-en-u-2-inversion',\n",
       "       'ng-en-u-3-qsubordinate', 'ng-en-u-4-wh', 'ng-it',\n",
       "       'ng-it-r-1-null_subject', 'ng-it-r-2-passive', 'ng-it-r-3-subordinate',\n",
       "       'ng-it-u-1-negation', 'ng-it-u-2-invert', 'ng-it-u-3-gender',\n",
       "       'ng-jp-r-1-sov', 'ng-jap-r-1-sov', 'ng-jp-r-2-passive',\n",
       "       'ng-jap-r-2-passive', 'ng-jp-r-3-subordinate', 'ng-jp-u-1-negation',\n",
       "       'ng-jap-u-1-negation', 'ng-jp-u-2-invert', 'ng-jap-u-2-invert',\n",
       "       'ng-jp-u-3-past-tense'],\n",
       "      dtype='object')"
      ]
     },
     "execution_count": 3,
     "metadata": {},
     "output_type": "execute_result"
    }
   ],
   "source": [
    "og = pd.read_csv('/home/gridsan/arunas/broca/data-gen/ngs.csv')\n",
    "og.columns"
   ]
  },
  {
   "cell_type": "code",
   "execution_count": 4,
   "id": "837b3d1c-abdc-4fa6-8056-b6f674cb2d02",
   "metadata": {},
   "outputs": [],
   "source": [
    "def get_prompt_from_df(filename):\n",
    "    data = list(pd.read_csv(filename)['prompt'])\n",
    "    data = [sentence.strip() for sentence in data]\n",
    "    data = [sentence for sentence in data if not sentence == '']\n",
    "    data = [sentence.replace('</s>', '\\n') for sentence in data]\n",
    "    golds = [sentence.strip().split(\"\\n\")[-1].strip().split('A:')[-1].strip() for sentence in data]\n",
    "    data = [sentence[: -len(golds[idx])].strip() for idx, sentence in enumerate(data)]\n",
    "    return data, golds"
   ]
  },
  {
   "cell_type": "code",
   "execution_count": 5,
   "id": "14aeca53-a1db-4a37-802b-8a370db40233",
   "metadata": {},
   "outputs": [],
   "source": [
    "# sType=sys.argv[1]\n",
    "sType='en'"
   ]
  },
  {
   "cell_type": "code",
   "execution_count": 57,
   "id": "33b90b2b-200d-43c7-a493-1a673b70153d",
   "metadata": {},
   "outputs": [],
   "source": [
    "mlp_effects_cache = torch.zeros((model.config.num_hidden_layers, model.config.hidden_size))\n",
    "attn_effects_cache = torch.zeros((model.config.num_hidden_layers, model.config.hidden_size))\n",
    "\n",
    "def attrPatching(fullPrompt, gold):\n",
    "    attn_layer_cache_prompt = {}\n",
    "    mlp_layer_cache_prompt = {}\n",
    "    \n",
    "    attn_layer_cache_patch = {}\n",
    "    mlp_layer_cache_patch = {}\n",
    "    if (gold == 'Yes'):\n",
    "        predictionExample = fullPrompt[fullPrompt[:-2].rfind(':')+1:-2].strip()\n",
    "        patch = og[og[sType] == predictionExample][f\"ng-{sType}\"].iloc[0]\n",
    "        patchPrompt = fullPrompt.replace(predictionExample, patch)\n",
    "    else:\n",
    "        patchPrompt = fullPrompt\n",
    "        patch = fullPrompt[fullPrompt[:-2].rfind(':')+1:-2].strip()\n",
    "        predictionExample = og[og[f\"ng-{sType}\"] == patch][sType].iloc[0]\n",
    "        fullPrompt = patchPrompt.replace(patch, predictionExample)\n",
    "        gold = \"Yes\"\n",
    "\n",
    "    notGold = \"No\"\n",
    "    gold = model.tokenizer(gold)[\"input_ids\"]\n",
    "    notGold = model.tokenizer(notGold)[\"input_ids\"]\n",
    "    \n",
    "    # with torch.no_grad():\n",
    "    #     model.model.layers[31].mlp.down_proj.weight[1239] = torch.zeros_like(model.model.layers[31].mlp.down_proj.weight[1239])\n",
    "\n",
    "    with model.forward(inference=False) as runner:\n",
    "        print(model.model.layers[31].self_attn.o_proj.weight[1239].shape)\n",
    "        with runner.invoke(fullPrompt) as invoker:\n",
    "            for layer in range(len(model.model.layers)):\n",
    "                self_attn = model.model.layers[layer].self_attn.o_proj.output\n",
    "                mlp = model.model.layers[layer].mlp.down_proj.output\n",
    "    \n",
    "                attn_layer_cache_prompt[layer] = {\"forward\": self_attn.detach().save(), \"backward\": self_attn.grad.detach().save()}\n",
    "                mlp_layer_cache_prompt[layer] = {\"forward\": mlp.detach().save(), \"backward\": mlp.grad.detach().save()}\n",
    "            \n",
    "            logits = model.lm_head.output[:, -1, notGold] - model.lm_head.output[:, -1, gold]\n",
    "            loss = logits.sum()\n",
    "            loss.backward(retain_graph=False)\n",
    "    \n",
    "    with model.forward(inference=False) as runner:\n",
    "        with runner.invoke(patchPrompt) as invoker:\n",
    "            for layer in range(len(model.model.layers)):\n",
    "                self_attn = model.model.layers[layer].self_attn.o_proj.output\n",
    "                mlp = model.model.layers[layer].mlp.down_proj.output\n",
    "\n",
    "                attn_layer_cache_patch[layer] = {\"forward\": self_attn.detach().save()}\n",
    "                mlp_layer_cache_patch[layer] = {\"forward\": mlp.detach().save()}\n",
    "    \n",
    "    for layer in range(len(model.model.layers)):\n",
    "        # print(attn_layer_cache_patch[layer]['forward'].shape)\n",
    "        mlp_effects = mlp_layer_cache_prompt[layer][\"backward\"].value * (mlp_layer_cache_patch[layer][\"forward\"].value - mlp_layer_cache_prompt[layer][\"forward\"].value)\n",
    "        attn_effects = attn_layer_cache_prompt[layer][\"backward\"].value * (attn_layer_cache_patch[layer][\"forward\"].value - attn_layer_cache_prompt[layer][\"forward\"].value)\n",
    "\n",
    "        mlp_effects = mlp_effects[:, -1, :] # batch, token, hidden_states\n",
    "        attn_effects = attn_effects[:, -1, :] # batch, token, hidden_states\n",
    "\n",
    "        mlp_effects_cache[layer] += mlp_effects[0].cpu()\n",
    "        attn_effects_cache[layer] += attn_effects[0].cpu()\n"
   ]
  },
  {
   "cell_type": "code",
   "execution_count": 58,
   "id": "7f45bfe4-996e-4a39-a421-2adb2e824a04",
   "metadata": {},
   "outputs": [
    {
     "name": "stderr",
     "output_type": "stream",
     "text": [
      "0it [00:00, ?it/s]"
     ]
    },
    {
     "name": "stdout",
     "output_type": "stream",
     "text": [
      "torch.Size([4096])\n"
     ]
    },
    {
     "name": "stderr",
     "output_type": "stream",
     "text": [
      "1it [00:18, 18.54s/it]\n"
     ]
    }
   ],
   "source": [
    "prompts, golds = get_prompt_from_df(f'/home/gridsan/arunas/broca/llama/experiments/llama-classification-new-prompt-det-{sType}.csv')\n",
    "for prompt,gold in tqdm(zip(prompts[:1], golds[:1])):\n",
    "    attrPatching(prompt, gold)"
   ]
  },
  {
   "cell_type": "code",
   "execution_count": 46,
   "id": "8764bd4b-3d62-42f0-96de-d05d71dfc2b9",
   "metadata": {},
   "outputs": [
    {
     "data": {
      "text/plain": [
       "torch.Size([32, 4096])"
      ]
     },
     "execution_count": 46,
     "metadata": {},
     "output_type": "execute_result"
    }
   ],
   "source": [
    "mlp_effects_cache /= len(prompts)\n",
    "attn_effects_cache /= len(prompts)\n",
    "mlp_effects_cache.size()"
   ]
  },
  {
   "cell_type": "code",
   "execution_count": 55,
   "id": "8879b0c2-9445-40e9-be46-302661bf8068",
   "metadata": {},
   "outputs": [],
   "source": [
    "mlp_effects_cache = torch.nan_to_num(mlp_effects_cache)\n",
    "attn_effects_cache = torch.nan_to_num(attn_effects_cache)"
   ]
  },
  {
   "cell_type": "code",
   "execution_count": 59,
   "id": "55840345-1757-46ed-801c-8574977ef11f",
   "metadata": {},
   "outputs": [
    {
     "data": {
      "text/plain": [
       "tensor(0.0168)"
      ]
     },
     "execution_count": 59,
     "metadata": {},
     "output_type": "execute_result"
    }
   ],
   "source": [
    "mlp_effects_cache[31][1239]"
   ]
  },
  {
   "cell_type": "code",
   "execution_count": 33,
   "id": "f18a29c1-de03-48b2-8f93-7d07911e43bb",
   "metadata": {},
   "outputs": [
    {
     "name": "stdout",
     "output_type": "stream",
     "text": [
      "131072\n"
     ]
    }
   ],
   "source": [
    "flattened_effects_cache = mlp_effects_cache.view(-1)\n",
    "print(flattened_effects_cache.shape[-1])\n",
    "top_neurons = flattened_effects_cache.topk(k=int((0.01 * flattened_effects_cache.shape[-1])))\n",
    "two_d_indices = torch.cat((((top_neurons[1] // mlp_effects_cache.shape[1]).unsqueeze(1)), ((top_neurons[1] % mlp_effects_cache.shape[1]).unsqueeze(1))), dim=1)"
   ]
  },
  {
   "cell_type": "code",
   "execution_count": null,
   "id": "d39b1721-811b-4025-a9a9-23cfb6ac8982",
   "metadata": {},
   "outputs": [],
   "source": [
    "with open(f'mlp/new-prompt-{sType}.pkl', 'wb') as f:\n",
    "    pickle.dump(two_d_indices, f)"
   ]
  },
  {
   "cell_type": "code",
   "execution_count": 52,
   "id": "abc286bc-4cd3-4bad-b302-37a5f072305b",
   "metadata": {},
   "outputs": [],
   "source": [
    "flattened_effects_cache = attn_effects_cache.view(-1)\n",
    "top_neurons = flattened_effects_cache.topk(k=40)\n",
    "two_d_indices = torch.cat((((top_neurons[1] // attn_effects_cache.shape[1]).unsqueeze(1)), ((top_neurons[1] % attn_effects_cache.shape[1]).unsqueeze(1))), dim=1)"
   ]
  },
  {
   "cell_type": "code",
   "execution_count": 26,
   "id": "96792c01-37cf-484d-b597-b98ccaa127f1",
   "metadata": {},
   "outputs": [],
   "source": [
    "with open(f'attn/new-prompt-{sType}.pkl', 'wb') as f:\n",
    "    pickle.dump(two_d_indices, f)"
   ]
  },
  {
   "cell_type": "code",
   "execution_count": 36,
   "id": "6efd3a5f-7e6a-4526-87b5-ce20937ce068",
   "metadata": {},
   "outputs": [
    {
     "data": {
      "text/plain": [
       "MistralForCausalLM(\n",
       "  (model): MistralModel(\n",
       "    (embed_tokens): Embedding(32000, 4096)\n",
       "    (layers): ModuleList(\n",
       "      (0-31): 32 x MistralDecoderLayer(\n",
       "        (self_attn): MistralAttention(\n",
       "          (q_proj): Linear(in_features=4096, out_features=4096, bias=False)\n",
       "          (k_proj): Linear(in_features=4096, out_features=1024, bias=False)\n",
       "          (v_proj): Linear(in_features=4096, out_features=1024, bias=False)\n",
       "          (o_proj): Linear(in_features=4096, out_features=4096, bias=False)\n",
       "          (rotary_emb): MistralRotaryEmbedding()\n",
       "        )\n",
       "        (mlp): MistralMLP(\n",
       "          (gate_proj): Linear(in_features=4096, out_features=14336, bias=False)\n",
       "          (up_proj): Linear(in_features=4096, out_features=14336, bias=False)\n",
       "          (down_proj): Linear(in_features=14336, out_features=4096, bias=False)\n",
       "          (act_fn): SiLUActivation()\n",
       "        )\n",
       "        (input_layernorm): MistralRMSNorm()\n",
       "        (post_attention_layernorm): MistralRMSNorm()\n",
       "      )\n",
       "    )\n",
       "    (norm): MistralRMSNorm()\n",
       "  )\n",
       "  (lm_head): Linear(in_features=4096, out_features=32000, bias=False)\n",
       ")"
      ]
     },
     "execution_count": 36,
     "metadata": {},
     "output_type": "execute_result"
    }
   ],
   "source": []
  },
  {
   "cell_type": "code",
   "execution_count": 41,
   "id": "ce97ed4d-5d82-4e71-8f99-e0db9e60c926",
   "metadata": {},
   "outputs": [
    {
     "data": {
      "text/plain": [
       "Parameter containing:\n",
       "tensor(..., device='meta', size=(4096, 4096), requires_grad=True)"
      ]
     },
     "execution_count": 41,
     "metadata": {},
     "output_type": "execute_result"
    }
   ],
   "source": [
    "a = model.model.layers[0].self_attn.o_proj.weight\n",
    "a\n",
    "# for layer_idx in range(num_layers):\n",
    "#     attention_layer = model.model.layers[layer_idx].self_attn\n",
    "#     print(attention_layer.num_heads, attention_layer.o_proj.out_features)\n",
    "#     num_heads = attention_layer.o_proj.out_features // attention_layer.num_heads\n",
    "#     print(f\"Layer {layer_idx}: {num_heads} attention heads\")"
   ]
  },
  {
   "cell_type": "code",
   "execution_count": null,
   "id": "557221b7-0129-4c12-980f-26cb4e6f7717",
   "metadata": {},
   "outputs": [],
   "source": []
  }
 ],
 "metadata": {
  "kernelspec": {
   "display_name": "Python 3 (ipykernel)",
   "language": "python",
   "name": "python3"
  },
  "language_info": {
   "codemirror_mode": {
    "name": "ipython",
    "version": 3
   },
   "file_extension": ".py",
   "mimetype": "text/x-python",
   "name": "python",
   "nbconvert_exporter": "python",
   "pygments_lexer": "ipython3",
   "version": "3.10.12"
  }
 },
 "nbformat": 4,
 "nbformat_minor": 5
}
